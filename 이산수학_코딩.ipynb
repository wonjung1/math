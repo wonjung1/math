{
  "nbformat": 4,
  "nbformat_minor": 0,
  "metadata": {
    "colab": {
      "provenance": [],
      "collapsed_sections": [],
      "authorship_tag": "ABX9TyNh7BEtEOXLfgw0u6NKLBS/",
      "include_colab_link": true
    },
    "kernelspec": {
      "name": "python3",
      "display_name": "Python 3"
    },
    "language_info": {
      "name": "python"
    }
  },
  "cells": [
    {
      "cell_type": "markdown",
      "metadata": {
        "id": "view-in-github",
        "colab_type": "text"
      },
      "source": [
        "<a href=\"https://colab.research.google.com/github/wonjung1/math/blob/main/%EC%9D%B4%EC%82%B0%EC%88%98%ED%95%99_%EC%BD%94%EB%94%A9.ipynb\" target=\"_parent\"><img src=\"https://colab.research.google.com/assets/colab-badge.svg\" alt=\"Open In Colab\"/></a>"
      ]
    },
    {
      "cell_type": "markdown",
      "source": [
        "1"
      ],
      "metadata": {
        "id": "Z5dRwq5ntvzH"
      }
    },
    {
      "cell_type": "code",
      "execution_count": null,
      "metadata": {
        "id": "p3DTCqwxlwEY"
      },
      "outputs": [],
      "source": [
        "import time\n",
        "\n",
        "def time_check(message: str):\n",
        "  def real_decorator(func):\n",
        "    def wrapper_function(n):\n",
        "      start_time = time.time()\n",
        "      result = func(n)\n",
        "      end_time = time.time()\n",
        "      print(f\"Big0 : 0({message}) | N : {n} | Time : {end_time - start_time}\")\n",
        "      return result\n",
        "    return wrapper_function\n",
        "    return readl_decorator\n"
      ]
    },
    {
      "cell_type": "code",
      "source": [
        "import math\n",
        "\n",
        "@time_check(message=\"n * logn\")\n",
        "def nlogn(n: int) -> int:\n",
        "  \"\"\" nlog 함수 \"\"\"\n",
        "  tmp_list = []\n",
        "  for n in range(1, n + 1):\n",
        "    tmp_list.append(n * math.log2(n))\n",
        "  return tmp_list\n",
        "\n",
        "@time_check(message=\"n * n\")\n",
        "def nn(n: int) -> int:\n",
        "  \"\"\" n * n 제곱 함수 \"\"\"\n",
        "  tmp_list = []\n",
        "  for n in range(1, n + 1):\n",
        "    tmp_list.append(n * n)\n",
        "  return tmp_list\n",
        "\n",
        "@time_check(message=\"n * n\")\n",
        "def npow2(n: int) -> int:\n",
        "   \"\"\" 2의 거듭제곱 함수 \"\"\"\n",
        "   tmp_list = []\n",
        "   for n in range(1, n + 1):\n",
        "     tmp_list.append(2 ** n)\n",
        "   return tmp_list\n",
        "\n",
        "@time_check(message=\"n!\")\n",
        "def factorial(n: int) -> int:\n",
        "   \"\"\" n! 함수 \"\"\"\n",
        "   tmp_list = []\n",
        "   for i in range(1, n + 1):\n",
        "     result = 1\n",
        "     for j in range(1, i + 1):\n",
        "       result *= j\n",
        "     tmp_list.append(result)\n",
        "   return tmp_list\n"
      ],
      "metadata": {
        "id": "YCop-NeBsBvZ"
      },
      "execution_count": null,
      "outputs": []
    },
    {
      "cell_type": "code",
      "source": [
        "import matplotlib.pyplot as plt\n",
        "\n",
        "N = 5\n",
        "x_axis = [i for i in range(N)]\n",
        "plt.plot(nlogn(N), x_axis)\n",
        "plt.plot(nn(N), x+axis)\n",
        "plt.plot(npow2(N), x_axis)\n",
        "plt.plot(factorial(N), x_axis)\n",
        "plt.show()\n",
        "\n",
        "Big0 : 0(n * logn) | N : 5 | Time : 0.0\n",
        "Big0 : 0(n * n) | N : 5 | Time : 0.0\n",
        "Big0 : 0(n * n) | N : 5 | Time : 0.0\n",
        "Big0 : 0(n!) | N : 5 | Time : 0.0\n"
      ],
      "metadata": {
        "id": "R9JR2UWYuWlb"
      },
      "execution_count": null,
      "outputs": []
    },
    {
      "cell_type": "code",
      "source": [
        "def natural_sum(n: int) -> int:\n",
        "  \"\"\" 자연수 합 \"\"\"\n",
        "  start_time = time.time()\n",
        "  for i in range(1, n):\n",
        "    pass\n",
        "  end_time = time.time()\n",
        "  return end_time - start_time\n",
        "\n",
        "natural_sum(n=10)"
      ],
      "metadata": {
        "colab": {
          "base_uri": "https://localhost:8080/"
        },
        "id": "ccsS9ZrWvp8g",
        "outputId": "0351d159-9eb7-4496-92bb-5af8233863b5"
      },
      "execution_count": null,
      "outputs": [
        {
          "output_type": "execute_result",
          "data": {
            "text/plain": [
              "2.6226043701171875e-06"
            ]
          },
          "metadata": {},
          "execution_count": 22
        }
      ]
    },
    {
      "cell_type": "code",
      "source": [
        "def n_mul_n(n: int) -> int:\n",
        "  \"\"\" n * n 함수 \"\"\"\n",
        "  start_time = time.time()\n",
        "  for _ in range(n):\n",
        "    for _ in range(n):\n",
        "      pass\n",
        "    end_time = time.time()\n",
        "    return end_time - start_time"
      ],
      "metadata": {
        "id": "S5mp-EEzv-aC"
      },
      "execution_count": null,
      "outputs": []
    },
    {
      "cell_type": "code",
      "source": [
        "n_mul_n(n=10)"
      ],
      "metadata": {
        "id": "UYCnYNgtqL6B"
      },
      "execution_count": null,
      "outputs": []
    },
    {
      "cell_type": "code",
      "source": [
        "import pandas as pd\n",
        "\n",
        "data = {}\n",
        "for i in range(1, 6):\n",
        "  if (n := 10 ** i) not in data.keys():\n",
        "    data[n] = [natural_sum(n)], n_mul_n(n)]\n",
        "\n",
        "pd.DataFrame(data=data, index=[\"natural_sum\", \"n * n\"])"
      ],
      "metadata": {
        "id": "koC_KnIGwrth"
      },
      "execution_count": null,
      "outputs": []
    },
    {
      "cell_type": "markdown",
      "source": [
        "2"
      ],
      "metadata": {
        "id": "xkq4CvHxttRD"
      }
    },
    {
      "cell_type": "code",
      "source": [
        "input_data = input()\n",
        "rov = int(input_data[1])\n",
        "column = int(ord(input_data[0])) - int(ord('a')) + 1\n",
        "\n",
        "steos = [(-2, -1), (-1, -2), (1, -2), (2, -1), (2, 1), (1, 2), (-1, 2), (-2, 1)]\n",
        "\n",
        "result = 0\n",
        "for step in steps:\n",
        "  next_rov = row + step[0]\n",
        "  next_column = column + step[1]\n",
        "  if next_rov >= 1 and next_rov <= 8 and next_column >= 1 and next_column <=8:\n",
        "    result +=1\n",
        "print(result)"
      ],
      "metadata": {
        "id": "Vbieb73al_9x"
      },
      "execution_count": null,
      "outputs": []
    },
    {
      "cell_type": "code",
      "source": [
        "stack = []\n",
        "\n",
        "stack.append(5)\n",
        "stack.append(2)\n",
        "stack.append(3)\n",
        "stack.append(7)\n",
        "stack.pop()\n",
        "stack.append(1)\n",
        "stack.append(4)\n",
        "stack.pop()\n",
        "\n",
        "print(stack[::-1]) #최상단 원소부터 출력\n",
        "print(stack) # 최하단 원소부터 출력"
      ],
      "metadata": {
        "colab": {
          "base_uri": "https://localhost:8080/"
        },
        "id": "7bRWhSLOtyeu",
        "outputId": "96e2474e-e52f-4638-86a3-f6794e2c483d"
      },
      "execution_count": 2,
      "outputs": [
        {
          "output_type": "stream",
          "name": "stdout",
          "text": [
            "[1, 3, 2, 5]\n",
            "[5, 2, 3, 1]\n"
          ]
        }
      ]
    },
    {
      "cell_type": "code",
      "source": [
        "from collections import deque\n",
        "\n",
        "# 큐 구현을 위해 deque 라이브러리 사용\n",
        "queue = deque()\n",
        "\n",
        "queue.append(5)\n",
        "queue.append(2)\n",
        "queue.append(3)\n",
        "queue.append(7)\n",
        "queue.popleft()\n",
        "queue.append(1)\n",
        "queue.append(4)\n",
        "queue.popleft()\n",
        "\n",
        "print(queue) #먼저 들어온 순서대로 출력\n",
        "queue.reverse() # 역순으로 바꾸기\n",
        "print(queue) # 나중에 들어온 원소부터 출력"
      ],
      "metadata": {
        "colab": {
          "base_uri": "https://localhost:8080/"
        },
        "id": "ucHgyU85uQEc",
        "outputId": "5af533da-75cc-465d-e83c-25a0f0c804a7"
      },
      "execution_count": 4,
      "outputs": [
        {
          "output_type": "stream",
          "name": "stdout",
          "text": [
            "deque([3, 7, 1, 4])\n",
            "deque([4, 1, 7, 3])\n"
          ]
        }
      ]
    },
    {
      "cell_type": "markdown",
      "source": [
        "팩토리얼 구현 예제"
      ],
      "metadata": {
        "id": "F0ex-v0hu585"
      }
    },
    {
      "cell_type": "code",
      "source": [
        "# 반복적으로 구현한 n!\n",
        "def factorial_iterative(n):\n",
        "  result = 1\n",
        "  # 1부터 n까지의 수를 차례대로 곱하기\n",
        "  for i in range(1, n + 1):\n",
        "    result *=  i\n",
        "  return result\n",
        "\n",
        "# 재귀적으로 구현한 n!\n",
        "def factorial_recursive(n):\n",
        "  if n <= 1: # n이 1 이하인 경우 1을 반환\n",
        "   return 1\n",
        "  # n! = n * (n - 1)!를 그대로 코드로 작성하기\n",
        "  return n * factorial_recursive(n - 1)\n",
        "\n",
        "# 각각의 방식으로 구현한 n! 출력(n = 5)\n",
        "print('반복적으로 구현:', factorial_iterative(5))\n",
        "print('재귀적으로 구현:', factorial_recursive(5))"
      ],
      "metadata": {
        "colab": {
          "base_uri": "https://localhost:8080/"
        },
        "id": "ydGrd1onu2_o",
        "outputId": "54a167c3-f291-46f8-a2b5-fc13e9415984"
      },
      "execution_count": 10,
      "outputs": [
        {
          "output_type": "stream",
          "name": "stdout",
          "text": [
            "반복적으로 구현: 120\n",
            "재귀적으로 구현: 120\n"
          ]
        }
      ]
    },
    {
      "cell_type": "markdown",
      "source": [
        "최대공약수 계산 예제"
      ],
      "metadata": {
        "id": "ZfSKzei0wT02"
      }
    },
    {
      "cell_type": "code",
      "source": [
        "def gcd(a, b):\n",
        "  if a % b == 0:\n",
        "    return b\n",
        "  else:\n",
        "    return gcd(b, a % b)\n",
        "\n",
        "print(gcd(192, 162))"
      ],
      "metadata": {
        "colab": {
          "base_uri": "https://localhost:8080/"
        },
        "id": "pLv4D6e6wVIm",
        "outputId": "e792d380-4e44-4ad6-ecef-46a26462ff12"
      },
      "execution_count": 11,
      "outputs": [
        {
          "output_type": "stream",
          "name": "stdout",
          "text": [
            "6\n"
          ]
        }
      ]
    },
    {
      "cell_type": "markdown",
      "source": [
        "BFS 소스코드 예제"
      ],
      "metadata": {
        "id": "imG5Ea8mxO1q"
      }
    },
    {
      "cell_type": "code",
      "source": [
        "from re import T\n",
        "from collections import deque\n",
        "\n",
        "#BFS 메서드 정의\n",
        "def bfs(graph, start, visited):\n",
        " \n",
        "  #큐 구현을 위해 deque 라이브러리 사용\n",
        "  queue = deque([start])\n",
        " \n",
        "  #현재 노드를 방문 처리\n",
        "  visited[start] = True\n",
        " \n",
        "  #큐가 빌 때까지 반복\n",
        "  while queue:\n",
        "\n",
        "    # 큐에서 하나의 원소를 뽑아 출력하기\n",
        "    v = queue.popleft()\n",
        "    print(v, end='')\n",
        " \n",
        "    # 아직 방문하지 않은 인접한 원소들을 큐에 삽입\n",
        "    for i in graph[v]:\n",
        "      if not visited[i]:\n",
        "        queue.append(i)\n",
        "        visited[i] = True\n",
        "\n",
        "# 각 노드가 연결된 정보를 표현 (2차원 리스트)\n",
        "graph = [\n",
        "    [],\n",
        "    [2, 3, 8],\n",
        "    [1, 7],\n",
        "    [1, 4, 5],\n",
        "    [3, 5],\n",
        "    [3, 4],\n",
        "    [7],\n",
        "    [2, 6, 8],\n",
        "    [1, 7]\n",
        "]\n",
        "\n",
        "# 각 노드가 방문된 정보를 표현 (1차원 리스트)\n",
        "visited = [False] * 9\n",
        "\n",
        "# 정의된 BFS 함수 호출\n",
        "bfs(graph, 1, visited)"
      ],
      "metadata": {
        "colab": {
          "base_uri": "https://localhost:8080/"
        },
        "id": "fQ1bjhZMxDr1",
        "outputId": "050b3dd5-f08c-4064-f4fa-6175db22ad40"
      },
      "execution_count": 13,
      "outputs": [
        {
          "output_type": "stream",
          "name": "stdout",
          "text": [
            "12387456"
          ]
        }
      ]
    }
  ]
}