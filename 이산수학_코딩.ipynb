{
  "nbformat": 4,
  "nbformat_minor": 0,
  "metadata": {
    "colab": {
      "provenance": [],
      "collapsed_sections": [],
      "authorship_tag": "ABX9TyPe1FYm9+yq45jorY6wwSPi",
      "include_colab_link": true
    },
    "kernelspec": {
      "name": "python3",
      "display_name": "Python 3"
    },
    "language_info": {
      "name": "python"
    }
  },
  "cells": [
    {
      "cell_type": "markdown",
      "metadata": {
        "id": "view-in-github",
        "colab_type": "text"
      },
      "source": [
        "<a href=\"https://colab.research.google.com/github/wonjung1/math/blob/main/%EC%9D%B4%EC%82%B0%EC%88%98%ED%95%99_%EC%BD%94%EB%94%A9.ipynb\" target=\"_parent\"><img src=\"https://colab.research.google.com/assets/colab-badge.svg\" alt=\"Open In Colab\"/></a>"
      ]
    },
    {
      "cell_type": "markdown",
      "source": [
        "1"
      ],
      "metadata": {
        "id": "Z5dRwq5ntvzH"
      }
    },
    {
      "cell_type": "code",
      "execution_count": null,
      "metadata": {
        "id": "p3DTCqwxlwEY"
      },
      "outputs": [],
      "source": [
        "import time\n",
        "\n",
        "def time_check(message: str):\n",
        "  def real_decorator(func):\n",
        "    def wrapper_function(n):\n",
        "      start_time = time.time()\n",
        "      result = func(n)\n",
        "      end_time = time.time()\n",
        "      print(f\"Big0 : 0({message}) | N : {n} | Time : {end_time - start_time}\")\n",
        "      return result\n",
        "    return wrapper_function\n",
        "    return readl_decorator\n"
      ]
    },
    {
      "cell_type": "code",
      "source": [
        "import math\n",
        "\n",
        "@time_check(message=\"n * logn\")\n",
        "def nlogn(n: int) -> int:\n",
        "  \"\"\" nlog 함수 \"\"\"\n",
        "  tmp_list = []\n",
        "  for n in range(1, n + 1):\n",
        "    tmp_list.append(n * math.log2(n))\n",
        "  return tmp_list\n",
        "\n",
        "@time_check(message=\"n * n\")\n",
        "def nn(n: int) -> int:\n",
        "  \"\"\" n * n 제곱 함수 \"\"\"\n",
        "  tmp_list = []\n",
        "  for n in range(1, n + 1):\n",
        "    tmp_list.append(n * n)\n",
        "  return tmp_list\n",
        "\n",
        "@time_check(message=\"n * n\")\n",
        "def npow2(n: int) -> int:\n",
        "   \"\"\" 2의 거듭제곱 함수 \"\"\"\n",
        "   tmp_list = []\n",
        "   for n in range(1, n + 1):\n",
        "     tmp_list.append(2 ** n)\n",
        "   return tmp_list\n",
        "\n",
        "@time_check(message=\"n!\")\n",
        "def factorial(n: int) -> int:\n",
        "   \"\"\" n! 함수 \"\"\"\n",
        "   tmp_list = []\n",
        "   for i in range(1, n + 1):\n",
        "     result = 1\n",
        "     for j in range(1, i + 1):\n",
        "       result *= j\n",
        "     tmp_list.append(result)\n",
        "   return tmp_list\n"
      ],
      "metadata": {
        "id": "YCop-NeBsBvZ"
      },
      "execution_count": null,
      "outputs": []
    },
    {
      "cell_type": "code",
      "source": [
        "import matplotlib.pyplot as plt\n",
        "\n",
        "N = 5\n",
        "x_axis = [i for i in range(N)]\n",
        "plt.plot(nlogn(N), x_axis)\n",
        "plt.plot(nn(N), x+axis)\n",
        "plt.plot(npow2(N), x_axis)\n",
        "plt.plot(factorial(N), x_axis)\n",
        "plt.show()\n",
        "\n",
        "Big0 : 0(n * logn) | N : 5 | Time : 0.0\n",
        "Big0 : 0(n * n) | N : 5 | Time : 0.0\n",
        "Big0 : 0(n * n) | N : 5 | Time : 0.0\n",
        "Big0 : 0(n!) | N : 5 | Time : 0.0\n"
      ],
      "metadata": {
        "id": "R9JR2UWYuWlb"
      },
      "execution_count": null,
      "outputs": []
    },
    {
      "cell_type": "code",
      "source": [
        "def natural_sum(n: int) -> int:\n",
        "  \"\"\" 자연수 합 \"\"\"\n",
        "  start_time = time.time()\n",
        "  for i in range(1, n):\n",
        "    pass\n",
        "  end_time = time.time()\n",
        "  return end_time - start_time\n",
        "\n",
        "natural_sum(n=10)"
      ],
      "metadata": {
        "colab": {
          "base_uri": "https://localhost:8080/"
        },
        "id": "ccsS9ZrWvp8g",
        "outputId": "0351d159-9eb7-4496-92bb-5af8233863b5"
      },
      "execution_count": null,
      "outputs": [
        {
          "output_type": "execute_result",
          "data": {
            "text/plain": [
              "2.6226043701171875e-06"
            ]
          },
          "metadata": {},
          "execution_count": 22
        }
      ]
    },
    {
      "cell_type": "code",
      "source": [
        "def n_mul_n(n: int) -> int:\n",
        "  \"\"\" n * n 함수 \"\"\"\n",
        "  start_time = time.time()\n",
        "  for _ in range(n):\n",
        "    for _ in range(n):\n",
        "      pass\n",
        "    end_time = time.time()\n",
        "    return end_time - start_time"
      ],
      "metadata": {
        "id": "S5mp-EEzv-aC"
      },
      "execution_count": null,
      "outputs": []
    },
    {
      "cell_type": "code",
      "source": [
        "n_mul_n(n=10)"
      ],
      "metadata": {
        "id": "UYCnYNgtqL6B"
      },
      "execution_count": null,
      "outputs": []
    },
    {
      "cell_type": "code",
      "source": [
        "import pandas as pd\n",
        "\n",
        "data = {}\n",
        "for i in range(1, 6):\n",
        "  if (n := 10 ** i) not in data.keys():\n",
        "    data[n] = [natural_sum(n)], n_mul_n(n)]\n",
        "\n",
        "pd.DataFrame(data=data, index=[\"natural_sum\", \"n * n\"])"
      ],
      "metadata": {
        "id": "koC_KnIGwrth"
      },
      "execution_count": null,
      "outputs": []
    },
    {
      "cell_type": "markdown",
      "source": [
        "2"
      ],
      "metadata": {
        "id": "xkq4CvHxttRD"
      }
    },
    {
      "cell_type": "code",
      "source": [
        "input_data = input()\n",
        "rov = int(input_data[1])\n",
        "column = int(ord(input_data[0])) - int(ord('a')) + 1\n",
        "\n",
        "steos = [(-2, -1), (-1, -2), (1, -2), (2, -1), (2, 1), (1, 2), (-1, 2), (-2, 1)]\n",
        "\n",
        "result = 0\n",
        "for step in steps:\n",
        "  next_rov = row + step[0]\n",
        "  next_column = column + step[1]\n",
        "  if next_rov >= 1 and next_rov <= 8 and next_column >= 1 and next_column <=8:\n",
        "    result +=1\n",
        "print(result)"
      ],
      "metadata": {
        "id": "Vbieb73al_9x"
      },
      "execution_count": null,
      "outputs": []
    },
    {
      "cell_type": "code",
      "source": [
        "stack = []\n",
        "\n",
        "stack.append(5)\n",
        "stack.append(2)\n",
        "stack.append(3)\n",
        "stack.append(7)\n",
        "stack.pop()\n",
        "stack.append(1)\n",
        "stack.append(4)\n",
        "stack.pop()\n",
        "\n",
        "print(stack[::-1]) #최상단 원소부터 출력\n",
        "print(stack) # 최하단 원소부터 출력"
      ],
      "metadata": {
        "colab": {
          "base_uri": "https://localhost:8080/"
        },
        "id": "7bRWhSLOtyeu",
        "outputId": "96e2474e-e52f-4638-86a3-f6794e2c483d"
      },
      "execution_count": null,
      "outputs": [
        {
          "output_type": "stream",
          "name": "stdout",
          "text": [
            "[1, 3, 2, 5]\n",
            "[5, 2, 3, 1]\n"
          ]
        }
      ]
    },
    {
      "cell_type": "code",
      "source": [
        "from collections import deque\n",
        "\n",
        "# 큐 구현을 위해 deque 라이브러리 사용\n",
        "queue = deque()\n",
        "\n",
        "queue.append(5)\n",
        "queue.append(2)\n",
        "queue.append(3)\n",
        "queue.append(7)\n",
        "queue.popleft()\n",
        "queue.append(1)\n",
        "queue.append(4)\n",
        "queue.popleft()\n",
        "\n",
        "print(queue) #먼저 들어온 순서대로 출력\n",
        "queue.reverse() # 역순으로 바꾸기\n",
        "print(queue) # 나중에 들어온 원소부터 출력"
      ],
      "metadata": {
        "colab": {
          "base_uri": "https://localhost:8080/"
        },
        "id": "ucHgyU85uQEc",
        "outputId": "5af533da-75cc-465d-e83c-25a0f0c804a7"
      },
      "execution_count": null,
      "outputs": [
        {
          "output_type": "stream",
          "name": "stdout",
          "text": [
            "deque([3, 7, 1, 4])\n",
            "deque([4, 1, 7, 3])\n"
          ]
        }
      ]
    },
    {
      "cell_type": "markdown",
      "source": [
        "팩토리얼 구현 예제"
      ],
      "metadata": {
        "id": "F0ex-v0hu585"
      }
    },
    {
      "cell_type": "code",
      "source": [
        "# 반복적으로 구현한 n!\n",
        "def factorial_iterative(n):\n",
        "  result = 1\n",
        "  # 1부터 n까지의 수를 차례대로 곱하기\n",
        "  for i in range(1, n + 1):\n",
        "    result *=  i\n",
        "  return result\n",
        "\n",
        "# 재귀적으로 구현한 n!\n",
        "def factorial_recursive(n):\n",
        "  if n <= 1: # n이 1 이하인 경우 1을 반환\n",
        "   return 1\n",
        "  # n! = n * (n - 1)!를 그대로 코드로 작성하기\n",
        "  return n * factorial_recursive(n - 1)\n",
        "\n",
        "# 각각의 방식으로 구현한 n! 출력(n = 5)\n",
        "print('반복적으로 구현:', factorial_iterative(5))\n",
        "print('재귀적으로 구현:', factorial_recursive(5))"
      ],
      "metadata": {
        "colab": {
          "base_uri": "https://localhost:8080/"
        },
        "id": "ydGrd1onu2_o",
        "outputId": "54a167c3-f291-46f8-a2b5-fc13e9415984"
      },
      "execution_count": null,
      "outputs": [
        {
          "output_type": "stream",
          "name": "stdout",
          "text": [
            "반복적으로 구현: 120\n",
            "재귀적으로 구현: 120\n"
          ]
        }
      ]
    },
    {
      "cell_type": "markdown",
      "source": [
        "최대공약수 계산 예제"
      ],
      "metadata": {
        "id": "ZfSKzei0wT02"
      }
    },
    {
      "cell_type": "code",
      "source": [
        "def gcd(a, b):\n",
        "  if a % b == 0:\n",
        "    return b\n",
        "  else:\n",
        "    return gcd(b, a % b)\n",
        "\n",
        "print(gcd(192, 162))"
      ],
      "metadata": {
        "colab": {
          "base_uri": "https://localhost:8080/"
        },
        "id": "pLv4D6e6wVIm",
        "outputId": "e792d380-4e44-4ad6-ecef-46a26462ff12"
      },
      "execution_count": null,
      "outputs": [
        {
          "output_type": "stream",
          "name": "stdout",
          "text": [
            "6\n"
          ]
        }
      ]
    },
    {
      "cell_type": "markdown",
      "source": [
        "BFS 소스코드 예제"
      ],
      "metadata": {
        "id": "imG5Ea8mxO1q"
      }
    },
    {
      "cell_type": "code",
      "source": [
        "from re import T\n",
        "from collections import deque\n",
        "\n",
        "#BFS 메서드 정의\n",
        "def bfs(graph, start, visited):\n",
        " \n",
        "  #큐 구현을 위해 deque 라이브러리 사용\n",
        "  queue = deque([start])\n",
        " \n",
        "  #현재 노드를 방문 처리\n",
        "  visited[start] = True\n",
        " \n",
        "  #큐가 빌 때까지 반복\n",
        "  while queue:\n",
        "\n",
        "    # 큐에서 하나의 원소를 뽑아 출력하기\n",
        "    v = queue.popleft()\n",
        "    print(v, end='')\n",
        " \n",
        "    # 아직 방문하지 않은 인접한 원소들을 큐에 삽입\n",
        "    for i in graph[v]:\n",
        "      if not visited[i]:\n",
        "        queue.append(i)\n",
        "        visited[i] = True\n",
        "\n",
        "# 각 노드가 연결된 정보를 표현 (2차원 리스트)\n",
        "graph = [\n",
        "    [],\n",
        "    [2, 3, 8],\n",
        "    [1, 7],\n",
        "    [1, 4, 5],\n",
        "    [3, 5],\n",
        "    [3, 4],\n",
        "    [7],\n",
        "    [2, 6, 8],\n",
        "    [1, 7]\n",
        "]\n",
        "\n",
        "# 각 노드가 방문된 정보를 표현 (1차원 리스트)\n",
        "visited = [False] * 9\n",
        "\n",
        "# 정의된 BFS 함수 호출\n",
        "bfs(graph, 1, visited)"
      ],
      "metadata": {
        "colab": {
          "base_uri": "https://localhost:8080/"
        },
        "id": "fQ1bjhZMxDr1",
        "outputId": "050b3dd5-f08c-4064-f4fa-6175db22ad40"
      },
      "execution_count": null,
      "outputs": [
        {
          "output_type": "stream",
          "name": "stdout",
          "text": [
            "12387456"
          ]
        }
      ]
    },
    {
      "cell_type": "markdown",
      "source": [
        "삽입 정렬 소스코드"
      ],
      "metadata": {
        "id": "eNDiZU6dU2Mw"
      }
    },
    {
      "cell_type": "code",
      "source": [
        "array = [7, 5, 9, 0, 3, 1, 6, 2, 4, 8]\n",
        "\n",
        "for i in range(1, len(array)):\n",
        "  for j in range(i, 0, -1): # 인덱스 i부터 1까지 1씩 감소하며 반복하는 문법"
      ],
      "metadata": {
        "id": "Nu6hoWDiJSZp"
      },
      "execution_count": null,
      "outputs": []
    },
    {
      "cell_type": "markdown",
      "source": [
        "이진 탐색 소스코드"
      ],
      "metadata": {
        "id": "bhWm3c89mL97"
      }
    },
    {
      "cell_type": "code",
      "source": [
        "# 이진 탐색 소스코드 구현 (반복문)\n",
        "def binary_search(array, target, start, end):\n",
        "  while start <= end:\n",
        "    mid = (start + end) // 2\n",
        "    # 찾은 경우 중간점 인덱스 반환\n",
        "    if array[mid] == target:\n",
        "      return mid\n",
        "    # 중간점의 값보다 찾는 값이 작은 경우 왼쪽 확인\n",
        "    elif array[mid] > target:\n",
        "      end = mid - 1\n",
        "    # 중간점의 값보다 찾는 값이 큰 경우 오른쪽 환인\n",
        "    else:\n",
        "      start = mid + 1\n",
        "  return None\n",
        "\n",
        "# n(원소의 개수)과 target(찾고자 하는 값)을 입력 받기\n",
        "n, target = list(map(int, input().split()))\n",
        "# 전체 원소 입력 받기\n",
        "array = list(map(int, input().split()))\n",
        "\n",
        "# 이진 탐색 수행 결과 출력\n",
        "result = binary_search(array, target, 0, n - 1)\n",
        "if result == None:\n",
        "  print(\"원소가 존재하지 않습니다.\")\n",
        "else:\n",
        "  print(result + 1)"
      ],
      "metadata": {
        "id": "t8IbN5yXmNpt"
      },
      "execution_count": null,
      "outputs": []
    },
    {
      "cell_type": "code",
      "source": [
        "def sequential_search(n, target, array):\n",
        "  for i in range(n):\n",
        "    if array[i] == target:\n",
        "      return i + 1\n",
        "  return -1\n",
        "  print(\"생성할 원소 개수를 입력한 다음 한 칸 띄고 찾을 문자열을 입력하세요.\")\n",
        "  input_data = input().split()\n",
        "  n = int(input_data[0])\n",
        "  target = input_data[1]\n",
        "\n",
        "  print(\"앞서 적은 원소 개수만큼 문자열을 입력하세요. 구분은 띄어쓰기 한 칸으로 합니다.\")\n",
        "  array = input().split()\n",
        "\n",
        "  print(sequential_search(n, target, array))"
      ],
      "metadata": {
        "id": "tCwYI4K_szJ_"
      },
      "execution_count": null,
      "outputs": []
    },
    {
      "cell_type": "code",
      "source": [
        "n,k=map(int, input().split())\n",
        "\n",
        "a=list(map(input().split()))\n",
        "b=list(map(input().split()))\n",
        "a.sort()\n",
        "b.sort(reverse=True)\n",
        "\n",
        "for i in range(k):\n",
        "  if b[i]>a[i]: a[i]=b[i]\n",
        "print(sum(a))"
      ],
      "metadata": {
        "id": "c3eBe_w0tWry"
      },
      "execution_count": null,
      "outputs": []
    },
    {
      "cell_type": "markdown",
      "source": [
        "피보나치 수열:단순 재귀 소스코드"
      ],
      "metadata": {
        "id": "oUrlH7uswh8b"
      }
    },
    {
      "cell_type": "code",
      "source": [
        "# 피보나치 함수를 재귀함수로 구현\n",
        "def fibo(x):\n",
        "  if x == 1 or x == 2:\n",
        "    return 1\n",
        "  return fibo(x - 1) + fibo(x - 2)\n",
        "\n",
        "print(fibo(4))"
      ],
      "metadata": {
        "colab": {
          "base_uri": "https://localhost:8080/"
        },
        "id": "yTzCHkzdwlJj",
        "outputId": "ee7a1f16-98e0-4125-b84b-53d2c8e436f2"
      },
      "execution_count": null,
      "outputs": [
        {
          "output_type": "stream",
          "name": "stdout",
          "text": [
            "3\n"
          ]
        }
      ]
    },
    {
      "cell_type": "markdown",
      "source": [
        "피보나치 수열 : 탑다운 다이나믹 프로그래밍 소스코드"
      ],
      "metadata": {
        "id": "piEWIAdiuaix"
      }
    },
    {
      "cell_type": "code",
      "source": [
        "# 한 번 계싼된 결과를 메모이제이션하기 위한 리스트 초기화\n",
        "d = [0] * 100\n",
        "\n",
        "# 피보나치 함수를 재귀함수로 구현\n",
        "def fibo(x):\n",
        "# 종료 조건\n",
        "  if x == 1 or x == 2:\n",
        "    return 1\n",
        "# 이미 계산한 적 있는 문제라면 그대로 반환\n",
        "  if d[x] != 0:\n",
        "     return d[x]\n",
        "# 아직 계산하지 않은 문제라면 점화식에 따라서 피보나치 결과 반환\n",
        "  d[x] = fibo(x - 1) + fibo(x - 2)\n",
        "  return d[x]\n",
        "\n",
        "print(fibo(99))"
      ],
      "metadata": {
        "colab": {
          "base_uri": "https://localhost:8080/"
        },
        "id": "rqgE9I9_sfxU",
        "outputId": "985e54b7-8d3f-45a1-a5e8-2a7c9cff3921"
      },
      "execution_count": null,
      "outputs": [
        {
          "output_type": "stream",
          "name": "stdout",
          "text": [
            "218922995834555169026\n"
          ]
        }
      ]
    },
    {
      "cell_type": "markdown",
      "source": [
        "피보나치 수열: 메모이제이션 동작 분석"
      ],
      "metadata": {
        "id": "eozYKe0TxQWK"
      }
    },
    {
      "cell_type": "code",
      "source": [
        "d = [0] * 100\n",
        "\n",
        "def pibo(x):\n",
        "  print('f(' + str(x) + ')', end='')\n",
        "  if x == 1 or x == 2:\n",
        "    return 1\n",
        "  if d[x] != 0:\n",
        "    return d[x]\n",
        "  d[x] = pibo(x - 1) + pibo(x - 2)\n",
        "  return d[x]\n",
        "\n",
        "pibo(6)"
      ],
      "metadata": {
        "colab": {
          "base_uri": "https://localhost:8080/"
        },
        "id": "Hu2ty1_PwJHw",
        "outputId": "cb382897-87ee-429c-e1ef-957129e9eeb1"
      },
      "execution_count": null,
      "outputs": [
        {
          "output_type": "stream",
          "name": "stdout",
          "text": [
            "f(6)f(5)f(4)f(3)f(2)f(1)f(2)f(3)f(4)"
          ]
        },
        {
          "output_type": "execute_result",
          "data": {
            "text/plain": [
              "8"
            ]
          },
          "metadata": {},
          "execution_count": 6
        }
      ]
    },
    {
      "cell_type": "markdown",
      "source": [],
      "metadata": {
        "id": "K48t7Q2CxWUu"
      }
    },
    {
      "cell_type": "code",
      "source": [
        "# 앞서 계산된 결과를 저장하기 위한 DP 테이블 초기화\n",
        "d = [0] * 100\n",
        "\n",
        "# 첫 번째 피보나치 수와 두 번째 피보나치 수는 1\n",
        "d[1] = 1\n",
        "d[2] = 1\n",
        "n = 99\n",
        "\n",
        "# 피보나치 함수 반복문으로 구현\n",
        "for i in range(3, n + 1):\n",
        "  d[i] = d[i - 1] + d[i - 2]\n",
        "\n",
        "print(d[n])"
      ],
      "metadata": {
        "colab": {
          "base_uri": "https://localhost:8080/"
        },
        "id": "sBqH3oe9xYlw",
        "outputId": "5c0598e5-edde-4096-f716-a0427a00efc8"
      },
      "execution_count": null,
      "outputs": [
        {
          "output_type": "stream",
          "name": "stdout",
          "text": [
            "218922995834555169026\n"
          ]
        }
      ]
    },
    {
      "cell_type": "markdown",
      "source": [
        "다익스트라 알고리즘 : 간단한 구현 방법"
      ],
      "metadata": {
        "id": "4TdbMxb5oqIO"
      }
    },
    {
      "cell_type": "code",
      "source": [
        "import sys\n",
        "input = sys.stdin.readline\n",
        "INF = int(1e9)\n",
        "\n",
        "n, m = map(int, inpit().split())\n",
        "start = int(input())\n",
        "graph = [[] for i in range(n + 1)]\n",
        "visit = [False] * (n + 1)\n",
        "distance = [INF] * (n + 1)\n",
        "\n",
        "for _ in range(m):\n",
        "  a, b, c = map(int, input().split())\n",
        "  graph[a].append((b, c))\n",
        "\n",
        "def get_smallest_node():\n",
        "  min_value = INF\n",
        "  index = 0\n",
        "  for i in range(1, n + 1):\n",
        "    if distance[i] < min_value and not visited[i]:\n",
        "      min_value = distance[i]\n",
        "      index = i\n",
        "  return index\n",
        "\n",
        "def dijkstra(start):\n",
        "  distance[start] = 0\n",
        "  visited[start] = True\n",
        "  for j in graph[start]:\n",
        "    distance[j(0)] = j[1]\n",
        "  for i in range(n - 1):\n",
        "    now = get_smallest_node()\n",
        "    visited[now] = True\n",
        "    cost = distance[now] + j[1]\n",
        "    if cost < distance[j[0]]:\n",
        "      distance[j[0]] = cost\n",
        "\n",
        "dijkstra(start)\n",
        "for i in range(1, n + 1):\n",
        "  if distance[i] == INF:\n",
        "    print(\"INFINITY\")\n",
        "  else:\n",
        "    print(distance[i])"
      ],
      "metadata": {
        "id": "Nzc-sQpvosFp"
      },
      "execution_count": null,
      "outputs": []
    },
    {
      "cell_type": "markdown",
      "source": [
        "다익스트라 알고리즘 : 개선된 구현 방법"
      ],
      "metadata": {
        "id": "oLfb3JtHqlvn"
      }
    },
    {
      "cell_type": "code",
      "source": [
        "import heapq\n",
        "import sys\n",
        "input = sts.stdin.readline\n",
        "INF = int(1e9)\n",
        "\n",
        "n, m = map(int, input().split())\n",
        "start = int(input())\n",
        "graph = [[] for i in range(n +1)]\n",
        "distance = [INF] * (n + 1)\n",
        "\n",
        "for _ in range(m):\n",
        "  a, b, c = map(int, input().split())\n",
        "  graph[a].append((b, c))\n",
        "\n",
        "def dijkstra(start):\n",
        "  q = []\n",
        "  heapq.heappush(q, (0, start))\n",
        "  distance[start] = 0\n",
        "  while q:\n",
        "    dist, now = heapq.heappop(q)\n",
        "    if distance[now] < dist:\n",
        "      continue\n",
        "    for i in graph[now]:\n",
        "      cost = dist + i[1]\n",
        "      if cost < distance[i[0]]:\n",
        "        distance[i(0)] = cost\n",
        "        heapq.heappush(q, (cost, i[0]))\n",
        "\n",
        "dijkstra(start)\n",
        "\n",
        "for i in range(1, n + 1):\n",
        "  if distance[i] == INF:\n",
        "    print(\"INFINITY\")\n",
        "  else:\n",
        "    print(distance(i))"
      ],
      "metadata": {
        "id": "vQoCTzoMqsMA"
      },
      "execution_count": null,
      "outputs": []
    },
    {
      "cell_type": "markdown",
      "source": [
        "플로이드 워셜 알고리즘"
      ],
      "metadata": {
        "id": "mNgDkWD93mqP"
      }
    },
    {
      "cell_type": "code",
      "source": [
        "INF = int(1e9)\n",
        "\n",
        "n = int(input())\n",
        "m = int(input())\n",
        "graph = [[INF] * (n + 1) for _ in range(n + 1)]\n",
        "\n",
        "for a in range(1, n + 1):\n",
        "  for b in range(1, n + 1):\n",
        "    if a == b:\n",
        "      graph[a][b] = 0\n",
        "\n",
        "for _ in range(m):\n",
        "  a, b, c = map(int, input().split())\n",
        "  graph[a][b] = c\n",
        "\n",
        "for k in range(1, n + 1):\n",
        "  for a in range(1, n + 1):\n",
        "    for b in range(1, n + 1):\n",
        "      graph[a][b] = min(graph[a][b], graph[a][k] + graph[k][b])\n",
        "\n",
        "for a in range(1, n + 1):\n",
        "  for b in range(1, n + 1):\n",
        "    if graph[a][b] == INF:\n",
        "      print(\"INFINITY\", end=\" \")\n",
        "    else:\n",
        "      print(graph[a][b], end=\" \")\n",
        "print()"
      ],
      "metadata": {
        "id": "oqSQ8m_d3Tfl"
      },
      "execution_count": null,
      "outputs": []
    }
  ]
}