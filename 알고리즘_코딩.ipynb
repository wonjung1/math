{
  "nbformat": 4,
  "nbformat_minor": 0,
  "metadata": {
    "colab": {
      "provenance": [],
      "collapsed_sections": [
        "KnPmE00hKwLC",
        "4dJu7WrFK7Mr",
        "Y7in6ZzELCM3",
        "ng3QZ4k6LIKg",
        "zH9KEe3WLO1B",
        "92_pOrF6LrWX",
        "ZLCtWhbRLu9p",
        "GkJefN8mLzib"
      ],
      "toc_visible": true,
      "authorship_tag": "ABX9TyNKcp6M6Nv9EyH/fYGUfWZ7",
      "include_colab_link": true
    },
    "kernelspec": {
      "name": "python3",
      "display_name": "Python 3"
    },
    "language_info": {
      "name": "python"
    }
  },
  "cells": [
    {
      "cell_type": "markdown",
      "metadata": {
        "id": "view-in-github",
        "colab_type": "text"
      },
      "source": [
        "<a href=\"https://colab.research.google.com/github/wonjung1/math/blob/main/%EC%95%8C%EA%B3%A0%EB%A6%AC%EC%A6%98_%EC%BD%94%EB%94%A9.ipynb\" target=\"_parent\"><img src=\"https://colab.research.google.com/assets/colab-badge.svg\" alt=\"Open In Colab\"/></a>"
      ]
    },
    {
      "cell_type": "markdown",
      "source": [
        "# **1장 코딩 테스트 개요**"
      ],
      "metadata": {
        "id": "Sz4DMcd_Jlil"
      }
    },
    {
      "cell_type": "markdown",
      "source": [
        "파이썬 수행시간 측정 방법"
      ],
      "metadata": {
        "id": "Q35Ybp5pJdUK"
      }
    },
    {
      "cell_type": "code",
      "source": [
        "import time\n",
        "start_time = time.time() # 측정 시작\n",
        "\n",
        "# 프로그램 소스코드\n",
        "end_time = time.time() # 측정 종료\n",
        "print(\"time:\", end_time - start_time) # 수행 시간 출력"
      ],
      "metadata": {
        "id": "XC-Y8tOFJZhG"
      },
      "execution_count": null,
      "outputs": []
    },
    {
      "cell_type": "markdown",
      "source": [
        "선택 정렬과 기본 정렬 라이브러리의 수행 시간 비교"
      ],
      "metadata": {
        "id": "Wv3DksvAJo4T"
      }
    },
    {
      "cell_type": "code",
      "source": [
        "from random import randint\n",
        "import time\n",
        "\n",
        "# 배열에 10,000개의 정수를 삽입\n",
        "array = []\n",
        "for _ in range(10000):\n",
        "    array.append(randint(1, 100)) # 1부터 100 사이의 랜덤한 정수\n",
        "\n",
        "# 선택 정렬 프로그램 성능 측정\n",
        "start_time = time.time()\n",
        "\n",
        "# 선택 정렬 프로그램 소스코드\n",
        "for i in range(len(array)):\n",
        "    min_index = i # 가장 작은 원소의 인덱스\n",
        "    for j in range(i + 1, len(array)):\n",
        "        if array[min_index] > array[j]:\n",
        "            min_index = j\n",
        "    array[i], array[min_index] = array[min_index], array[i] # 스와프\n",
        "\n",
        "end_time = time.time() # 측정 종료\n",
        "print(\"선택 정렬 성능 측정:\", end_time - start_time) # 수행 시간 출력\n",
        "\n",
        "# 배열을 다시 무작위 데이터로 초기화\n",
        "array = []\n",
        "for _ in range(10000):\n",
        "    array.append(randint(1, 100)) # 1부터 100 사이의 랜덤한 정수\n",
        "\n",
        "# 기본 정렬 라이브러리 성능 측정\n",
        "start_time = time.time()\n",
        "\n",
        "# 기본 정렬 라이브러리 사용\n",
        "array.sort()\n",
        "\n",
        "end_time = time.time() # 측정 종료\n",
        "print(\"기본 정렬 라이브러리 성능 측정:\", end_time - start_time) # 수행 시간 출력"
      ],
      "metadata": {
        "id": "xFMrfzE5JrCk"
      },
      "execution_count": null,
      "outputs": []
    },
    {
      "cell_type": "markdown",
      "source": [
        "# **3장 그리디**"
      ],
      "metadata": {
        "id": "c49YNUXIJv3x"
      }
    },
    {
      "cell_type": "markdown",
      "source": [
        "거스름돈 문제"
      ],
      "metadata": {
        "id": "TYGHKefLJwZ5"
      }
    },
    {
      "cell_type": "code",
      "source": [
        "n = 1260\n",
        "count = 0\n",
        "\n",
        "# 큰 단위의 화폐부터 차례대로 확인하기\n",
        "coin_types = [500, 100, 50, 10]\n",
        "\n",
        "for coin in coin_types:\n",
        "    count += n // coin # 해당 화폐로 거슬러 줄 수 있는 동전의 개수 세기\n",
        "    n %= coin\n",
        "\n",
        "print(count)"
      ],
      "metadata": {
        "id": "OevFTGlOJxjq"
      },
      "execution_count": null,
      "outputs": []
    },
    {
      "cell_type": "markdown",
      "source": [
        "동빈이의 큰 수의 법칙"
      ],
      "metadata": {
        "id": "_uYpIhaTJ0er"
      }
    },
    {
      "cell_type": "code",
      "source": [
        "# N, M, K를 공백을 기준으로 구분하여 입력 받기\n",
        "n, m, k = map(int, input().split())\n",
        "# N개의 수를 공백을 기준으로 구분하여 입력 받기\n",
        "data = list(map(int, input().split()))\n",
        "\n",
        "data.sort() # 입력 받은 수들 정렬하기\n",
        "first = data[n - 1] # 가장 큰 수\n",
        "second = data[n - 2] # 두 번째로 큰 수\n",
        "\n",
        "# 가장 큰 수가 더해지는 횟수 계산\n",
        "count = int(m / (k + 1)) * k\n",
        "count += m % (k + 1)\n",
        "\n",
        "result = 0\n",
        "result += (count) * first # 가장 큰 수 더하기\n",
        "result += (m - count) * second # 두 번째로 큰 수 더하기\n",
        "\n",
        "print(result) # 최종 답안 출력"
      ],
      "metadata": {
        "id": "lfFs8krMJ1uM"
      },
      "execution_count": null,
      "outputs": []
    },
    {
      "cell_type": "markdown",
      "source": [
        "숫자 카드게임"
      ],
      "metadata": {
        "id": "cx77x2yzJ4ZH"
      }
    },
    {
      "cell_type": "code",
      "source": [
        "# N, M을 공백을 기준으로 구분하여 입력 받기\n",
        "n, m = map(int, input().split())\n",
        "\n",
        "result = 0\n",
        "# 한 줄씩 입력 받아 확인하기\n",
        "for i in range(n):\n",
        "    data = list(map(int, input().split()))\n",
        "    # 현재 줄에서 '가장 작은 수' 찾기\n",
        "    min_value = 10001\n",
        "    for a in data:\n",
        "        min_value = min(min_value, a)\n",
        "    # '가장 작은 수'들 중에서 가장 큰 수 찾기\n",
        "    result = max(result, min_value)\n",
        "\n",
        "print(result) # 최종 답안 출력"
      ],
      "metadata": {
        "id": "hbesVIisJ5hW"
      },
      "execution_count": null,
      "outputs": []
    },
    {
      "cell_type": "markdown",
      "source": [
        "1이 될 때까지"
      ],
      "metadata": {
        "id": "JpbNLcefJ7fp"
      }
    },
    {
      "cell_type": "code",
      "source": [
        "# N, K공백을 기준으로 구분하여 입력 받기\n",
        "n, k = map(int, input().split())\n",
        "\n",
        "result = 0\n",
        "\n",
        "while True:\n",
        "    # N이 K로 나누어 떨어지는 수가 될 때까지만 1씩 빼기\n",
        "    target = (n // k) * k\n",
        "    result += (n - target)\n",
        "    n = target\n",
        "    # N이 K보다 작을 때 (더 이상 나눌 수 없을 때) 반복문 탈출\n",
        "    if n < k:\n",
        "        break\n",
        "    # K로 나누기\n",
        "    result += 1\n",
        "    n //= k\n",
        "\n",
        "# 마지막으로 남은 수에 대하여 1씩 빼기\n",
        "result += (n - 1)\n",
        "print(result)"
      ],
      "metadata": {
        "id": "HOk00PCMJ85S"
      },
      "execution_count": null,
      "outputs": []
    },
    {
      "cell_type": "markdown",
      "source": [
        "# **4장 구현**"
      ],
      "metadata": {
        "id": "1zRuymnBJ_Ya"
      }
    },
    {
      "cell_type": "markdown",
      "source": [
        "상하좌우"
      ],
      "metadata": {
        "id": "_jJtKJjIJ_-Q"
      }
    },
    {
      "cell_type": "code",
      "source": [
        "# N 입력받기\n",
        "n = int(input())\n",
        "x, y = 1, 1\n",
        "plans = input().split()\n",
        "\n",
        "# L, R, U, D에 따른 이동 방향\n",
        "dx = [0, 0, -1, 1]\n",
        "dy = [-1, 1, 0, 0]\n",
        "move_types = ['L', 'R', 'U', 'D']\n",
        "\n",
        "# 이동 계획을 하나씩 확인\n",
        "for plan in plans:\n",
        "    # 이동 후 좌표 구하기\n",
        "    for i in range(len(move_types)):\n",
        "        if plan == move_types[i]:\n",
        "            nx = x + dx[i]\n",
        "            ny = y + dy[i]\n",
        "    # 공간을 벗어나는 경우 무시\n",
        "    if nx < 1 or ny < 1 or nx > n or ny > n:\n",
        "        continue\n",
        "    # 이동 수행\n",
        "    x, y = nx, ny\n",
        "\n",
        "print(x, y)"
      ],
      "metadata": {
        "id": "H1vkP0v3KDnP"
      },
      "execution_count": null,
      "outputs": []
    },
    {
      "cell_type": "markdown",
      "source": [
        "시각"
      ],
      "metadata": {
        "id": "sZad9_YHKCqb"
      }
    },
    {
      "cell_type": "code",
      "source": [
        "# H를 입력받기\n",
        "h = int(input())\n",
        "\n",
        "count = 0\n",
        "for i in range(h + 1):\n",
        "    for j in range(60):\n",
        "        for k in range(60):\n",
        "            # 매 시각 안에 '3'이 포함되어 있다면 카운트 증가\n",
        "            if '3' in str(i) + str(j) + str(k):\n",
        "                count += 1\n",
        "\n",
        "print(count)"
      ],
      "metadata": {
        "id": "qTJ9L0JrKF_-"
      },
      "execution_count": null,
      "outputs": []
    },
    {
      "cell_type": "markdown",
      "source": [
        "왕실의 나이트"
      ],
      "metadata": {
        "id": "84-OrdDGKHh0"
      }
    },
    {
      "cell_type": "code",
      "source": [
        "# 현재 나이트의 위치 입력받기\n",
        "input_data = input()\n",
        "row = int(input_data[1])\n",
        "column = int(ord(input_data[0])) - int(ord('a')) + 1\n",
        "\n",
        "# 나이트가 이동할 수 있는 8가지 방향 정의\n",
        "steps = [(-2, -1), (-1, -2), (1, -2), (2, -1), (2, 1), (1, 2), (-1, 2), (-2, 1)]\n",
        "\n",
        "# 8가지 방향에 대하여 각 위치로 이동이 가능한지 확인\n",
        "result = 0\n",
        "for step in steps:\n",
        "    # 이동하고자 하는 위치 확인\n",
        "    next_row = row + step[0]\n",
        "    next_column = column + step[1]\n",
        "    # 해당 위치로 이동이 가능하다면 카운트 증가\n",
        "    if next_row >= 1 and next_row <= 8 and next_column >= 1 and next_column <= 8:\n",
        "        result += 1\n",
        "\n",
        "print(result)"
      ],
      "metadata": {
        "id": "TlSVTWedKJuR"
      },
      "execution_count": null,
      "outputs": []
    },
    {
      "cell_type": "markdown",
      "source": [
        "게임 개발"
      ],
      "metadata": {
        "id": "wq3ZXF0VKLJp"
      }
    },
    {
      "cell_type": "code",
      "source": [
        "# N, M을 공백을 기준으로 구분하여 입력받기\n",
        "n, m = map(int, input().split())\n",
        "\n",
        "# 방문한 위치를 저장하기 위한 맵을 생성하여 0으로 초기화\n",
        "d = [[0] * m for _ in range(n)]\n",
        "# 현재 캐릭터의 X 좌표, Y 좌표, 방향을 입력받기\n",
        "x, y, direction = map(int, input().split())\n",
        "d[x][y] = 1 # 현재 좌표 방문 처리\n",
        "\n",
        "# 전체 맵 정보를 입력받기\n",
        "array = []\n",
        "for i in range(n):\n",
        "    array.append(list(map(int, input().split())))\n",
        "\n",
        "# 북, 동, 남, 서 방향 정의\n",
        "dx = [-1, 0, 1, 0]\n",
        "dy = [0, 1, 0, -1]\n",
        "\n",
        "# 왼쪽으로 회전\n",
        "def turn_left():\n",
        "    global direction\n",
        "    direction -= 1\n",
        "    if direction == -1:\n",
        "        direction = 3\n",
        "\n",
        "# 시뮬레이션 시작\n",
        "count = 1\n",
        "turn_time = 0\n",
        "while True:\n",
        "    # 왼쪽으로 회전\n",
        "    turn_left()\n",
        "    nx = x + dx[direction]\n",
        "    ny = y + dy[direction]\n",
        "    # 회전한 이후 정면에 가보지 않은 칸이 존재하는 경우 이동\n",
        "    if d[nx][ny] == 0 and array[nx][ny] == 0:\n",
        "        d[nx][ny] = 1\n",
        "        x = nx\n",
        "        y = ny\n",
        "        count += 1\n",
        "        turn_time = 0\n",
        "        continue\n",
        "    # 회전한 이후 정면에 가보지 않은 칸이 없거나 바다인 경우\n",
        "    else:\n",
        "        turn_time += 1\n",
        "    # 네 방향 모두 갈 수 없는 경우\n",
        "    if turn_time == 4:\n",
        "        nx = x - dx[direction]\n",
        "        ny = y - dy[direction]\n",
        "        # 뒤로 갈 수 있다면 이동하기\n",
        "        if array[nx][ny] == 0:\n",
        "            x = nx\n",
        "            y = ny\n",
        "        # 뒤가 바다로 막혀있는 경우\n",
        "        else:\n",
        "            break\n",
        "        turn_time = 0\n",
        "\n",
        "# 정답 출력\n",
        "print(count)"
      ],
      "metadata": {
        "id": "WE3ZqVK7KR5Q"
      },
      "execution_count": null,
      "outputs": []
    },
    {
      "cell_type": "markdown",
      "source": [
        "# **5장 DFS/BFS**"
      ],
      "metadata": {
        "id": "4oVPGD75KSet"
      }
    },
    {
      "cell_type": "markdown",
      "source": [
        "스택 구형 예제"
      ],
      "metadata": {
        "id": "t82jOlUSKWza"
      }
    },
    {
      "cell_type": "code",
      "source": [
        "stack = []\n",
        "\n",
        "# 삽입(5) - 삽입(2) - 삽입(3) - 삽입(7) - 삭제() - 삽입(1) - 삽입(4) - 삭제()\n",
        "stack.append(5)\n",
        "stack.append(2)\n",
        "stack.append(3)\n",
        "stack.append(7)\n",
        "stack.pop()\n",
        "stack.append(1)\n",
        "stack.append(4)\n",
        "stack.pop()\n",
        "\n",
        "print(stack) # 최하단 원소부터 출력\n",
        "print(stack[::-1]) # 최상단 원소부터 출력"
      ],
      "metadata": {
        "id": "G0fVSofVKWaK"
      },
      "execution_count": null,
      "outputs": []
    },
    {
      "cell_type": "markdown",
      "source": [
        "큐 구현 예제"
      ],
      "metadata": {
        "id": "0LTVJSJJKa9l"
      }
    },
    {
      "cell_type": "code",
      "source": [
        "from collections import deque \n",
        "\n",
        "# 큐(Queue) 구현을 위해 deque 라이브러리 사용\n",
        "queue = deque()\n",
        "\n",
        "# 삽입(5) - 삽입(2) - 삽입(3) - 삽입(7) - 삭제() - 삽입(1) - 삽입(4) - 삭제()\n",
        "queue.append(5)\n",
        "queue.append(2)\n",
        "queue.append(3)\n",
        "queue.append(7)\n",
        "queue.popleft()\n",
        "queue.append(1)\n",
        "queue.append(4)\n",
        "queue.popleft()\n",
        "\n",
        "print(queue) # 먼저 들어온 순서대로 출력\n",
        "queue.reverse() # 다음 출력을 위해 역순으로 바꾸기\n",
        "print(queue) # 나중에 들어온 원소부터 출력"
      ],
      "metadata": {
        "id": "C1M7Rvn_KbP6"
      },
      "execution_count": null,
      "outputs": []
    },
    {
      "cell_type": "markdown",
      "source": [
        "무한히 반복되는 재귀함수 예제"
      ],
      "metadata": {
        "id": "51ZlAPmCKc6D"
      }
    },
    {
      "cell_type": "code",
      "source": [
        "def recursive_function():\n",
        "    print('재귀 함수를 호출합니다.')\n",
        "    recursive_function()\n",
        "\n",
        "recursive_function()"
      ],
      "metadata": {
        "id": "w7R9KwsEKeJs"
      },
      "execution_count": null,
      "outputs": []
    },
    {
      "cell_type": "markdown",
      "source": [
        "재귀함수의 종료 조건 예제"
      ],
      "metadata": {
        "id": "7m1dG3KGKfXF"
      }
    },
    {
      "cell_type": "code",
      "source": [
        "def recursive_function(i):\n",
        "    # 100번째 호출을 했을 때 종료되도록 종료 조건 명시\n",
        "    if i == 100:\n",
        "        return\n",
        "    print(i, '번째 재귀함수에서', i + 1, '번째 재귀함수를 호출합니다.')\n",
        "    recursive_function(i + 1)\n",
        "    print(i, '번째 재귀함수를 종료합니다.')\n",
        "\n",
        "recursive_function(1)"
      ],
      "metadata": {
        "id": "DhvZlm2xKhv6"
      },
      "execution_count": null,
      "outputs": []
    },
    {
      "cell_type": "markdown",
      "source": [
        "2가지 방식으로 구현한 팩토리얼 예제"
      ],
      "metadata": {
        "id": "lWPVBKDCKjKS"
      }
    },
    {
      "cell_type": "code",
      "source": [
        "# 반복적으로 구현한 n!\n",
        "def factorial_iterative(n):        \n",
        "    result = 1\n",
        "    # 1부터 n까지의 수를 차례대로 곱하기\n",
        "    for i in range(1, n + 1):\n",
        "       result *= i\n",
        "    return result\n",
        "\n",
        "# 재귀적으로 구현한 n!\n",
        "def factorial_recursive(n):        \n",
        "    if n <= 1: # n이 1 이하인 경우 1을 반환\n",
        "        return 1\n",
        "    # n! = n * (n - 1)!를 그대로 코드로 작성하기\n",
        "    return n * factorial_recursive(n - 1)\n",
        "\n",
        "# 각각의 방식으로 구현한 n! 출력(n = 5)\n",
        "print('반복적으로 구현:', factorial_iterative(5))\n",
        "print('재귀적으로 구현:', factorial_recursive(5))"
      ],
      "metadata": {
        "id": "3LKmwmoQKlCV"
      },
      "execution_count": null,
      "outputs": []
    },
    {
      "cell_type": "markdown",
      "source": [
        "인접 행렬 예제"
      ],
      "metadata": {
        "id": "Luiz6jtfKmdI"
      }
    },
    {
      "cell_type": "code",
      "source": [
        "INF = 999999999 # 무한의 비용 선언\n",
        "\n",
        "# 2차원 리스트를 이용해 인접 행렬 표현\n",
        "graph = [\n",
        "    [0, 7, 5],\n",
        "    [7, 0, INF],\n",
        "    [5, INF, 0]\n",
        "]\n",
        "\n",
        "print(graph)"
      ],
      "metadata": {
        "id": "f-7RpQSXKoNF"
      },
      "execution_count": null,
      "outputs": []
    },
    {
      "cell_type": "markdown",
      "source": [
        "인접 리스트 예제"
      ],
      "metadata": {
        "id": "g4ajXvQyKn5P"
      }
    },
    {
      "cell_type": "code",
      "source": [
        "# 행(Row)이 3개인 2차원 리스트로 인접 리스트 표현\n",
        "graph = [[] for _ in range(3)]\n",
        "\n",
        "# 노드 0에 연결된 노드 정보 저장 (노드, 거리)\n",
        "graph[0].append((1, 7))\n",
        "graph[0].append((2, 5))\n",
        "\n",
        "# 노드 1에 연결된 노드 정보 저장 (노드, 거리)\n",
        "graph[1].append((0, 7))\n",
        "\n",
        "# 노드 2에 연결된 노드 정보 저장 (노드, 거리)\n",
        "graph[2].append((0, 5))\n",
        "\n",
        "print(graph)"
      ],
      "metadata": {
        "id": "3LlJmsqFMhy3"
      },
      "execution_count": null,
      "outputs": []
    },
    {
      "cell_type": "markdown",
      "source": [
        "DFS"
      ],
      "metadata": {
        "id": "fPAJK3pCKsWw"
      }
    },
    {
      "cell_type": "code",
      "source": [
        "# DFS 함수 정의\n",
        "def dfs(graph, v, visited):\n",
        "    # 현재 노드를 방문 처리\n",
        "    visited[v] = True\n",
        "    print(v, end=' ')\n",
        "    # 현재 노드와 연결된 다른 노드를 재귀적으로 방문\n",
        "    for i in graph[v]:\n",
        "        if not visited[i]:\n",
        "            dfs(graph, i, visited)\n",
        "\n",
        "# 각 노드가 연결된 정보를 리스트 자료형으로 표현(2차원 리스트)\n",
        "graph = [\n",
        "  [],\n",
        "  [2, 3, 8],\n",
        "  [1, 7],\n",
        "  [1, 4, 5],\n",
        "  [3, 5],\n",
        "  [3, 4],\n",
        "  [7],\n",
        "  [2, 6, 8],\n",
        "  [1, 7]\n",
        "]\n",
        "\n",
        "# 각 노드가 방문된 정보를 리스트 자료형으로 표현(1차원 리스트)\n",
        "visited = [False] * 9\n",
        "\n",
        "# 정의된 DFS 함수 호출\n",
        "dfs(graph, 1, visited)"
      ],
      "metadata": {
        "id": "72-2-0ubMjK0"
      },
      "execution_count": null,
      "outputs": []
    },
    {
      "cell_type": "markdown",
      "source": [
        "BFS"
      ],
      "metadata": {
        "id": "0v5PdGmLKs0Q"
      }
    },
    {
      "cell_type": "code",
      "source": [
        "from collections import deque\n",
        "\n",
        "# BFS 함수 정의\n",
        "def bfs(graph, start, visited):\n",
        "    # 큐(Queue) 구현을 위해 deque 라이브러리 사용\n",
        "    queue = deque([start])\n",
        "    # 현재 노드를 방문 처리\n",
        "    visited[start] = True\n",
        "    # 큐가 빌 때까지 반복\n",
        "    while queue:\n",
        "        # 큐에서 하나의 원소를 뽑아 출력\n",
        "        v = queue.popleft()\n",
        "        print(v, end=' ')\n",
        "        # 해당 원소와 연결된, 아직 방문하지 않은 원소들을 큐에 삽입\n",
        "        for i in graph[v]:\n",
        "            if not visited[i]:\n",
        "                queue.append(i)\n",
        "                visited[i] = True\n",
        "\n",
        "# 각 노드가 연결된 정보를 리스트 자료형으로 표현(2차원 리스트)\n",
        "graph = [\n",
        "  [],\n",
        "  [2, 3, 8],\n",
        "  [1, 7],\n",
        "  [1, 4, 5],\n",
        "  [3, 5],\n",
        "  [3, 4],\n",
        "  [7],\n",
        "  [2, 6, 8],\n",
        "  [1, 7]\n",
        "]\n",
        "\n",
        "# 각 노드가 방문된 정보를 리스트 자료형으로 표현(1차원 리스트)\n",
        "visited = [False] * 9\n",
        "\n",
        "# 정의된 BFS 함수 호출\n",
        "bfs(graph, 1, visited)"
      ],
      "metadata": {
        "id": "XEH35CjWMnFP"
      },
      "execution_count": null,
      "outputs": []
    },
    {
      "cell_type": "markdown",
      "source": [
        "음료수 얼려 먹기"
      ],
      "metadata": {
        "id": "O1srhPxaKtyV"
      }
    },
    {
      "cell_type": "code",
      "source": [
        "# N, M을 공백을 기준으로 구분하여 입력 받기\n",
        "n, m = map(int, input().split())\n",
        "\n",
        "# 2차원 리스트의 맵 정보 입력 받기\n",
        "graph = []\n",
        "for i in range(n):\n",
        "    graph.append(list(map(int, input())))\n",
        "\n",
        "# DFS로 특정한 노드를 방문한 뒤에 연결된 모든 노드들도 방문\n",
        "def dfs(x, y):\n",
        "    # 주어진 범위를 벗어나는 경우에는 즉시 종료\n",
        "    if x <= -1 or x >= n or y <= -1 or y >= m:\n",
        "        return False\n",
        "    # 현재 노드를 아직 방문하지 않았다면\n",
        "    if graph[x][y] == 0:\n",
        "        # 해당 노드 방문 처리\n",
        "        graph[x][y] = 1\n",
        "        # 상, 하, 좌, 우의 위치들도 모두 재귀적으로 호출\n",
        "        dfs(x - 1, y)\n",
        "        dfs(x, y - 1)\n",
        "        dfs(x + 1, y)\n",
        "        dfs(x, y + 1)\n",
        "        return True\n",
        "    return False\n",
        "\n",
        "# 모든 노드(위치)에 대하여 음료수 채우기\n",
        "result = 0\n",
        "for i in range(n):\n",
        "    for j in range(m):\n",
        "        # 현재 위치에서 DFS 수행\n",
        "        if dfs(i, j) == True:\n",
        "            result += 1\n",
        "\n",
        "print(result) # 정답 출력"
      ],
      "metadata": {
        "id": "FG6Yq6UUMpkJ"
      },
      "execution_count": null,
      "outputs": []
    },
    {
      "cell_type": "markdown",
      "source": [
        "미로 탈출"
      ],
      "metadata": {
        "id": "WINJc9nzKu-7"
      }
    },
    {
      "cell_type": "code",
      "source": [
        "from collections import deque\n",
        "\n",
        "# N, M을 공백을 기준으로 구분하여 입력 받기\n",
        "n, m = map(int, input().split())\n",
        "# 2차원 리스트의 맵 정보 입력 받기\n",
        "graph = []\n",
        "for i in range(n):\n",
        "    graph.append(list(map(int, input())))\n",
        "\n",
        "# 이동할 네 가지 방향 정의 (상, 하, 좌, 우)\n",
        "dx = [-1, 1, 0, 0]\n",
        "dy = [0, 0, -1, 1]\n",
        "\n",
        "# BFS 소스코드 구현\n",
        "def bfs(x, y):\n",
        "    # 큐(Queue) 구현을 위해 deque 라이브러리 사용\n",
        "    queue = deque()\n",
        "    queue.append((x, y))\n",
        "    # 큐가 빌 때까지 반복하기\n",
        "    while queue:\n",
        "        x, y = queue.popleft()\n",
        "        # 현재 위치에서 4가지 방향으로의 위치 확인\n",
        "        for i in range(4):\n",
        "            nx = x + dx[i]\n",
        "            ny = y + dy[i]\n",
        "            # 미로 찾기 공간을 벗어난 경우 무시\n",
        "            if nx < 0 or nx >= n or ny < 0 or ny >= m:\n",
        "                continue\n",
        "            # 벽인 경우 무시\n",
        "            if graph[nx][ny] == 0:\n",
        "                continue\n",
        "            # 해당 노드를 처음 방문하는 경우에만 최단 거리 기록\n",
        "            if graph[nx][ny] == 1:\n",
        "                graph[nx][ny] = graph[x][y] + 1\n",
        "                queue.append((nx, ny))\n",
        "    # 가장 오른쪽 아래까지의 최단 거리 반환\n",
        "    return graph[n - 1][m - 1]\n",
        "\n",
        "# BFS를 수행한 결과 출력\n",
        "print(bfs(0, 0))"
      ],
      "metadata": {
        "id": "bBKBC2KaMsB0"
      },
      "execution_count": null,
      "outputs": []
    },
    {
      "cell_type": "markdown",
      "source": [
        "# **6장 정렬**"
      ],
      "metadata": {
        "id": "KnPmE00hKwLC"
      }
    },
    {
      "cell_type": "markdown",
      "source": [
        "선택 정렬"
      ],
      "metadata": {
        "id": "3-FCai61KxLm"
      }
    },
    {
      "cell_type": "code",
      "source": [
        "array = [7, 5, 9, 0, 3, 1, 6, 2, 4, 8]\n",
        "\n",
        "for i in range(len(array)):\n",
        "    min_index = i # 가장 작은 원소의 인덱스\n",
        "    for j in range(i + 1, len(array)):\n",
        "        if array[min_index] > array[j]:\n",
        "            min_index = j\n",
        "    array[i], array[min_index] = array[min_index], array[i] # 스와프\n",
        "\n",
        "print(array)"
      ],
      "metadata": {
        "id": "7xAZLXSXMvdW"
      },
      "execution_count": null,
      "outputs": []
    },
    {
      "cell_type": "markdown",
      "source": [
        "스와프(Swap)"
      ],
      "metadata": {
        "id": "KXUI5YTQKyq9"
      }
    },
    {
      "cell_type": "code",
      "source": [
        "# 0 인덱스와 1 인덱스의 원소 교체하기\n",
        "array = [3, 5]\n",
        "array[0], array[1] = array[1], array[0]\n",
        "\n",
        "print(array)"
      ],
      "metadata": {
        "id": "k0NaPIiHMwM9"
      },
      "execution_count": null,
      "outputs": []
    },
    {
      "cell_type": "markdown",
      "source": [
        "삽입 정렬"
      ],
      "metadata": {
        "id": "-RzqWdLdKzYV"
      }
    },
    {
      "cell_type": "code",
      "source": [
        "array = [7, 5, 9, 0, 3, 1, 6, 2, 4, 8]\n",
        "\n",
        "for i in range(1, len(array)):\n",
        "    for j in range(i, 0, -1): # 인덱스 i부터 1까지 1씩 감소하며 반복하는 문법\n",
        "        if array[j] < array[j - 1]: # 한 칸씩 왼쪽으로 이동\n",
        "            array[j], array[j - 1] = array[j - 1], array[j]\n",
        "        else: # 자기보다 작은 데이터를 만나면 그 위치에서 멈춤\n",
        "            break\n",
        "\n",
        "print(array)"
      ],
      "metadata": {
        "id": "MXl6diF9MyqR"
      },
      "execution_count": null,
      "outputs": []
    },
    {
      "cell_type": "markdown",
      "source": [
        "퀵 정렬"
      ],
      "metadata": {
        "id": "FyLI1z5bK0El"
      }
    },
    {
      "cell_type": "code",
      "source": [
        "array = [5, 7, 9, 0, 3, 1, 6, 2, 4, 8]\n",
        "\n",
        "def quick_sort(array, start, end):\n",
        "    if start >= end: # 원소가 1개인 경우 종료\n",
        "        return\n",
        "    pivot = start # 피벗은 첫 번째 원소\n",
        "    left = start + 1\n",
        "    right = end\n",
        "    while(left <= right):\n",
        "        # 피벗보다 큰 데이터를 찾을 때까지 반복 \n",
        "        while(left <= end and array[left] <= array[pivot]):\n",
        "            left += 1\n",
        "        # 피벗보다 작은 데이터를 찾을 때까지 반복\n",
        "        while(right > start and array[right] >= array[pivot]):\n",
        "            right -= 1\n",
        "        if(left > right): # 엇갈렸다면 작은 데이터와 피벗을 교체\n",
        "            array[right], array[pivot] = array[pivot], array[right]\n",
        "        else: # 엇갈리지 않았다면 작은 데이터와 큰 데이터를 교체\n",
        "            array[left], array[right] = array[right], array[left]\n",
        "    # 분할 이후 왼쪽 부분과 오른쪽 부분에서 각각 정렬 수행\n",
        "    quick_sort(array, start, right - 1)\n",
        "    quick_sort(array, right + 1, end)\n",
        "\n",
        "quick_sort(array, 0, len(array) - 1)\n",
        "print(array)"
      ],
      "metadata": {
        "id": "ejxhYqnmM06M"
      },
      "execution_count": null,
      "outputs": []
    },
    {
      "cell_type": "markdown",
      "source": [
        "파이썬의 장점을 살린 퀵 정렬"
      ],
      "metadata": {
        "id": "yGncld4CK01i"
      }
    },
    {
      "cell_type": "code",
      "source": [
        "array = [5, 7, 9, 0, 3, 1, 6, 2, 4, 8]\n",
        "\n",
        "def quick_sort(array):\n",
        "    # 리스트가 하나 이하의 원소만을 담고 있다면 종료\n",
        "    if len(array) <= 1:\n",
        "        return array\n",
        "\n",
        "    pivot = array[0] # 피벗은 첫 번째 원소\n",
        "    tail = array[1:] # 피벗을 제외한 리스트\n",
        "\n",
        "    left_side = [x for x in tail if x <= pivot] # 분할된 왼쪽 부분\n",
        "    right_side = [x for x in tail if x > pivot] # 분할된 오른쪽 부분\n",
        "\n",
        "    # 분할 이후 왼쪽 부분과 오른쪽 부분에서 각각 정렬을 수행하고, 전체 리스트를 반환\n",
        "    return quick_sort(left_side) + [pivot] + quick_sort(right_side)\n",
        "\n",
        "print(quick_sort(array))"
      ],
      "metadata": {
        "id": "87Jsh_xXM1pd"
      },
      "execution_count": null,
      "outputs": []
    },
    {
      "cell_type": "markdown",
      "source": [
        "계수 정렬"
      ],
      "metadata": {
        "id": "P8ZTcBqRK1wB"
      }
    },
    {
      "cell_type": "code",
      "source": [
        "# 모든 원소의 값이 0보다 크거나 같다고 가정\n",
        "array = [7, 5, 9, 0, 3, 1, 6, 2, 9, 1, 4, 8, 0, 5, 2]\n",
        "# 모든 범위를 포함하는 리스트 선언 (모든 값은 0으로 초기화)\n",
        "count = [0] * (max(array) + 1)\n",
        "\n",
        "for i in range(len(array)):\n",
        "    count[array[i]] += 1 # 각 데이터에 해당하는 인덱스의 값 증가\n",
        "\n",
        "for i in range(len(count)): # 리스트에 기록된 정렬 정보 확인\n",
        "    for j in range(count[i]):\n",
        "        print(i, end=' ') # 띄어쓰기를 구분으로 등장한 횟수만큼 인덱스 출력"
      ],
      "metadata": {
        "id": "m20CysknM4Rq"
      },
      "execution_count": null,
      "outputs": []
    },
    {
      "cell_type": "markdown",
      "source": [
        "정렬 라이브러리 기본 예제"
      ],
      "metadata": {
        "id": "CtdFMFP5K3Sn"
      }
    },
    {
      "cell_type": "code",
      "source": [
        "array = [7, 5, 9, 0, 3, 1, 6, 2, 4, 8]\n",
        "\n",
        "result = sorted(array)\n",
        "print(result)"
      ],
      "metadata": {
        "id": "ROR8Vtb3M60C"
      },
      "execution_count": null,
      "outputs": []
    },
    {
      "cell_type": "markdown",
      "source": [
        "정렬 라이브러리 키(Key) 기준 정렬 예제"
      ],
      "metadata": {
        "id": "y4Sr7GhkK4KD"
      }
    },
    {
      "cell_type": "code",
      "source": [
        "array = [('바나나', 2), ('사과', 5), ('당근', 3)]\n",
        "\n",
        "def setting(data):\n",
        "    return data[1]\n",
        "\n",
        "result = sorted(array, key=setting)\n",
        "print(result)"
      ],
      "metadata": {
        "id": "GS9vEKYJM8j3"
      },
      "execution_count": null,
      "outputs": []
    },
    {
      "cell_type": "markdown",
      "source": [
        "위에서 아래로"
      ],
      "metadata": {
        "id": "iXarGGcuK48V"
      }
    },
    {
      "cell_type": "code",
      "source": [
        "# N 입력 받기\n",
        "n = int(input())\n",
        "\n",
        "# N개의 정수를 입력 받아 리스트에 저장\n",
        "array = []\n",
        "for i in range(n):\n",
        "    array.append(int(input()))\n",
        "\n",
        "# 파이썬 정렬 라이브러리를 이용하여 내림차순 정렬 수행\n",
        "array = sorted(array, reverse=True)\n",
        "\n",
        "# 정렬이 수행된 결과를 출력\n",
        "for i in array:\n",
        "    print(i, end=' ')"
      ],
      "metadata": {
        "id": "6R91_xX5M-Xf"
      },
      "execution_count": null,
      "outputs": []
    },
    {
      "cell_type": "markdown",
      "source": [
        "성적이 낮은 순서대로 학생 출력하기"
      ],
      "metadata": {
        "id": "wu6vKzJ2K50Z"
      }
    },
    {
      "cell_type": "code",
      "source": [
        "# N 입력 받기\n",
        "n = int(input())\n",
        "\n",
        "# N명의 학생 정보를 입력 받아 리스트에 저장\n",
        "array = []\n",
        "for i in range(n):\n",
        "    input_data = input().split()\n",
        "    # 이름은 문자열 그대로, 점수는 정수형으로 변환하여 저장\n",
        "    array.append((input_data[0], int(input_data[1])))\n",
        "\n",
        "# 키(Key)를 이용하여, 점수를 기준으로 정렬\n",
        "array = sorted(array, key=lambda student: student[1])\n",
        "\n",
        "# 정렬이 수행된 결과를 출력\n",
        "for student in array:\n",
        "    print(student[0], end=' ')"
      ],
      "metadata": {
        "id": "23l7_mWjNAkK"
      },
      "execution_count": null,
      "outputs": []
    },
    {
      "cell_type": "markdown",
      "source": [
        "두 배열의 원소 교체"
      ],
      "metadata": {
        "id": "riTfjr4ZK6bo"
      }
    },
    {
      "cell_type": "code",
      "source": [
        "n, k = map(int, input().split()) # N과 K를 입력 받기\n",
        "a = list(map(int, input().split())) # 배열 A의 모든 원소를 입력받기\n",
        "b = list(map(int, input().split())) # 배열 B의 모든 원소를 입력받기\n",
        "\n",
        "a.sort() # 배열 A는 오름차순 정렬 수행\n",
        "b.sort(reverse=True) # 배열 B는 내림차순 정렬 수행\n",
        "\n",
        "# 첫 번째 인덱스부터 확인하며, 두 배열의 원소를 최대 K번 비교\n",
        "for i in range(k):\n",
        "    # A의 원소가 B의 원소보다 작은 경우\n",
        "    if a[i] < b[i]:\n",
        "        # 두 원소를 교체\n",
        "        a[i], b[i] = b[i], a[i]\n",
        "    else: # A의 원소가 B의 원소보다 크거나 같을 때, 반복문을 탈출\n",
        "        break\n",
        "\n",
        "print(sum(a)) # 배열 A의 모든 원소의 합을 출력"
      ],
      "metadata": {
        "id": "UF3lTdFBNCBK"
      },
      "execution_count": null,
      "outputs": []
    },
    {
      "cell_type": "markdown",
      "source": [
        "# **7장 이진 탐색**"
      ],
      "metadata": {
        "id": "4dJu7WrFK7Mr"
      }
    },
    {
      "cell_type": "markdown",
      "source": [
        "순차 탐색"
      ],
      "metadata": {
        "id": "-1Dts7xLK7vj"
      }
    },
    {
      "cell_type": "code",
      "source": [
        "# 순차 탐색 소스코드 구현\n",
        "def sequential_search(n, target, array):\n",
        "    # 각 원소를 하나씩 확인하며\n",
        "    for i in range(n):\n",
        "        # 현재의 원소가 찾고자 하는 원소와 동일한 경우\n",
        "        if array[i] == target:\n",
        "            return i + 1 # 현재의 위치 반환 (인덱스는 0부터 시작하므로 1 더하기)\n",
        "    return -1 # 원소를 찾지 못한 경우 -1 반환\n",
        "\n",
        "print(\"생성할 원소 개수를 입력한 다음 한 칸 띄고 찾을 문자열을 입력하세요.\")\n",
        "input_data = input().split()\n",
        "n = int(input_data[0]) # 원소의 개수\n",
        "target = input_data[1] # 찾고자 하는 문자열\n",
        "\n",
        "print(\"앞서 적은 원소 개수만큼 문자열을 입력하세요. 구분은 띄어쓰기 한 칸으로 합니다.\")  \n",
        "array = input().split()\n",
        "\n",
        "# 순차 탐색 수행 결과 출력\n",
        "print(sequential_search(n, target, array))"
      ],
      "metadata": {
        "id": "AzRT-FzGNDyW"
      },
      "execution_count": null,
      "outputs": []
    },
    {
      "cell_type": "markdown",
      "source": [
        "재귀 함수를 이용한 이진 탐색"
      ],
      "metadata": {
        "id": "sELWPYtRK8_y"
      }
    },
    {
      "cell_type": "code",
      "source": [
        "# 이진 탐색 소스코드 구현 (재귀 함수)\n",
        "def binary_search(array, target, start, end):\n",
        "    if start > end:\n",
        "        return None\n",
        "    mid = (start + end) // 2\n",
        "    # 찾은 경우 중간점 인덱스 반환\n",
        "    if array[mid] == target:\n",
        "        return mid\n",
        "    # 중간점의 값보다 찾고자 하는 값이 작은 경우 왼쪽 확인\n",
        "    elif array[mid] > target:\n",
        "        return binary_search(array, target, start, mid - 1)\n",
        "    # 중간점의 값보다 찾고자 하는 값이 큰 경우 오른쪽 확인\n",
        "    else:\n",
        "        return binary_search(array, target, mid + 1, end)\n",
        "\n",
        "# n(원소의 개수)과 target(찾고자 하는 값)을 입력 받기\n",
        "n, target = list(map(int, input().split()))\n",
        "# 전체 원소 입력 받기\n",
        "array = list(map(int, input().split()))\n",
        "\n",
        "# 이진 탐색 수행 결과 출력\n",
        "result = binary_search(array, target, 0, n - 1)\n",
        "if result == None:\n",
        "    print(\"원소가 존재하지 않습니다.\")\n",
        "else:\n",
        "    print(result + 1)"
      ],
      "metadata": {
        "id": "1iAmfDdVNFIh"
      },
      "execution_count": null,
      "outputs": []
    },
    {
      "cell_type": "markdown",
      "source": [
        "반복문을 이용한 이진 탐색"
      ],
      "metadata": {
        "id": "qNtzwSLgK9-v"
      }
    },
    {
      "cell_type": "code",
      "source": [
        "# 이진 탐색 소스코드 구현 (반복문)\n",
        "def binary_search(array, target, start, end):\n",
        "    while start <= end:\n",
        "        mid = (start + end) // 2\n",
        "        # 찾은 경우 중간점 인덱스 반환\n",
        "        if array[mid] == target:\n",
        "            return mid\n",
        "        # 중간점의 값보다 찾고자 하는 값이 작은 경우 왼쪽 확인\n",
        "        elif array[mid] > target:\n",
        "            end = mid - 1\n",
        "        # 중간점의 값보다 찾고자 하는 값이 큰 경우 오른쪽 확인\n",
        "        else:\n",
        "            start = mid + 1\n",
        "    return None\n",
        "\n",
        "# n(원소의 개수)과 target(찾고자 하는 값)을 입력 받기\n",
        "n, target = list(map(int, input().split()))\n",
        "# 전체 원소 입력 받기\n",
        "array = list(map(int, input().split()))\n",
        "\n",
        "# 이진 탐색 수행 결과 출력\n",
        "result = binary_search(array, target, 0, n - 1)\n",
        "if result == None:\n",
        "    print(\"원소가 존재하지 않습니다.\")\n",
        "else:\n",
        "    print(result + 1)"
      ],
      "metadata": {
        "id": "grg_NPfSNHYq"
      },
      "execution_count": null,
      "outputs": []
    },
    {
      "cell_type": "markdown",
      "source": [
        "파이썬에서 빠르게 입력 받기"
      ],
      "metadata": {
        "id": "oB-hgVd5K-tc"
      }
    },
    {
      "cell_type": "code",
      "source": [
        "import sys\n",
        "\n",
        "# 하나의 문자열 데이터 입력 받기\n",
        "input_data = sys.stdin.readline().rstrip()\n",
        "# 입력 받은 문자열 그대로 출력하기\n",
        "print(input_data)"
      ],
      "metadata": {
        "id": "-jldMHE-NJQC"
      },
      "execution_count": null,
      "outputs": []
    },
    {
      "cell_type": "markdown",
      "source": [
        "이진 탐색으로 해결"
      ],
      "metadata": {
        "id": "5v-JbpgIK_x3"
      }
    },
    {
      "cell_type": "code",
      "source": [
        "# 이진 탐색 소스코드 구현 (반복문)\n",
        "def binary_search(array, target, start, end):\n",
        "    while start <= end:\n",
        "        mid = (start + end) // 2\n",
        "        # 찾은 경우 중간점 인덱스 반환\n",
        "        if array[mid] == target:\n",
        "            return mid\n",
        "        # 중간점의 값보다 찾고자 하는 값이 작은 경우 왼쪽 확인\n",
        "        elif array[mid] > target:\n",
        "            end = mid - 1\n",
        "        # 중간점의 값보다 찾고자 하는 값이 작은 경우 오른쪽 확인\n",
        "        else:\n",
        "            start = mid + 1\n",
        "    return None\n",
        "\n",
        "# N(가게의 부품 개수) 입력\n",
        "n = int(input())\n",
        "# 가게에 있는 전체 부품 번호를 공백을 기준으로 구분하여 입력\n",
        "array = list(map(int, input().split()))\n",
        "array.sort() # 이진 탐색을 수행하기 위해 사전에 정렬 수행\n",
        "# M(손님이 확인 요청한 부품 개수) 입력\n",
        "m = int(input())\n",
        "# 손님이 확인 요청한 전체 부품 번호를 공백을 기준으로 구분하여 입력\n",
        "x = list(map(int, input().split()))\n",
        "\n",
        "# 손님이 확인 요청한 부품 번호를 하나씩 확인\n",
        "for i in x:\n",
        "    # 해당 부품이 존재하는지 확인\n",
        "    result = binary_search(array, i, 0, n - 1)\n",
        "    if result != None:\n",
        "        print('yes', end=' ')\n",
        "    else:\n",
        "        print('no', end=' ')"
      ],
      "metadata": {
        "id": "_KhExLLaNLFv"
      },
      "execution_count": null,
      "outputs": []
    },
    {
      "cell_type": "markdown",
      "source": [
        "계수 정렬로 해결"
      ],
      "metadata": {
        "id": "36aCLQYRLAZh"
      }
    },
    {
      "cell_type": "code",
      "source": [
        "# N(가게의 부품 개수) 입력\n",
        "n = int(input())\n",
        "array = [0] * 1000001\n",
        "\n",
        "# 가게에 있는 전체 부품 번호를 입력 받아서 기록\n",
        "for i in input().split():\n",
        "    array[int(i)] = 1\n",
        "\n",
        "# M(손님이 확인 요청한 부품 개수) 입력\n",
        "m = int(input())\n",
        "# 손님이 확인 요청한 전체 부품 번호를 공백을 기준으로 구분하여 입력\n",
        "x = list(map(int, input().split()))\n",
        "\n",
        "# 손님이 확인 요청한 부품 번호를 하나씩 확인\n",
        "for i in x:\n",
        "    # 해당 부품이 존재하는지 확인\n",
        "    if array[i] == 1:\n",
        "        print('yes', end=' ')\n",
        "    else:\n",
        "        print('no', end=' ')"
      ],
      "metadata": {
        "id": "SVyvmQt0NMjo"
      },
      "execution_count": null,
      "outputs": []
    },
    {
      "cell_type": "markdown",
      "source": [
        "집합(Set) 자료형으로 해결"
      ],
      "metadata": {
        "id": "xUyuicoFLBCZ"
      }
    },
    {
      "cell_type": "code",
      "source": [
        "# N(가게의 부품 개수) 입력\n",
        "n = int(input())\n",
        "# 가게에 있는 전체 부품 번호를 입력 받아서 집합(Set) 자료형에 기록\n",
        "array = set(map(int, input().split()))\n",
        "\n",
        "# M(손님이 확인 요청한 부품 개수) 입력\n",
        "m = int(input())\n",
        "# 손님이 확인 요청한 전체 부품 번호를 공백을 기준으로 구분하여 입력\n",
        "x = list(map(int, input().split()))\n",
        "\n",
        "# 손님이 확인 요청한 부품 번호를 하나씩 확인\n",
        "for i in x:\n",
        "    # 해당 부품이 존재하는지 확인\n",
        "    if i in array:\n",
        "        print('yes', end=' ')\n",
        "    else:\n",
        "        print('no', end=' ')"
      ],
      "metadata": {
        "id": "8Cn8wAWDNNkV"
      },
      "execution_count": null,
      "outputs": []
    },
    {
      "cell_type": "markdown",
      "source": [
        "떡볶이 떡 만들기"
      ],
      "metadata": {
        "id": "zyvVdXCQLBpo"
      }
    },
    {
      "cell_type": "code",
      "source": [
        "# 떡의 개수(N)와 요청한 떡의 길이(M)을 입력\n",
        "n, m = list(map(int, input().split(' ')))\n",
        "# 각 떡의 개별 높이 정보를 입력\n",
        "array = list(map(int, input().split()))\n",
        "\n",
        "# 이진 탐색을 위한 시작점과 끝점 설정\n",
        "start = 0\n",
        "end = max(array)\n",
        "\n",
        "# 이진 탐색 수행 (반복적)\n",
        "result = 0\n",
        "while(start <= end):\n",
        "    total = 0\n",
        "    mid = (start + end) // 2\n",
        "    for x in array:\n",
        "        # 잘랐을 때의 떡볶이 양 계산\n",
        "        if x > mid:\n",
        "            total += x - mid\n",
        "    # 떡볶이 양이 부족한 경우 더 많이 자르기 (오른쪽 부분 탐색)\n",
        "    if total < m:\n",
        "        end = mid - 1\n",
        "    # 떡볶이 양이 충분한 경우 덜 자르기 (왼쪽 부분 탐색)\n",
        "    else:\n",
        "        result = mid # 최대한 덜 잘랐을 때가 정답이므로, 여기에서 result에 기록\n",
        "        start = mid + 1\n",
        "\n",
        "# 정답 출력\n",
        "print(result)"
      ],
      "metadata": {
        "id": "Shma1anrNTZg"
      },
      "execution_count": null,
      "outputs": []
    },
    {
      "cell_type": "markdown",
      "source": [
        "# **8장 다이나믹 프로그래밍**"
      ],
      "metadata": {
        "id": "Y7in6ZzELCM3"
      }
    },
    {
      "cell_type": "markdown",
      "source": [
        "비효율적인 피보나치 수열 구현"
      ],
      "metadata": {
        "id": "LrCLNL3jLCvZ"
      }
    },
    {
      "cell_type": "code",
      "source": [
        "# 피보나치 함수(Fibonacci Function)을 재귀함수로 구현\n",
        "def fibo(x):\n",
        "    if x == 1 or x == 2:\n",
        "        return 1\n",
        "    return fibo(x - 1) + fibo(x - 2)\n",
        "\n",
        "print(fibo(4))"
      ],
      "metadata": {
        "id": "inDjD9HxNVH-"
      },
      "execution_count": null,
      "outputs": []
    },
    {
      "cell_type": "markdown",
      "source": [
        "피보나치 수열 (Top-bottom)"
      ],
      "metadata": {
        "id": "_oHYwd7GLEWa"
      }
    },
    {
      "cell_type": "code",
      "source": [
        "# 한 번 계산된 결과를 메모이제이션(Memoization)하기 위한 리스트 초기화\n",
        "d = [0] * 100\n",
        "\n",
        "# 피보나치 함수(Fibonacci Function)를 재귀함수로 구현 (탑다운 다이나믹 프로그래밍)\n",
        "def fibo(x):\n",
        "    # 종료 조건(1 혹은 2일 때 1을 반환)\n",
        "    if x == 1 or x == 2:\n",
        "        return 1\n",
        "    # 이미 계산한 적 있는 문제라면 그대로 반환\n",
        "    if d[x] != 0:\n",
        "        return d[x]\n",
        "    # 아직 계산하지 않은 문제라면 점화식에 따라서 피보나치 결과 반환\n",
        "    d[x] = fibo(x - 1) + fibo(x - 2)\n",
        "    return d[x]\n",
        "\n",
        "print(fibo(99))"
      ],
      "metadata": {
        "id": "gRkeugAkNXNR"
      },
      "execution_count": null,
      "outputs": []
    },
    {
      "cell_type": "markdown",
      "source": [
        "피보나치 수열 (Bottom-top)"
      ],
      "metadata": {
        "id": "Hoxk6AaxLFJb"
      }
    },
    {
      "cell_type": "code",
      "source": [
        "# 앞서 계산된 결과를 저장하기 위한 DP 테이블 초기화\n",
        "d = [0] * 100\n",
        "\n",
        "# 첫 번째 피보나치 수와 두 번째 피보나치 수는 1\n",
        "d[1] = 1\n",
        "d[2] = 1\n",
        "n = 99\n",
        "\n",
        "# 피보나치 함수(Fibonacci Function) 반복문으로 구현(보텀업 다이나믹 프로그래밍)\n",
        "for i in range(3, n + 1):\n",
        "    d[i] = d[i - 1] + d[i - 2]\n",
        "\n",
        "print(d[n])"
      ],
      "metadata": {
        "id": "FjziUUCwNZXk"
      },
      "execution_count": null,
      "outputs": []
    },
    {
      "cell_type": "markdown",
      "source": [
        "1로 만들기"
      ],
      "metadata": {
        "id": "TqWT0eLJLFzI"
      }
    },
    {
      "cell_type": "code",
      "source": [
        "# 정수 X를 입력 받기\n",
        "x = int(input())\n",
        "\n",
        "# 앞서 계산된 결과를 저장하기 위한 DP 테이블 초기화\n",
        "d = [0] * 1000001\n",
        "\n",
        "# 다이나믹 프로그래밍(Dynamic Programming) 진행(보텀업)\n",
        "for i in range(2, x + 1):\n",
        "    # 현재의 수에서 1을 빼는 경우\n",
        "    d[i] = d[i - 1] + 1\n",
        "    # 현재의 수가 2로 나누어 떨어지는 경우\n",
        "    if i % 2 == 0:\n",
        "        d[i] = min(d[i], d[i // 2] + 1)\n",
        "    # 현재의 수가 3으로 나누어 떨어지는 경우\n",
        "    if i % 3 == 0:\n",
        "        d[i] = min(d[i], d[i // 3] + 1)\n",
        "    # 현재의 수가 5로 나누어 떨어지는 경우\n",
        "    if i % 5 == 0:\n",
        "        d[i] = min(d[i], d[i // 5] + 1)\n",
        "\n",
        "print(d[x])"
      ],
      "metadata": {
        "id": "xIxj4GSoNauA"
      },
      "execution_count": null,
      "outputs": []
    },
    {
      "cell_type": "markdown",
      "source": [
        "개미 전사"
      ],
      "metadata": {
        "id": "ARsSra2GLGS4"
      }
    },
    {
      "cell_type": "code",
      "source": [
        "# 정수 N을 입력 받기\n",
        "n = int(input())\n",
        "# 모든 식량 정보 입력 받기\n",
        "array = list(map(int, input().split()))\n",
        "\n",
        "# 앞서 계산된 결과를 저장하기 위한 DP 테이블 초기화\n",
        "d = [0] * 100\n",
        "\n",
        "# 다이나믹 프로그래밍(Dynamic Programming) 진행 (보텀업)\n",
        "d[0] = array[0]\n",
        "d[1] = max(array[0], array[1]) \n",
        "for i in range(2, n):\n",
        "    d[i] = max(d[i - 1], d[i - 2] + array[i])\n",
        "\n",
        "# 계산된 결과 출력\n",
        "print(d[n - 1])"
      ],
      "metadata": {
        "id": "s4565N_LNbQc"
      },
      "execution_count": null,
      "outputs": []
    },
    {
      "cell_type": "markdown",
      "source": [
        "바닥 공사"
      ],
      "metadata": {
        "id": "sMI0SKdaLG5g"
      }
    },
    {
      "cell_type": "code",
      "source": [
        "# 정수 N을 입력 받기\n",
        "n = int(input())\n",
        "\n",
        "# 앞서 계산된 결과를 저장하기 위한 DP 테이블 초기화\n",
        "d = [0] * 1001\n",
        "\n",
        "# 다이나믹 프로그래밍(Dynamic Programming) 진행 (보텀업)\n",
        "d[1] = 1\n",
        "d[2] = 3\n",
        "for i in range(3, n + 1):\n",
        "    d[i] = (d[i - 1] + 2 * d[i - 2]) % 796796\n",
        "\n",
        "# 계산된 결과 출력\n",
        "print(d[n])"
      ],
      "metadata": {
        "id": "jdpXGLmLNdkj"
      },
      "execution_count": null,
      "outputs": []
    },
    {
      "cell_type": "markdown",
      "source": [
        "효율적인 화폐 구성"
      ],
      "metadata": {
        "id": "FEf5mY4FLHso"
      }
    },
    {
      "cell_type": "code",
      "source": [
        "# 정수 N, M을 입력 받기\n",
        "n, m = map(int, input().split())\n",
        "# N개의 화폐 단위 정보를 입력 받기\n",
        "array = []\n",
        "for i in range(n):\n",
        "    array.append(int(input()))\n",
        "\n",
        "# 한 번 계산된 결과를 저장하기 위한 DP 테이블 초기화\n",
        "d = [10001] * (m + 1)\n",
        "\n",
        "# 다이나믹 프로그래밍(Dynamic Programming) 진행(보텀업)\n",
        "d[0] = 0\n",
        "for i in range(n):\n",
        "    for j in range(array[i], m + 1):\n",
        "        if d[j - array[i]] != 10001: # (i - k)원을 만드는 방법이 존재하는 경우\n",
        "            d[j] = min(d[j], d[j - array[i]] + 1)\n",
        "\n",
        "# 계산된 결과 출력\n",
        "if d[m] == 10001: # 최종적으로 M원을 만드는 방법이 없는 경우\n",
        "    print(-1)\n",
        "else:\n",
        "    print(d[m])"
      ],
      "metadata": {
        "id": "BcngUZqkNe_A"
      },
      "execution_count": null,
      "outputs": []
    },
    {
      "cell_type": "markdown",
      "source": [
        "# **9장 최단 경로**"
      ],
      "metadata": {
        "id": "ng3QZ4k6LIKg"
      }
    },
    {
      "cell_type": "markdown",
      "source": [
        "간단한 다익스트라 알고리즘"
      ],
      "metadata": {
        "id": "Air3WQEsLJIO"
      }
    },
    {
      "cell_type": "code",
      "source": [
        "import sys\n",
        "input = sys.stdin.readline\n",
        "INF = int(1e9) # 무한을 의미하는 값으로 10억을 설정\n",
        "\n",
        "# 노드의 개수, 간선의 개수를 입력받기\n",
        "n, m = map(int, input().split())\n",
        "# 시작 노드 번호를 입력받기\n",
        "start = int(input())\n",
        "# 각 노드에 연결되어 있는 노드에 대한 정보를 담는 리스트를 만들기\n",
        "graph = [[] for i in range(n + 1)]\n",
        "# 방문한 적이 있는지 체크하는 목적의 리스트를 만들기\n",
        "visited = [False] * (n + 1)\n",
        "# 최단 거리 테이블을 모두 무한으로 초기화\n",
        "distance = [INF] * (n + 1)\n",
        "\n",
        "# 모든 간선 정보를 입력받기\n",
        "for _ in range(m):\n",
        "    a, b, c = map(int, input().split())\n",
        "    # a번 노드에서 b번 노드로 가는 비용이 c라는 의미\n",
        "    graph[a].append((b, c))\n",
        "\n",
        "# 방문하지 않은 노드 중에서, 가장 최단 거리가 짧은 노드의 번호를 반환\n",
        "def get_smallest_node():\n",
        "    min_value = INF\n",
        "    index = 0 # 가장 최단 거리가 짧은 노드(인덱스)\n",
        "    for i in range(1, n + 1):\n",
        "        if distance[i] < min_value and not visited[i]:\n",
        "            min_value = distance[i]\n",
        "            index = i\n",
        "    return index\n",
        "\n",
        "def dijkstra(start):\n",
        "    # 시작 노드에 대해서 초기화\n",
        "    distance[start] = 0\n",
        "    visited[start] = True\n",
        "    for j in graph[start]:\n",
        "        distance[j[0]] = j[1]\n",
        "    # 시작 노드를 제외한 전체 n - 1개의 노드에 대해 반복\n",
        "    for i in range(n - 1):\n",
        "        # 현재 최단 거리가 가장 짧은 노드를 꺼내서, 방문 처리\n",
        "        now = get_smallest_node()\n",
        "        visited[now] = True\n",
        "        # 현재 노드와 연결된 다른 노드를 확인\n",
        "        for j in graph[now]:\n",
        "            cost = distance[now] + j[1]\n",
        "            # 현재 노드를 거쳐서 다른 노드로 이동하는 거리가 더 짧은 경우\n",
        "            if cost < distance[j[0]]:\n",
        "                distance[j[0]] = cost\n",
        "\n",
        "# 다익스트라 알고리즘을 수행\n",
        "dijkstra(start)\n",
        "\n",
        "# 모든 노드로 가기 위한 최단 거리를 출력\n",
        "for i in range(1, n + 1):\n",
        "    # 도달할 수 없는 경우, 무한(INFINITY)이라고 출력\n",
        "    if distance[i] == INF:\n",
        "        print(\"INFINITY\")\n",
        "    # 도달할 수 있는 경우 거리를 출력\n",
        "    else:\n",
        "        print(distance[i])"
      ],
      "metadata": {
        "id": "JUmbxqsBNg4F"
      },
      "execution_count": null,
      "outputs": []
    },
    {
      "cell_type": "markdown",
      "source": [
        "개선된 다익스트라 알고리즘 (우선순위 큐)"
      ],
      "metadata": {
        "id": "6r1PwGUXLLhO"
      }
    },
    {
      "cell_type": "code",
      "source": [
        "import heapq\n",
        "import sys\n",
        "input = sys.stdin.readline\n",
        "INF = int(1e9) # 무한을 의미하는 값으로 10억을 설정\n",
        "\n",
        "# 노드의 개수, 간선의 개수를 입력받기\n",
        "n, m = map(int, input().split())\n",
        "# 시작 노드 번호를 입력받기\n",
        "start = int(input())\n",
        "# 각 노드에 연결되어 있는 노드에 대한 정보를 담는 리스트를 만들기\n",
        "graph = [[] for i in range(n + 1)]\n",
        "# 최단 거리 테이블을 모두 무한으로 초기화\n",
        "distance = [INF] * (n + 1)\n",
        "\n",
        "# 모든 간선 정보를 입력받기\n",
        "for _ in range(m):\n",
        "    a, b, c = map(int, input().split())\n",
        "    # a번 노드에서 b번 노드로 가는 비용이 c라는 의미\n",
        "    graph[a].append((b, c))\n",
        "\n",
        "def dijkstra(start):\n",
        "    q = []\n",
        "    # 시작 노드로 가기 위한 최단 경로는 0으로 설정하여, 큐에 삽입\n",
        "    heapq.heappush(q, (0, start))\n",
        "    distance[start] = 0\n",
        "    while q: # 큐가 비어있지 않다면\n",
        "        # 가장 최단 거리가 짧은 노드에 대한 정보 꺼내기\n",
        "        dist, now = heapq.heappop(q)\n",
        "        # 현재 노드가 이미 처리된 적이 있는 노드라면 무시\n",
        "        if distance[now] < dist:\n",
        "            continue\n",
        "        # 현재 노드와 연결된 다른 인접한 노드들을 확인\n",
        "        for i in graph[now]:\n",
        "            cost = dist + i[1]\n",
        "            # 현재 노드를 거쳐서, 다른 노드로 이동하는 거리가 더 짧은 경우\n",
        "            if cost < distance[i[0]]:\n",
        "                distance[i[0]] = cost\n",
        "                heapq.heappush(q, (cost, i[0]))\n",
        "\n",
        "# 다익스트라 알고리즘을 수행\n",
        "dijkstra(start)\n",
        "\n",
        "# 모든 노드로 가기 위한 최단 거리를 출력\n",
        "for i in range(1, n + 1):\n",
        "    # 도달할 수 없는 경우, 무한(INFINITY)이라고 출력\n",
        "    if distance[i] == INF:\n",
        "        print(\"INFINITY\")\n",
        "    # 도달할 수 있는 경우 거리를 출력\n",
        "    else:\n",
        "        print(distance[i])"
      ],
      "metadata": {
        "id": "Kf_7p6JANihu"
      },
      "execution_count": null,
      "outputs": []
    },
    {
      "cell_type": "markdown",
      "source": [
        "플로이드 워셜 알고리즘"
      ],
      "metadata": {
        "id": "wgtzFbcALMsi"
      }
    },
    {
      "cell_type": "code",
      "source": [
        "INF = int(1e9) # 무한을 의미하는 값으로 10억을 설정\n",
        "\n",
        "# 노드의 개수 및 간선의 개수를 입력받기\n",
        "n = int(input())\n",
        "m = int(input())\n",
        "# 2차원 리스트(그래프 표현)를 만들고, 모든 값을 무한으로 초기화\n",
        "graph = [[INF] * (n + 1) for _ in range(n + 1)]\n",
        "\n",
        "# 자기 자신에서 자기 자신으로 가는 비용은 0으로 초기화\n",
        "for a in range(1, n + 1):\n",
        "    for b in range(1, n + 1):\n",
        "        if a == b:\n",
        "            graph[a][b] = 0\n",
        "\n",
        "# 각 간선에 대한 정보를 입력 받아, 그 값으로 초기화\n",
        "for _ in range(m):\n",
        "    # A에서 B로 가는 비용은 C라고 설정\n",
        "    a, b, c = map(int, input().split())\n",
        "    graph[a][b] = c\n",
        "\n",
        "# 점화식에 따라 플로이드 워셜 알고리즘을 수행\n",
        "for k in range(1, n + 1):\n",
        "    for a in range(1, n + 1):\n",
        "        for b in range(1, n + 1):\n",
        "            graph[a][b] = min(graph[a][b], graph[a][k] + graph[k][b])\n",
        "\n",
        "# 수행된 결과를 출력\n",
        "for a in range(1, n + 1):\n",
        "    for b in range(1, n + 1):\n",
        "        # 도달할 수 없는 경우, 무한(INFINITY)이라고 출력\n",
        "        if graph[a][b] == 1e9:\n",
        "            print(\"INFINITY\", end=\" \")\n",
        "        # 도달할 수 있는 경우 거리를 출력\n",
        "        else:\n",
        "            print(graph[a][b], end=\" \")\n",
        "    print()"
      ],
      "metadata": {
        "id": "PAnib5iyNjIk"
      },
      "execution_count": null,
      "outputs": []
    },
    {
      "cell_type": "markdown",
      "source": [
        "미래 도시"
      ],
      "metadata": {
        "id": "TS5VDFUwLNkd"
      }
    },
    {
      "cell_type": "code",
      "source": [
        "INF = int(1e9) # 무한을 의미하는 값으로 10억을 설정\n",
        "\n",
        "# 노드의 개수 및 간선의 개수를 입력받기\n",
        "n, m = map(int, input().split())\n",
        "# 2차원 리스트(그래프 표현)를 만들고, 모든 값을 무한으로 초기화\n",
        "graph = [[INF] * (n + 1) for _ in range(n + 1)]\n",
        "\n",
        "# 자기 자신에서 자기 자신으로 가는 비용은 0으로 초기화\n",
        "for a in range(1, n + 1):\n",
        "    for b in range(1, n + 1):\n",
        "        if a == b:\n",
        "            graph[a][b] = 0\n",
        "\n",
        "# 각 간선에 대한 정보를 입력 받아, 그 값으로 초기화\n",
        "for _ in range(m):\n",
        "    # A와 B가 서로에게 가는 비용은 1이라고 설정\n",
        "    a, b = map(int, input().split())\n",
        "    graph[a][b] = 1\n",
        "    graph[b][a] = 1\n",
        "\n",
        "# 거쳐 갈 노드 X와 최종 목적지 노드 K를 입력받기\n",
        "x, k = map(int, input().split())\n",
        "\n",
        "# 점화식에 따라 플로이드 워셜 알고리즘을 수행\n",
        "for k in range(1, n + 1):\n",
        "    for a in range(1, n + 1):\n",
        "        for b in range(1, n + 1):\n",
        "            graph[a][b] = min(graph[a][b], graph[a][k] + graph[k][b])\n",
        "\n",
        "# 수행된 결과를 출력\n",
        "distance = graph[1][k] + graph[k][x]\n",
        "\n",
        "# 도달할 수 없는 경우, -1을 출력\n",
        "if distance >= 1e9:\n",
        "    print(\"-1\")\n",
        "# 도달할 수 있다면, 최단 거리를 출력\n",
        "else:\n",
        "    print(distance)"
      ],
      "metadata": {
        "id": "BbJii6dJNltE"
      },
      "execution_count": null,
      "outputs": []
    },
    {
      "cell_type": "markdown",
      "source": [
        "전보"
      ],
      "metadata": {
        "id": "5WfSlrvNLOJo"
      }
    },
    {
      "cell_type": "code",
      "source": [
        "import heapq\n",
        "import sys\n",
        "input = sys.stdin.readline\n",
        "INF = int(1e9) # 무한을 의미하는 값으로 10억을 설정\n",
        "\n",
        "# 노드의 개수, 간선의 개수, 시작 노드를 입력받기\n",
        "n, m, start = map(int, input().split())\n",
        "# 각 노드에 연결되어 있는 노드에 대한 정보를 담는 리스트를 만들기\n",
        "graph = [[] for i in range(n + 1)]\n",
        "# 최단 거리 테이블을 모두 무한으로 초기화\n",
        "distance = [INF] * (n + 1)\n",
        "\n",
        "# 모든 간선 정보를 입력받기\n",
        "for _ in range(m):\n",
        "    x, y, z = map(int, input().split())\n",
        "    # X번 노드에서 Y번 노드로 가는 비용이 Z라는 의미\n",
        "    graph[x].append((y, z))\n",
        "\n",
        "def dijkstra(start):\n",
        "   q = []\n",
        "   # 시작 노드로 가기 위한 최단 경로는 0으로 설정하여, 큐에 삽입\n",
        "   heapq.heappush(q, (0, start))\n",
        "   distance[start] = 0\n",
        "   while q: # 큐가 비어있지 않다면\n",
        "        # 가장 최단 거리가 짧은 노드에 대한 정보를 꺼내기\n",
        "        dist, now = heapq.heappop(q)\n",
        "        if distance[now] < dist:\n",
        "            continue\n",
        "        # 현재 노드와 연결된 다른 인접한 노드들을 확인\n",
        "        for i in graph[now]:\n",
        "            cost = dist + i[1]\n",
        "            # 현재 노드를 거쳐서, 다른 노드로 이동하는 거리가 더 짧은 경우\n",
        "            if cost < distance[i[0]]:\n",
        "                distance[i[0]] = cost\n",
        "                heapq.heappush(q, (cost, i[0]))\n",
        "\n",
        "# 다익스트라 알고리즘을 수행\n",
        "dijkstra(start)\n",
        "\n",
        "# 도달할 수 있는 노드의 개수\n",
        "count = 0\n",
        "# 도달할 수 있는 노드 중에서, 가장 멀리 있는 노드와의 최단 거리\n",
        "max_distance = 0\n",
        "for d in distance:\n",
        "    # 도달할 수 있는 노드인 경우\n",
        "    if d != 1e9:\n",
        "        count += 1\n",
        "        max_distance = max(max_distance, d)\n",
        "\n",
        "# 시작 노드는 제외해야 하므로 count - 1을 출력\n",
        "print(count - 1, max_distance)"
      ],
      "metadata": {
        "id": "r1tBIJYShPnY"
      },
      "execution_count": null,
      "outputs": []
    },
    {
      "cell_type": "markdown",
      "source": [
        "# **10장 기타 그래프 이론**"
      ],
      "metadata": {
        "id": "zH9KEe3WLO1B"
      }
    },
    {
      "cell_type": "markdown",
      "source": [
        "간단한 서로소 집합 알고리즘"
      ],
      "metadata": {
        "id": "M35NuEb3LPRU"
      }
    },
    {
      "cell_type": "code",
      "source": [
        "# 특정 원소가 속한 집합을 찾기\n",
        "def find_parent(parent, x):\n",
        "    # 루트 노드가 아니라면, 루트 노드를 찾을 때까지 재귀적으로 호출\n",
        "    if parent[x] != x:\n",
        "        return find_parent(parent, parent[x])\n",
        "    return x\n",
        "\n",
        "# 두 원소가 속한 집합을 합치기\n",
        "def union_parent(parent, a, b):\n",
        "    a = find_parent(parent, a)\n",
        "    b = find_parent(parent, b)\n",
        "    if a < b:\n",
        "        parent[b] = a\n",
        "    else:\n",
        "        parent[a] = b\n",
        "\n",
        "# 노드의 개수와 간선(Union 연산)의 개수 입력 받기\n",
        "v, e = map(int, input().split())\n",
        "parent = [0] * (v + 1) # 부모 테이블 초기화하기\n",
        "\n",
        "# 부모 테이블상에서, 부모를 자기 자신으로 초기화\n",
        "for i in range(1, v + 1):\n",
        "    parent[i] = i\n",
        "\n",
        "# Union 연산을 각각 수행\n",
        "for i in range(e):\n",
        "    a, b = map(int, input().split())\n",
        "    union_parent(parent, a, b)\n",
        "\n",
        "# 각 원소가 속한 집합 출력하기\n",
        "print('각 원소가 속한 집합: ', end='')\n",
        "for i in range(1, v + 1):\n",
        "    print(find_parent(parent, i), end=' ')\n",
        "\n",
        "print()\n",
        "\n",
        "# 부모 테이블 내용 출력하기\n",
        "print('부모 테이블: ', end='')\n",
        "for i in range(1, v + 1):\n",
        "    print(parent[i], end=' ')"
      ],
      "metadata": {
        "id": "pW6QD3GVhS01"
      },
      "execution_count": null,
      "outputs": []
    },
    {
      "cell_type": "markdown",
      "source": [
        "개선된 서로소 집합 알고리즘 (경로 압축)"
      ],
      "metadata": {
        "id": "4lOIGaiTLQnV"
      }
    },
    {
      "cell_type": "code",
      "source": [
        "# 특정 원소가 속한 집합을 찾기\n",
        "def find_parent(parent, x):\n",
        "    # 루트 노드가 아니라면, 루트 노드를 찾을 때까지 재귀적으로 호출\n",
        "    if parent[x] != x:\n",
        "        parent[x] = find_parent(parent, parent[x])\n",
        "    return parent[x]\n",
        "\n",
        "# 두 원소가 속한 집합을 합치기\n",
        "def union_parent(parent, a, b):\n",
        "    a = find_parent(parent, a)\n",
        "    b = find_parent(parent, b)\n",
        "    if a < b:\n",
        "        parent[b] = a\n",
        "    else:\n",
        "        parent[a] = b\n",
        "\n",
        "# 노드의 개수와 간선(Union 연산)의 개수 입력 받기\n",
        "v, e = map(int, input().split())\n",
        "parent = [0] * (v + 1) # 부모 테이블 초기화하기\n",
        "\n",
        "# 부모 테이블상에서, 부모를 자기 자신으로 초기화\n",
        "for i in range(1, v + 1):\n",
        "    parent[i] = i\n",
        "\n",
        "# Union 연산을 각각 수행\n",
        "for i in range(e):\n",
        "    a, b = map(int, input().split())\n",
        "    union_parent(parent, a, b)\n",
        "\n",
        "# 각 원소가 속한 집합 출력하기\n",
        "print('각 원소가 속한 집합: ', end='')\n",
        "for i in range(1, v + 1):\n",
        "    print(find_parent(parent, i), end=' ')\n",
        "\n",
        "print()\n",
        "\n",
        "# 부모 테이블 내용 출력하기\n",
        "print('부모 테이블: ', end='')\n",
        "for i in range(1, v + 1):\n",
        "    print(parent[i], end=' ')"
      ],
      "metadata": {
        "id": "_bNjAHYohU4t"
      },
      "execution_count": null,
      "outputs": []
    },
    {
      "cell_type": "markdown",
      "source": [
        "서로소 집합을 활용한 사이클 판별"
      ],
      "metadata": {
        "id": "UbxtmUTwLRX8"
      }
    },
    {
      "cell_type": "code",
      "source": [
        "# 특정 원소가 속한 집합을 찾기\n",
        "def find_parent(parent, x):\n",
        "    # 루트 노드가 아니라면, 루트 노드를 찾을 때까지 재귀적으로 호출\n",
        "    if parent[x] != x:\n",
        "        parent[x] = find_parent(parent, parent[x])\n",
        "    return parent[x]\n",
        "\n",
        "# 두 원소가 속한 집합을 합치기\n",
        "def union_parent(parent, a, b):\n",
        "    a = find_parent(parent, a)\n",
        "    b = find_parent(parent, b)\n",
        "    if a < b:\n",
        "        parent[b] = a\n",
        "    else:\n",
        "        parent[a] = b\n",
        "\n",
        "# 노드의 개수와 간선(Union 연산)의 개수 입력 받기\n",
        "v, e = map(int, input().split())\n",
        "parent = [0] * (v + 1) # 부모 테이블 초기화하기\n",
        "\n",
        "# 부모 테이블상에서, 부모를 자기 자신으로 초기화\n",
        "for i in range(1, v + 1):\n",
        "    parent[i] = i\n",
        "\n",
        "cycle = False # 사이클 발생 여부\n",
        "\n",
        "for i in range(e):\n",
        "    a, b = map(int, input().split())\n",
        "    # 사이클이 발생한 경우 종료\n",
        "    if find_parent(parent, a) == find_parent(parent, b):\n",
        "        cycle = True\n",
        "        break\n",
        "    # 사이클이 발생하지 않았다면 합집합(Union) 연산 수행\n",
        "    else:\n",
        "        union_parent(parent, a, b)\n",
        "\n",
        "if cycle:\n",
        "    print(\"사이클이 발생했습니다.\")\n",
        "else:\n",
        "    print(\"사이클이 발생하지 않았습니다.\")"
      ],
      "metadata": {
        "id": "aQWXOFUUhXmS"
      },
      "execution_count": null,
      "outputs": []
    },
    {
      "cell_type": "markdown",
      "source": [
        "크루스칼 알고리즘"
      ],
      "metadata": {
        "id": "T2ZIsGGRLR8w"
      }
    },
    {
      "cell_type": "code",
      "source": [
        "# 특정 원소가 속한 집합을 찾기\n",
        "def find_parent(parent, x):\n",
        "    # 루트 노드가 아니라면, 루트 노드를 찾을 때까지 재귀적으로 호출\n",
        "    if parent[x] != x:\n",
        "        parent[x] = find_parent(parent, parent[x])\n",
        "    return parent[x]\n",
        "\n",
        "# 두 원소가 속한 집합을 합치기\n",
        "def union_parent(parent, a, b):\n",
        "    a = find_parent(parent, a)\n",
        "    b = find_parent(parent, b)\n",
        "    if a < b:\n",
        "        parent[b] = a\n",
        "    else:\n",
        "        parent[a] = b\n",
        "\n",
        "# 노드의 개수와 간선(Union 연산)의 개수 입력 받기\n",
        "v, e = map(int, input().split())\n",
        "parent = [0] * (v + 1) # 부모 테이블 초기화하기\n",
        "\n",
        "# 모든 간선을 담을 리스트와, 최종 비용을 담을 변수\n",
        "edges = []\n",
        "result = 0\n",
        "\n",
        "# 부모 테이블상에서, 부모를 자기 자신으로 초기화\n",
        "for i in range(1, v + 1):\n",
        "    parent[i] = i\n",
        "\n",
        "# 모든 간선에 대한 정보를 입력 받기\n",
        "for _ in range(e):\n",
        "    a, b, cost = map(int, input().split())\n",
        "    # 비용순으로 정렬하기 위해서 튜플의 첫 번째 원소를 비용으로 설정\n",
        "    edges.append((cost, a, b))\n",
        "\n",
        "# 간선을 비용순으로 정렬\n",
        "edges.sort()\n",
        "\n",
        "# 간선을 하나씩 확인하며\n",
        "for edge in edges:\n",
        "    cost, a, b = edge\n",
        "    # 사이클이 발생하지 않는 경우에만 집합에 포함\n",
        "    if find_parent(parent, a) != find_parent(parent, b):\n",
        "        union_parent(parent, a, b)\n",
        "        result += cost\n",
        "\n",
        "print(result)"
      ],
      "metadata": {
        "id": "JoK3SBwvhe4_"
      },
      "execution_count": null,
      "outputs": []
    },
    {
      "cell_type": "markdown",
      "source": [
        "위상 정렬"
      ],
      "metadata": {
        "id": "_wfrHYZILSmU"
      }
    },
    {
      "cell_type": "code",
      "source": [
        "from collections import deque\n",
        "\n",
        "# 노드의 개수와 간선의 개수를 입력 받기\n",
        "v, e = map(int, input().split())\n",
        "# 모든 노드에 대한 진입차수는 0으로 초기화\n",
        "indegree = [0] * (v + 1)\n",
        "# 각 노드에 연결된 간선 정보를 담기 위한 연결 리스트 초기화\n",
        "graph = [[] for i in range(v + 1)]\n",
        "\n",
        "# 방향 그래프의 모든 간선 정보를 입력 받기\n",
        "for _ in range(e):\n",
        "    a, b = map(int, input().split())\n",
        "    graph[a].append(b) # 정점 A에서 B로 이동 가능\n",
        "    # 진입 차수를 1 증가\n",
        "    indegree[b] += 1\n",
        "\n",
        "# 위상 정렬 함수\n",
        "def topology_sort():\n",
        "    result = [] # 알고리즘 수행 결과를 담을 리스트\n",
        "    q = deque() # 큐 기능을 위한 deque 라이브러리 사용\n",
        "\n",
        "    # 처음 시작할 때는 진입차수가 0인 노드를 큐에 삽입\n",
        "    for i in range(1, v + 1):\n",
        "        if indegree[i] == 0:\n",
        "            q.append(i)\n",
        "\n",
        "    # 큐가 빌 때까지 반복\n",
        "    while q:\n",
        "        # 큐에서 원소 꺼내기\n",
        "        now = q.popleft()\n",
        "        result.append(now)\n",
        "        # 해당 원소와 연결된 노드들의 진입차수에서 1 빼기\n",
        "        for i in graph[now]:\n",
        "            indegree[i] -= 1\n",
        "            # 새롭게 진입차수가 0이 되는 노드를 큐에 삽입\n",
        "            if indegree[i] == 0:\n",
        "                q.append(i)\n",
        "\n",
        "    # 위상 정렬을 수행한 결과 출력\n",
        "    for i in result:\n",
        "        print(i, end=' ')\n",
        "\n",
        "topology_sort()"
      ],
      "metadata": {
        "id": "u7veehE2hh7F"
      },
      "execution_count": null,
      "outputs": []
    },
    {
      "cell_type": "markdown",
      "source": [
        "팀 결성"
      ],
      "metadata": {
        "id": "34hLxHiPLTdh"
      }
    },
    {
      "cell_type": "code",
      "source": [
        "# 특정 원소가 속한 집합을 찾기\n",
        "def find_parent(parent, x):\n",
        "    # 루트 노드가 아니라면, 루트 노드를 찾을 때까지 재귀적으로 호출\n",
        "    if parent[x] != x:\n",
        "        parent[x] = find_parent(parent, parent[x])\n",
        "    return parent[x]\n",
        "\n",
        "# 두 원소가 속한 집합을 합치기\n",
        "def union_parent(parent, a, b):\n",
        "    a = find_parent(parent, a)\n",
        "    b = find_parent(parent, b)\n",
        "    if a < b:\n",
        "        parent[b] = a\n",
        "    else:\n",
        "        parent[a] = b\n",
        "\n",
        "n, m = map(int, input().split())\n",
        "parent = [0] * (n + 1) # 부모 테이블 초기화\n",
        "\n",
        "# 부모 테이블상에서, 부모를 자기 자신으로 초기화\n",
        "for i in range(0, n + 1):\n",
        "    parent[i] = i\n",
        "\n",
        "# 각 연산을 하나씩 확인\n",
        "for i in range(m):\n",
        "    oper, a, b = map(int, input().split())\n",
        "    # 합치합(Union) 연산인 경우\n",
        "    if oper == 0:\n",
        "        union_parent(parent, a, b)\n",
        "    # 찾기(Find) 연산인 경우\n",
        "    elif oper == 1:\n",
        "        if find_parent(parent, a) == find_parent(parent, b):\n",
        "            print('YES')\n",
        "        else:\n",
        "            print('NO')"
      ],
      "metadata": {
        "id": "BLIQ_5tKhkA9"
      },
      "execution_count": null,
      "outputs": []
    },
    {
      "cell_type": "markdown",
      "source": [
        "도시 분할 계획"
      ],
      "metadata": {
        "id": "2BIv0ZMFLUIf"
      }
    },
    {
      "cell_type": "code",
      "source": [
        "# 특정 원소가 속한 집합을 찾기\n",
        "def find_parent(parent, x):\n",
        "    # 루트 노드가 아니라면, 루트 노드를 찾을 때까지 재귀적으로 호출\n",
        "    if parent[x] != x:\n",
        "        parent[x] = find_parent(parent, parent[x])\n",
        "    return parent[x]\n",
        "\n",
        "# 두 원소가 속한 집합을 합치기\n",
        "def union_parent(parent, a, b):\n",
        "    a = find_parent(parent, a)\n",
        "    b = find_parent(parent, b)\n",
        "    if a < b:\n",
        "        parent[b] = a\n",
        "    else:\n",
        "        parent[a] = b\n",
        "\n",
        "# 노드의 개수와 간선(Union 연산)의 개수 입력받기\n",
        "v, e = map(int, input().split())\n",
        "parent = [0] * (v + 1) # 부모 테이블 초기화\n",
        "\n",
        "# 모든 간선을 담을 리스트와, 최종 비용을 담을 변수\n",
        "edges = []\n",
        "result = 0\n",
        "\n",
        "# 부모 테이블상에서, 부모를 자기 자신으로 초기화\n",
        "for i in range(1, v + 1):\n",
        "    parent[i] = i\n",
        "\n",
        "# 모든 간선에 대한 정보를 입력받기\n",
        "for _ in range(e):\n",
        "    a, b, cost = map(int, input().split())\n",
        "    # 비용순으로 정렬하기 위해서 튜플의 첫 번째 원소를 비용으로 설정\n",
        "    edges.append((cost, a, b))\n",
        "\n",
        "# 간선을 비용순으로 정렬\n",
        "edges.sort()\n",
        "last = 0 # 최소 신장 트리에 포함되는 간선 중에서 가장 비용이 큰 간선\n",
        "\n",
        "# 간선을 하나씩 확인하며\n",
        "for edge in edges:\n",
        "    cost, a, b = edge\n",
        "    # 사이클이 발생하지 않는 경우에만 집합에 포함\n",
        "    if find_parent(parent, a) != find_parent(parent, b):\n",
        "        union_parent(parent, a, b)\n",
        "        result += cost\n",
        "        last = cost\n",
        "\n",
        "print(result - last)"
      ],
      "metadata": {
        "id": "WLZchfm1iRdD"
      },
      "execution_count": null,
      "outputs": []
    },
    {
      "cell_type": "markdown",
      "source": [
        "커리큘럼"
      ],
      "metadata": {
        "id": "vEIl8xlsLUrL"
      }
    },
    {
      "cell_type": "code",
      "source": [
        "from collections import deque\n",
        "import copy\n",
        "\n",
        "# 노드의 개수 입력받기\n",
        "v = int(input())\n",
        "# 모든 노드에 대한 진입차수는 0으로 초기화\n",
        "indegree = [0] * (v + 1)\n",
        "# 각 노드에 연결된 간선 정보를 담기 위한 연결 리스트(그래프) 초기화\n",
        "graph = [[] for i in range(v + 1)]\n",
        "# 각 강의 시간을 0으로 초기화\n",
        "time = [0] * (v + 1)\n",
        "\n",
        "# 방향 그래프의 모든 간선 정보를 입력받기\n",
        "for i in range(1, v + 1):\n",
        "    data = list(map(int, input().split()))\n",
        "    time[i] = data[0] # 첫 번째 수는 시간 정보를 담고 있음\n",
        "    for x in data[1:-1]:\n",
        "        indegree[i] += 1\n",
        "        graph[x].append(i)\n",
        "\n",
        "# 위상 정렬 함수\n",
        "def topology_sort():\n",
        "    result = copy.deepcopy(time) # 알고리즘 수행 결과를 담을 리스트\n",
        "    q = deque() # 큐 기능을 위한 deque 라이브러리 사용\n",
        "\n",
        "    # 처음 시작할 때는 진입차수가 0인 노드를 큐에 삽입\n",
        "    for i in range(1, v + 1):\n",
        "        if indegree[i] == 0:\n",
        "            q.append(i)\n",
        "\n",
        "    # 큐가 빌 때까지 반복\n",
        "    while q:\n",
        "        # 큐에서 원소 꺼내기\n",
        "        now = q.popleft()\n",
        "        # 해당 원소와 연결된 노드들의 진입차수에서 1 빼기\n",
        "        for i in graph[now]:\n",
        "            result[i] = max(result[i], result[now] + time[i])\n",
        "            indegree[i] -= 1\n",
        "            # 새롭게 진입차수가 0이 되는 노드를 큐에 삽입\n",
        "            if indegree[i] == 0:\n",
        "                q.append(i)\n",
        "\n",
        "    # 위상 정렬을 수행한 결과 출력\n",
        "    for i in range(1, v + 1):\n",
        "        print(result[i])\n",
        "\n",
        "topology_sort()"
      ],
      "metadata": {
        "id": "vZiys9MfiTrP"
      },
      "execution_count": null,
      "outputs": []
    },
    {
      "cell_type": "markdown",
      "source": [
        "# **11장 그리디**"
      ],
      "metadata": {
        "id": "QrHoFyDHLVUk"
      }
    },
    {
      "cell_type": "markdown",
      "source": [
        "Q1.모험가 길드"
      ],
      "metadata": {
        "id": "499M21w2LVy4"
      }
    },
    {
      "cell_type": "code",
      "source": [
        "n = int(input())\n",
        "data = list(map(int, input().split()))\n",
        "data.sort()\n",
        "\n",
        "result = 0 # 총 그룹의 수\n",
        "count = 0 # 현재 그룹에 포함된 모험가의 수\n",
        "\n",
        "for i in data: # 공포도를 낮은 것부터 하나씩 확인하며\n",
        "    count += 1 # 현재 그룹에 해당 모험가를 포함시키기\n",
        "    if count >= i: # 현재 그룹에 포함된 모험가의 수가 현재의 공포도 이상이라면, 그룹 결성\n",
        "        result += 1 # 총 그룹의 수 증가시키기\n",
        "        count = 0 # 현재 그룹에 포함된 모험가의 수 초기화\n",
        "\n",
        "print(result) # 총 그룹의 수 출력"
      ],
      "metadata": {
        "id": "iDZI9WagiWJB"
      },
      "execution_count": null,
      "outputs": []
    },
    {
      "cell_type": "markdown",
      "source": [
        "Q2.곱하기 혹은 더하기"
      ],
      "metadata": {
        "id": "_Xlnro_mLXeE"
      }
    },
    {
      "cell_type": "code",
      "source": [
        "data = input()\n",
        "\n",
        "# 첫 번째 문자를 숫자로 변경하여 대입\n",
        "result = int(data[0])\n",
        "\n",
        "for i in range(1, len(data)):\n",
        "    # 두 수 중에서 하나라도 '0' 혹은 '1'인 경우, 곱하기보다는 더하기 수행\n",
        "    num = int(data[i])\n",
        "    if num <= 1 or result <= 1:\n",
        "        result += num\n",
        "    else:\n",
        "        result *= num\n",
        "\n",
        "print(result)"
      ],
      "metadata": {
        "id": "vsMrtY_FiYaZ"
      },
      "execution_count": null,
      "outputs": []
    },
    {
      "cell_type": "markdown",
      "source": [
        "Q3.문자열 뒤집기"
      ],
      "metadata": {
        "id": "1TZ0q8_lLY75"
      }
    },
    {
      "cell_type": "code",
      "source": [
        "data = input()\n",
        "count0 = 0 # 전부 0으로 바꾸는 경우\n",
        "count1 = 0 # 전부 1로 바꾸는 경우\n",
        "\n",
        "# 첫 번째 원소에 대해서 처리\n",
        "if data[0] == '1':\n",
        "    count0 += 1\n",
        "else:\n",
        "    count1 += 1\n",
        "\n",
        "# 두 번째 원소부터 모든 원소를 확인하며\n",
        "for i in range(len(data) - 1):\n",
        "    if data[i] != data[i + 1]:\n",
        "        # 다음 수에서 1로 바뀌는 경우\n",
        "        if data[i + 1] == '1':\n",
        "            count0 += 1\n",
        "        # 다음 수에서 0으로 바뀌는 경우\n",
        "        else:\n",
        "            count1 += 1\n",
        "\n",
        "print(min(count0, count1))"
      ],
      "metadata": {
        "id": "1l0L4_9Liawl"
      },
      "execution_count": null,
      "outputs": []
    },
    {
      "cell_type": "markdown",
      "source": [
        "Q4.만들 수 없는 금액"
      ],
      "metadata": {
        "id": "AODPxyLELZiT"
      }
    },
    {
      "cell_type": "code",
      "source": [
        "n = int(input())\n",
        "data = list(map(int, input().split()))\n",
        "data.sort()\n",
        "\n",
        "target = 1\n",
        "for x in data:\n",
        "    # 만들 수 없는 금액을 찾았을 때 반복 종료\n",
        "    if target < x:\n",
        "        break\n",
        "    target += x\n",
        "\n",
        "# 만들 수 없는 금액 출력\n",
        "print(target)"
      ],
      "metadata": {
        "id": "PktdVaFmidKv"
      },
      "execution_count": null,
      "outputs": []
    },
    {
      "cell_type": "markdown",
      "source": [
        "Q5.볼링공 고르기"
      ],
      "metadata": {
        "id": "LcmS4OtpLaQz"
      }
    },
    {
      "cell_type": "code",
      "source": [
        "n, m = map(int, input().split())\n",
        "data = list(map(int, input().split()))\n",
        "\n",
        "# 1부터 10까지의 무게를 담을 수 있는 리스트\n",
        "array = [0] * 11\n",
        "\n",
        "for x in data:\n",
        "    # 각 무게에 해당하는 볼링공의 개수 카운트\n",
        "    array[x] += 1\n",
        "\n",
        "result = 0\n",
        "# 1부터 m까지의 각 무게에 대하여 처리\n",
        "for i in range(1, m + 1):\n",
        "    n -= array[i] # 무게가 i인 볼링공의 개수(A가 선택할 수 있는 개수) 제외\n",
        "    result += array[i] * n # B가 선택하는 경우의 수와 곱해주기\n",
        "\n",
        "print(result)"
      ],
      "metadata": {
        "id": "17uHfmJUigSA"
      },
      "execution_count": null,
      "outputs": []
    },
    {
      "cell_type": "markdown",
      "source": [
        "Q6.무지의 먹방 라이브"
      ],
      "metadata": {
        "id": "6fw2zyo5LbTc"
      }
    },
    {
      "cell_type": "code",
      "source": [
        "import heapq\n",
        "\n",
        "def solution(food_times, k):\n",
        "    # 전체 음식을 먹는 시간보다 k가 크거나 같다면 -1\n",
        "    if sum(food_times) <= k:\n",
        "        return -1\n",
        "\n",
        "    # 시간이 작은 음식부터 빼야 하므로 우선순위 큐를 이용\n",
        "    q = []\n",
        "    for i in range(len(food_times)):\n",
        "        # (음식 시간, 음식 번호) 형태로 우선순위 큐에 삽입\n",
        "        heapq.heappush(q, (food_times[i], i + 1))  \n",
        "\n",
        "    sum_value = 0 # 먹기 위해 사용한 시간\n",
        "    previous = 0 # 직전에 다 먹은 음식 시간\n",
        "    length = len(food_times) # 남은 음식의 개수\n",
        "\n",
        "    # sum_value + (현재의 음식 시간 - 이전 음식 시간) * 현재 음식 개수와 k 비교\n",
        "    while sum_value + ((q[0][0] - previous) * length) <= k:\n",
        "        now = heapq.heappop(q)[0]\n",
        "        sum_value += (now - previous) * length\n",
        "        length -= 1 # 다 먹은 음식 제외\n",
        "        previous = now # 이전 음식 시간 재설정\n",
        "\n",
        "    # 남은 음식 중에서 몇 번째 음식인지 확인하여 출력\n",
        "    result = sorted(q, key=lambda x: x[1]) # 음식의 번호 기준으로 정렬\n",
        "    return result[(k - sum_value) % length][1]"
      ],
      "metadata": {
        "id": "CDl9A22QiiDc"
      },
      "execution_count": null,
      "outputs": []
    },
    {
      "cell_type": "markdown",
      "source": [
        "# **12장 구현**"
      ],
      "metadata": {
        "id": "cwidqJFMLdAw"
      }
    },
    {
      "cell_type": "markdown",
      "source": [
        "Q7.럭키 스트레이트"
      ],
      "metadata": {
        "id": "AztnxVx8LdcV"
      }
    },
    {
      "cell_type": "code",
      "source": [
        "n = input()\n",
        "length = len(n) # 점수 값의 총 자릿수\n",
        "summary = 0\n",
        "\n",
        "# 왼쪽 부분의 자릿수의 합 더하기\n",
        "for i in range(length // 2):\n",
        "    summary += int(n[i])\n",
        "\n",
        "# 오른쪽 부분의 자릿수의 합 빼기\n",
        "for i in range(length // 2, length):\n",
        "    summary -= int(n[i])\n",
        "\n",
        "# 왼쪽 부분과 오른쪽 부분의 자릿수 합이 동일한지 검사\n",
        "if summary == 0:\n",
        "    print(\"LUCKY\")\n",
        "else:\n",
        "    print(\"READY\")"
      ],
      "metadata": {
        "id": "JeO98upXij5N"
      },
      "execution_count": null,
      "outputs": []
    },
    {
      "cell_type": "markdown",
      "source": [
        "Q8.문자열 재정렬"
      ],
      "metadata": {
        "id": "OmoaC05dLfA_"
      }
    },
    {
      "cell_type": "code",
      "source": [
        "data = input()\n",
        "result = []\n",
        "value = 0\n",
        "\n",
        "# 문자를 하나씩 확인하며\n",
        "for x in data:\n",
        "    # 알파벳인 경우 결과 리스트에 삽입\n",
        "    if x.isalpha():\n",
        "        result.append(x)\n",
        "    # 숫자는 따로 더하기\n",
        "    else:\n",
        "        value += int(x)\n",
        "\n",
        "# 알파벳을 오름차순으로 정렬\n",
        "result.sort()\n",
        "\n",
        "# 숫자가 하나라도 존재하는 경우 가장 뒤에 삽입\n",
        "if value != 0:\n",
        "    result.append(str(value))\n",
        "\n",
        "# 최종 결과 출력(리스트를 문자열로 변환하여 출력)\n",
        "print(''.join(result))"
      ],
      "metadata": {
        "id": "9JWpNHQsilrh"
      },
      "execution_count": null,
      "outputs": []
    },
    {
      "cell_type": "markdown",
      "source": [
        "Q9.문자열 압축"
      ],
      "metadata": {
        "id": "t3p-dVisLgfy"
      }
    },
    {
      "cell_type": "code",
      "source": [
        "def solution(s):\n",
        "    answer = len(s)\n",
        "    # 1개 단위(step)부터 압축 단위를 늘려가며 확인\n",
        "    for step in range(1, len(s) // 2 + 1):\n",
        "        compressed = \"\"\n",
        "        prev = s[0:step] # 앞에서부터 step만큼의 문자열 추출\n",
        "        count = 1\n",
        "        # 단위(step) 크기만큼 증가시키며 이전 문자열과 비교\n",
        "        for j in range(step, len(s), step):\n",
        "            # 이전 상태와 동일하다면 압축 횟수(count) 증가\n",
        "            if prev == s[j:j + step]:\n",
        "                count += 1\n",
        "            # 다른 문자열이 나왔다면(더 이상 압축하지 못하는 경우라면)\n",
        "            else:\n",
        "                compressed += str(count) + prev if count >= 2 else prev\n",
        "                prev = s[j:j + step] # 다시 상태 초기화\n",
        "                count = 1\n",
        "        # 남아있는 문자열에 대해서 처리\n",
        "        compressed += str(count) + prev if count >= 2 else prev\n",
        "        # 만들어지는 압축 문자열이 가장 짧은 것이 정답\n",
        "        answer = min(answer, len(compressed))\n",
        "    return "
      ],
      "metadata": {
        "id": "abwnjZQuinST"
      },
      "execution_count": null,
      "outputs": []
    },
    {
      "cell_type": "markdown",
      "source": [
        "Q10.자물쇠와 열쇠"
      ],
      "metadata": {
        "id": "304phJSoLha4"
      }
    },
    {
      "cell_type": "code",
      "source": [
        "# 2차원 리스트 90도 회전하기\n",
        "def rotate_a_matrix_by_90_degree(a):\n",
        "    n = len(a) # 행 길이 계산\n",
        "    m = len(a[0]) # 열 길이 계산\n",
        "    result = [[0] * n for _ in range(m)] # 결과 리스트\n",
        "    for i in range(n):\n",
        "        for j in range(m):\n",
        "            result[j][n - i - 1] = a[i][j]\n",
        "    return result\n",
        "\n",
        "# 자물쇠의 중간 부분이 모두 1인지 확인\n",
        "def check(new_lock):\n",
        "    lock_length = len(new_lock) // 3\n",
        "    for i in range(lock_length, lock_length * 2):\n",
        "        for j in range(lock_length, lock_length * 2):\n",
        "            if new_lock[i][j] != 1:\n",
        "                return False\n",
        "    return True\n",
        "\n",
        "def solution(key, lock):\n",
        "    n = len(lock)\n",
        "    m = len(key)\n",
        "    # 자물쇠의 크기를 기존의 3배로 변환\n",
        "    new_lock = [[0] * (n * 3) for _ in range(n * 3)]\n",
        "    # 새로운 자물쇠의 중앙 부분에 기존의 자물쇠 넣기\n",
        "    for i in range(n):\n",
        "        for j in range(n):\n",
        "            new_lock[i + n][j + n] = lock[i][j]\n",
        "\n",
        "    # 4가지 방향에 대해서 확인\n",
        "    for rotation in range(4):\n",
        "        key = rotate_a_matrix_by_90_degree(key) # 열쇠 회전\n",
        "        for x in range(n * 2):\n",
        "            for y in range(n * 2):\n",
        "                # 자물쇠에 열쇠를 끼워 넣기\n",
        "                for i in range(m):\n",
        "                    for j in range(m):\n",
        "                        new_lock[x + i][y + j] += key[i][j]\n",
        "                # 새로운 자물쇠에 열쇠가 정확히 들어 맞는지 검사\n",
        "                if check(new_lock) == True:\n",
        "                    return True\n",
        "                # 자물쇠에서 열쇠를 다시 빼기\n",
        "                for i in range(m):\n",
        "                    for j in range(m):\n",
        "                        new_lock[x + i][y + j] -= key[i][j]\n",
        "    return False"
      ],
      "metadata": {
        "id": "2Qo7VaCgiouM"
      },
      "execution_count": null,
      "outputs": []
    },
    {
      "cell_type": "markdown",
      "source": [
        "Q11.뱀"
      ],
      "metadata": {
        "id": "PE-Dh4j0Lh92"
      }
    },
    {
      "cell_type": "code",
      "source": [
        "n = int(input())\n",
        "k = int(input())\n",
        "data = [[0] * (n + 1) for _ in range(n + 1)] # 맵 정보\n",
        "info = [] # 방향 회전 정보\n",
        "\n",
        "# 맵 정보(사과 있는 곳은 1로 표시)\n",
        "for _ in range(k):\n",
        "    a, b = map(int, input().split())\n",
        "    data[a][b] = 1\n",
        "\n",
        "# 방향 회전 정보 입력\n",
        "l = int(input())\n",
        "for _ in range(l):\n",
        "    x, c = input().split()\n",
        "    info.append((int(x), c))\n",
        "\n",
        "# 처음에는 오른쪽을 보고 있으므로(동, 남, 서, 북)\n",
        "dx = [0, 1, 0, -1]\n",
        "dy = [1, 0, -1, 0]\n",
        "\n",
        "def turn(direction, c):\n",
        "    if c == \"L\":\n",
        "        direction = (direction - 1) % 4\n",
        "    else:\n",
        "        direction = (direction + 1) % 4\n",
        "    return direction\n",
        "\n",
        "def simulate():\n",
        "    x, y = 1, 1 # 뱀의 머리 위치\n",
        "    data[x][y] = 2 # 뱀이 존재하는 위치는 2로 표시\n",
        "    direction = 0 # 처음에는 동쪽을 보고 있음\n",
        "    time = 0 # 시작한 뒤에 지난 '초' 시간\n",
        "    index = 0 # 다음에 회전할 정보\n",
        "    q = [(x, y)] # 뱀이 차지하고 있는 위치 정보(꼬리가 앞쪽)\n",
        "\n",
        "    while True:\n",
        "        nx = x + dx[direction]\n",
        "        ny = y + dy[direction]\n",
        "        # 맵 범위 안에 있고, 뱀의 몸통이 없는 위치라면\n",
        "        if 1 <= nx and nx <= n and 1 <= ny and ny <= n and data[nx][ny] != 2:\n",
        "            # 사과가 없다면 이동 후에 꼬리 제거\n",
        "            if data[nx][ny] == 0:\n",
        "                data[nx][ny] = 2\n",
        "                q.append((nx, ny))\n",
        "                px, py = q.pop(0)\n",
        "                data[px][py] = 0\n",
        "            # 사과가 있다면 이동 후에 꼬리 그대로 두기\n",
        "            if data[nx][ny] == 1:\n",
        "                data[nx][ny] = 2\n",
        "                q.append((nx, ny))\n",
        "        # 벽이나 뱀의 몸통과 부딪혔다면\n",
        "        else:\n",
        "            time += 1\n",
        "            break\n",
        "        x, y = nx, ny # 다음 위치로 머리를 이동\n",
        "        time += 1\n",
        "        if index < l and time == info[index][0]: # 회전할 시간인 경우 회전\n",
        "            direction = turn(direction, info[index][1])\n",
        "            index += 1\n",
        "    return time\n",
        "\n",
        "print(simulate())"
      ],
      "metadata": {
        "id": "T0BzzHl2isF4"
      },
      "execution_count": null,
      "outputs": []
    },
    {
      "cell_type": "markdown",
      "source": [
        "Q12.기둥과 보 설치"
      ],
      "metadata": {
        "id": "1NSxrboYLiZP"
      }
    },
    {
      "cell_type": "code",
      "source": [
        "# 현재 설치된 구조물이 '가능한' 구조물인지 확인하는 함수\n",
        "def possible(answer):\n",
        "    for x, y, stuff in answer:\n",
        "        if stuff == 0: # 설치된 것이 '기둥'인 경우\n",
        "            # '바닥 위' 혹은 '보의 한쪽 끝 부분 위' 혹은 '다른 기둥 위'라면 정상\n",
        "            if y == 0 or [x - 1, y, 1] in answer or [x, y, 1] in answer or [x, y - 1, 0] in answer:\n",
        "                continue\n",
        "            return False # 아니라면 거짓(False) 반환\n",
        "        elif stuff == 1: # 설치된 것이 '보'인 경우\n",
        "            # '한쪽 끝부분이 기둥 위' 혹은 '양쪽 끝부분이 다른 보와 동시에 연결'이라면 정상\n",
        "            if [x, y - 1, 0] in answer or [x + 1, y - 1, 0] in answer or ([x - 1, y, 1] in answer and [x + 1, y, 1] in answer):\n",
        "                continue\n",
        "            return False # 아니라면 거짓(False) 반환\n",
        "    return True\n",
        "\n",
        "def solution(n, build_frame):\n",
        "    answer = []\n",
        "    for frame in build_frame: # 작업(frame)의 개수는 최대 1,000개\n",
        "        x, y, stuff, operate = frame\n",
        "        if operate == 0: # 삭제하는 경우\n",
        "            answer.remove([x, y, stuff]) # 일단 삭제를 해본 뒤에\n",
        "            if not possible(answer): # 가능한 구조물인지 확인\n",
        "                answer.append([x, y, stuff]) # 가능한 구조물이 아니라면 다시 설치\n",
        "        if operate == 1: # 설치하는 경우\n",
        "            answer.append([x, y, stuff]) # 일단 설치를 해본 뒤에\n",
        "            if not possible(answer): # 가능한 구조물인지 확인\n",
        "                answer.remove([x, y, stuff]) # 가능한 구조물이 아니라면 다시 제거\n",
        "    return sorted(answer) # 정렬된 결과를 반환"
      ],
      "metadata": {
        "id": "CnHPIqz8ittJ"
      },
      "execution_count": null,
      "outputs": []
    },
    {
      "cell_type": "markdown",
      "source": [
        "Q13.치킨 배달"
      ],
      "metadata": {
        "id": "ejN2-9IVLjO-"
      }
    },
    {
      "cell_type": "code",
      "source": [
        "from itertools import combinations\n",
        "\n",
        "n, m = map(int, input().split())\n",
        "chicken, house = [], []\n",
        "\n",
        "for r in range(n):\n",
        "    data = list(map(int, input().split()))\n",
        "    for c in range(n):\n",
        "        if data[c] == 1:\n",
        "            house.append((r, c)) # 일반 집\n",
        "        elif data[c] == 2:\n",
        "            chicken.append((r, c)) # 치킨집\n",
        "\n",
        "# 모든 치킨 집 중에서 m개의 치킨 집을 뽑는 조합 계산\n",
        "candidates = list(combinations(chicken, m))\n",
        "\n",
        "# 치킨 거리의 합을 계산하는 함수\n",
        "def get_sum(candidate):\n",
        "    result = 0\n",
        "    # 모든 집에 대하여\n",
        "    for hx, hy in house:\n",
        "        # 가장 가까운 치킨 집을 찾기\n",
        "        temp = 1e9\n",
        "        for cx, cy in candidate:\n",
        "            temp = min(temp, abs(hx - cx) + abs(hy - cy))\n",
        "        # 가장 가까운 치킨 집까지의 거리를 더하기\n",
        "        result += temp\n",
        "    # 치킨 거리의 합 반환\n",
        "    return result\n",
        "\n",
        "# 치킨 거리의 합의 최소를 찾아 출력\n",
        "result = 1e9\n",
        "for candidate in candidates:\n",
        "    result = min(result, get_sum(candidate))\n",
        "\n",
        "print(result)"
      ],
      "metadata": {
        "id": "YQcCpo8Pivgm"
      },
      "execution_count": null,
      "outputs": []
    },
    {
      "cell_type": "markdown",
      "source": [
        "Q14.외벽 점검"
      ],
      "metadata": {
        "id": "tOjGnbOcLj29"
      }
    },
    {
      "cell_type": "code",
      "source": [
        "from itertools import permutations\n",
        "\n",
        "def solution(n, weak, dist):\n",
        "    # 길이를 2배로 늘려서 '원형'을 일자 형태로 변형\n",
        "    length = len(weak)\n",
        "    for i in range(length):\n",
        "        weak.append(weak[i] + n)\n",
        "    answer = len(dist) + 1 # 투입할 친구 수의 최솟값을 찾아야 하므로 len(dist) + 1로 초기화\n",
        "    # 0부터 length - 1까지의 위치를 각각 시작점으로 설정\n",
        "    for start in range(length):\n",
        "        # 친구를 나열하는 모든 경우 각각에 대하여 확인\n",
        "        for friends in list(permutations(dist, len(dist))):\n",
        "            count = 1 # 투입할 친구의 수\n",
        "            # 해당 친구가 점검할 수 있는 마지막 위치\n",
        "            position = weak[start] + friends[count - 1]\n",
        "            # 시작점부터 모든 취약한 지점을 확인\n",
        "            for index in range(start, start + length):\n",
        "                # 점검할 수 있는 위치를 벗어나는 경우\n",
        "                if position < weak[index]:\n",
        "                    count += 1 # 새로운 친구를 투입\n",
        "                    if count > len(dist): # 더 투입이 불가능하다면 종료\n",
        "                        break\n",
        "                    position = weak[index] + friends[count - 1]\n",
        "            answer = min(answer, count) # 최솟값 계산\n",
        "    if answer > len(dist):\n",
        "        return -1\n",
        "    return answer"
      ],
      "metadata": {
        "id": "I4wPzHRYixIZ"
      },
      "execution_count": null,
      "outputs": []
    },
    {
      "cell_type": "markdown",
      "source": [
        "# **13장 DFS/BFS**"
      ],
      "metadata": {
        "id": "bRxMytpDLki6"
      }
    },
    {
      "cell_type": "markdown",
      "source": [
        "Q15.특정 거리의 도시 찾기"
      ],
      "metadata": {
        "id": "pxobqBaoLk_i"
      }
    },
    {
      "cell_type": "code",
      "source": [
        "from collections import deque\n",
        "\n",
        "# 도시의 개수, 도로의 개수, 거리 정보, 출발 도시 번호\n",
        "n, m, k, x = map(int, input().split())\n",
        "graph = [[] for _ in range(n + 1)]\n",
        "\n",
        "# 모든 도로 정보 입력 받기\n",
        "for _ in range(m):\n",
        "    a, b = map(int, input().split())\n",
        "    graph[a].append(b)\n",
        "\n",
        "# 모든 도시에 대한 최단 거리 초기화\n",
        "distance = [-1] * (n + 1)\n",
        "distance[x] = 0 # 출발 도시까지의 거리는 0으로 설정\n",
        "\n",
        "# 너비 우선 탐색(BFS) 수행\n",
        "q = deque([x])\n",
        "while q:\n",
        "    now = q.popleft()\n",
        "    # 현재 도시에서 이동할 수 있는 모든 도시를 확인\n",
        "    for next_node in graph[now]:\n",
        "        # 아직 방문하지 않은 도시라면\n",
        "        if distance[next_node] == -1:\n",
        "            # 최단 거리 갱신\n",
        "            distance[next_node] = distance[now] + 1\n",
        "            q.append(next_node)\n",
        "\n",
        "# 최단 거리가 K인 모든 도시의 번호를 오름차순으로 출력\n",
        "check = False\n",
        "for i in range(1, n + 1):\n",
        "    if distance[i] == k:\n",
        "        print(i)\n",
        "        check = True\n",
        "\n",
        "# 만약 최단 거리가 K인 도시가 없다면, -1 출력\n",
        "if check == False:\n",
        "    print(-1)"
      ],
      "metadata": {
        "id": "CcIwJOglizG0"
      },
      "execution_count": null,
      "outputs": []
    },
    {
      "cell_type": "markdown",
      "source": [
        "Q16.연구소"
      ],
      "metadata": {
        "id": "kjic4CpgLmSt"
      }
    },
    {
      "cell_type": "code",
      "source": [
        "# BOJ에서는 [언어]를 PyPy3로 설정하여 제출해주세요.\n",
        "\n",
        "n, m = map(int, input().split())\n",
        "data = [] # 초기 맵 리스트\n",
        "temp = [[0] * m for _ in range(n)] # 벽을 설치한 뒤의 맵 리스트\n",
        "\n",
        "for _ in range(n):\n",
        "    data.append(list(map(int, input().split())))\n",
        "\n",
        "# 4가지 이동 방향에 대한 리스트\n",
        "dx = [-1, 0, 1, 0]\n",
        "dy = [0, 1, 0, -1]\n",
        "\n",
        "result = 0\n",
        "\n",
        "# 깊이 우선 탐색(DFS)을 이용해 각 바이러스가 사방으로 퍼지도록 하기\n",
        "def virus(x, y):\n",
        "    for i in range(4):\n",
        "        nx = x + dx[i]\n",
        "        ny = y + dy[i]\n",
        "        # 상, 하, 좌, 우 중에서 바이러스가 퍼질 수 있는 경우\n",
        "        if nx >= 0 and nx < n and ny >= 0 and ny < m:\n",
        "            if temp[nx][ny] == 0:\n",
        "                # 해당 위치에 바이러스 배치하고, 다시 재귀적으로 수행\n",
        "                temp[nx][ny] = 2\n",
        "                virus(nx, ny)\n",
        "\n",
        "# 현재 맵에서 안전 영역의 크기 계산하는 메서드\n",
        "def get_score():\n",
        "    score = 0\n",
        "    for i in range(n):\n",
        "        for j in range(m):\n",
        "            if temp[i][j] == 0:\n",
        "                score += 1\n",
        "    return score\n",
        "\n",
        "# 깊이 우선 탐색(DFS)을 이용해 울타리를 설치하면서, 매 번 안전 영역의 크기 계산\n",
        "def dfs(count):\n",
        "    global result\n",
        "    # 울타리가 3개 설치된 경우\n",
        "    if count == 3:\n",
        "        for i in range(n):\n",
        "            for j in range(m):\n",
        "                temp[i][j] = data[i][j]\n",
        "        # 각 바이러스의 위치에서 전파 진행\n",
        "        for i in range(n):\n",
        "            for j in range(m):\n",
        "                if temp[i][j] == 2:\n",
        "                    virus(i, j)\n",
        "        # 안전 영역의 최대값 계산\n",
        "        result = max(result, get_score())\n",
        "        return\n",
        "    # 빈 공간에 울타리를 설치\n",
        "    for i in range(n):\n",
        "        for j in range(m):\n",
        "            if data[i][j] == 0:\n",
        "                data[i][j] = 1\n",
        "                count += 1\n",
        "                dfs(count)\n",
        "                data[i][j] = 0\n",
        "                count -= 1\n",
        "\n",
        "dfs(0)\n",
        "print(result)"
      ],
      "metadata": {
        "id": "p2rtoHCpi1In"
      },
      "execution_count": null,
      "outputs": []
    },
    {
      "cell_type": "markdown",
      "source": [
        "Q17.경쟁적 전염"
      ],
      "metadata": {
        "id": "8NMGp2SjLm2I"
      }
    },
    {
      "cell_type": "code",
      "source": [
        "from collections import deque\n",
        "\n",
        "n, k = map(int, input().split())\n",
        "\n",
        "graph = [] # 전체 보드 정보를 담는 리스트\n",
        "data = [] # 바이러스에 대한 정보를 담는 리스트\n",
        "\n",
        "for i in range(n):\n",
        "    # 보드 정보를 한 줄 단위로 입력\n",
        "    graph.append(list(map(int, input().split())))\n",
        "    for j in range(n):\n",
        "        # 해당 위치에 바이러스가 존재하는 경우\n",
        "        if graph[i][j] != 0:\n",
        "            # (바이러스 종류, 시간, 위치 X, 위치 Y) 삽입\n",
        "            data.append((graph[i][j], 0, i, j))\n",
        "\n",
        "# 정렬 이후에 큐로 옮기기 (낮은 번호의 바이러스가 먼저 증식하므로)\n",
        "data.sort()\n",
        "q = deque(data)\n",
        " \n",
        "target_s, target_x, target_y = map(int, input().split())\n",
        " \n",
        "# 바이러스가 퍼져나갈 수 있는 4가지의 위치\n",
        "dx = [-1, 0, 1, 0]\n",
        "dy = [0, 1, 0, -1]\n",
        "\n",
        "# 너비 우선 탐색(BFS) 진행\n",
        "while q:\n",
        "    virus, s, x, y = q.popleft()\n",
        "    # 정확히 s초가 지나거나, 큐가 빌 때까지 반복\n",
        "    if s == target_s:\n",
        "        break\n",
        "    # 현재 노드에서 주변 4가지 위치를 각각 확인\n",
        "    for i in range(4):\n",
        "        nx = x + dx[i]\n",
        "        ny = y + dy[i]\n",
        "        # 해당 위치로 이동할 수 있는 경우\n",
        "        if 0 <= nx and nx < n and 0 <= ny and ny < n:\n",
        "            # 아직 방문하지 않은 위치라면, 그 위치에 바이러스 넣기\n",
        "            if graph[nx][ny] == 0:\n",
        "                graph[nx][ny] = virus\n",
        "                q.append((virus, s + 1, nx, ny))\n",
        "\n",
        "print(graph[target_x - 1][target_y - 1])"
      ],
      "metadata": {
        "id": "rE-zVTObi6q4"
      },
      "execution_count": null,
      "outputs": []
    },
    {
      "cell_type": "markdown",
      "source": [
        "Q18.괄호 변환"
      ],
      "metadata": {
        "id": "De2YmYX1LnlT"
      }
    },
    {
      "cell_type": "code",
      "source": [
        "# \"균형잡힌 괄호 문자열\"의 인덱스 반환\n",
        "def balanced_index(p):\n",
        "    count = 0 # 왼쪽 괄호의 개수\n",
        "    for i in range(len(p)):\n",
        "        if p[i] == '(':\n",
        "            count += 1\n",
        "        else:\n",
        "            count -= 1\n",
        "        if count == 0:\n",
        "            return i\n",
        "\n",
        "# \"올바른 괄호 문자열\"인지 판단\n",
        "def check_proper(p):\n",
        "    count = 0 # 왼쪽 괄호의 개수\n",
        "    for i in p:\n",
        "        if i == '(':\n",
        "            count += 1\n",
        "        else:\n",
        "            if count == 0: # 쌍이 맞지 않는 경우에 False 반환\n",
        "                return False\n",
        "            count -= 1\n",
        "    return True # 쌍이 맞는 경우에 True 반환\n",
        "\n",
        "def solution(p):\n",
        "    answer = ''\n",
        "    if p == '':\n",
        "        return answer\n",
        "    index = balanced_index(p)\n",
        "    u = p[:index + 1]\n",
        "    v = p[index + 1:]\n",
        "    # \"올바른 괄호 문자열\"이면, v에 대해 함수를 수행한 결과를 붙여 반환\n",
        "    if check_proper(u):\n",
        "        answer = u + solution(v)\n",
        "    # \"올바른 괄호 문자열\"이 아니라면 아래의 과정을 수행\n",
        "    else:\n",
        "        answer = '('\n",
        "        answer += solution(v)\n",
        "        answer += ')'\n",
        "        u = list(u[1:-1]) # 첫 번째와 마지막 문자를 제거\n",
        "        for i in range(len(u)):\n",
        "            if u[i] == '(':\n",
        "                u[i] = ')'\n",
        "            else:\n",
        "                u[i] = '('\n",
        "        answer += \"\".join(u)\n",
        "    return "
      ],
      "metadata": {
        "id": "00ZYMhE0i8yJ"
      },
      "execution_count": null,
      "outputs": []
    },
    {
      "cell_type": "markdown",
      "source": [
        "Q19.연산자 끼워 넣기"
      ],
      "metadata": {
        "id": "Q3mgfrTRLoPz"
      }
    },
    {
      "cell_type": "code",
      "source": [
        "n = int(input())\n",
        "# 연산을 수행하고자 하는 수 리스트\n",
        "data = list(map(int, input().split()))\n",
        "# 더하기, 빼기, 곱하기, 나누기 연산자 개수\n",
        "add, sub, mul, div = map(int, input().split())\n",
        "\n",
        "# 최솟값과 최댓값 초기화\n",
        "min_value = 1e9\n",
        "max_value = -1e9\n",
        "\n",
        "# 깊이 우선 탐색 (DFS) 메서드\n",
        "def dfs(i, now):\n",
        "    global min_value, max_value, add, sub, mul, div\n",
        "    # 모든 연산자를 다 사용한 경우, 최솟값과 최댓값 업데이트\n",
        "    if i == n:\n",
        "        min_value = min(min_value, now)\n",
        "        max_value = max(max_value, now)\n",
        "    else:\n",
        "        # 각 연산자에 대하여 재귀적으로 수행\n",
        "        if add > 0:\n",
        "            add -= 1\n",
        "            dfs(i + 1, now + data[i])\n",
        "            add += 1\n",
        "        if sub > 0:\n",
        "            sub -= 1\n",
        "            dfs(i + 1, now - data[i])\n",
        "            sub += 1\n",
        "        if mul > 0:\n",
        "            mul -= 1\n",
        "            dfs(i + 1, now * data[i])\n",
        "            mul += 1\n",
        "        if div > 0:\n",
        "            div -= 1\n",
        "            dfs(i + 1, int(now / data[i])) # 나눌 때는 나머지를 제거\n",
        "            div += 1\n",
        "\n",
        "# DFS 메서드 호출\n",
        "dfs(1, data[0])\n",
        "\n",
        "# 최댓값과 최솟값 차례대로 출력\n",
        "print(max_value)\n",
        "print(min_value)"
      ],
      "metadata": {
        "id": "XlHonIELi_2H"
      },
      "execution_count": null,
      "outputs": []
    },
    {
      "cell_type": "markdown",
      "source": [
        "Q20.감시 피하기"
      ],
      "metadata": {
        "id": "jCN5SN5sLpEg"
      }
    },
    {
      "cell_type": "code",
      "source": [
        "from itertools import combinations\n",
        "\n",
        "n = int(input()) # 복도의 크기\n",
        "board = [] # 복도 정보 (N x N)\n",
        "teachers = [] # 모든 선생님 위치 정보\n",
        "spaces = [] # 모든 빈 공간 위치 정보\n",
        "\n",
        "for i in range(n):\n",
        "    board.append(list(input().split()))\n",
        "    for j in range(n):\n",
        "        # 선생님이 존재하는 위치 저장\n",
        "        if board[i][j] == 'T':\n",
        "            teachers.append((i, j))\n",
        "        # 장애물을 설치할 수 있는 (빈 공간) 위치 저장\n",
        "        if board[i][j] == 'X':\n",
        "            spaces.append((i, j))\n",
        "\n",
        "# 특정 방향으로 감시를 진행 (학생 발견: True, 학생 미발견: False)\n",
        "def watch(x, y, direction):\n",
        "    # 왼쪽 방향으로 감시\n",
        "    if direction == 0:\n",
        "        while y >= 0:\n",
        "            if board[x][y] == 'S': # 학생이 있는 경우\n",
        "                return True\n",
        "            if board[x][y] == 'O': # 장애물이 있는 경우\n",
        "                return False\n",
        "            y -= 1\n",
        "    # 오른쪽 방향으로 감시\n",
        "    if direction == 1:\n",
        "        while y < n:\n",
        "            if board[x][y] == 'S': # 학생이 있는 경우\n",
        "                return True\n",
        "            if board[x][y] == 'O': # 장애물이 있는 경우\n",
        "                return False\n",
        "            y += 1\n",
        "    # 위쪽 방향으로 감시\n",
        "    if direction == 2:\n",
        "        while x >= 0:\n",
        "            if board[x][y] == 'S': # 학생이 있는 경우\n",
        "                return True\n",
        "            if board[x][y] == 'O': # 장애물이 있는 경우\n",
        "                return False\n",
        "            x -= 1\n",
        "    # 아래쪽 방향으로 감시\n",
        "    if direction == 3:\n",
        "        while x < n:\n",
        "            if board[x][y] == 'S': # 학생이 있는 경우\n",
        "                return True\n",
        "            if board[x][y] == 'O': # 장애물이 있는 경우\n",
        "                return False\n",
        "            x += 1\n",
        "    return False\n",
        "\n",
        "# 장애물 설치 이후에, 한 명이라도 학생이 감지되는지 검사\n",
        "def process():\n",
        "    # 모든 선생의 위치를 하나씩 확인\n",
        "    for x, y in teachers:\n",
        "        # 4가지 방향으로 학생을 감지할 수 있는지 확인\n",
        "        for i in range(4):\n",
        "            if watch(x, y, i):\n",
        "                return True\n",
        "    return False\n",
        "\n",
        "find = False # 학생이 한 명도 감지되지 않도록 설치할 수 있는지의 여부\n",
        "\n",
        "# 빈 공간에서 3개를 뽑는 모든 조합을 확인\n",
        "for data in combinations(spaces, 3):\n",
        "    # 장애물들을 설치해보기\n",
        "    for x, y in data:\n",
        "        board[x][y] = 'O'\n",
        "    # 학생이 한 명도 감지되지 않는 경우\n",
        "    if not process():\n",
        "        # 원하는 경우를 발견한 것임\n",
        "        find = True\n",
        "        break\n",
        "    # 설치된 장애물을 다시 없애기\n",
        "    for x, y in data:\n",
        "        board[x][y] = 'X'\n",
        "\n",
        "if find:\n",
        "    print('YES')\n",
        "else:\n",
        "    print('NO')"
      ],
      "metadata": {
        "id": "x-gvSP1hjCSh"
      },
      "execution_count": null,
      "outputs": []
    },
    {
      "cell_type": "markdown",
      "source": [
        "Q21.인구 이동"
      ],
      "metadata": {
        "id": "kqjN8lXbLptj"
      }
    },
    {
      "cell_type": "code",
      "source": [
        "from collections import deque\n",
        "\n",
        "# 땅의 크기(N), L, R 값을 입력받기\n",
        "n, l, r = map(int, input().split())\n",
        "\n",
        "# 전체 나라의 정보(N x N)를 입력 받기\n",
        "graph = []\n",
        "for _ in range(n):\n",
        "    graph.append(list(map(int, input().split())))\n",
        "\n",
        "dx = [-1, 0, 1, 0]\n",
        "dy = [0, -1, 0, 1]\n",
        "\n",
        "# 특정 위치에서 출발하여 모든 연합을 체크한 뒤에 데이터 갱신\n",
        "def process(x, y, index):\n",
        "    # (x, y)의 위치와 연결된 나라(연합) 정보를 담는 리스트\n",
        "    united = []\n",
        "    united.append((x, y))\n",
        "    # 너비 우선 탐색 (BFS)을 위한 큐 라이브러리 사용\n",
        "    q = deque()\n",
        "    q.append((x, y))\n",
        "    union[x][y] = index # 현재 연합의 번호 할당\n",
        "    summary = graph[x][y] # 현재 연합의 전체 인구 수\n",
        "    count = 1 # 현재 연합의 국가 수\n",
        "    # 큐가 빌 때까지 반복(BFS)\n",
        "    while q:\n",
        "        x, y = q.popleft()\n",
        "        # 현재 위치에서 4가지 방향을 확인하며\n",
        "        for i in range(4):\n",
        "            nx = x + dx[i]\n",
        "            ny = y + dy[i]\n",
        "            # 바로 옆에 있는 나라를 확인하여\n",
        "            if 0 <= nx < n and 0 <= ny < n and union[nx][ny] == -1:\n",
        "                # 옆에 있는 나라와 인구 차이가 L명 이상, R명 이하라면\n",
        "                if l <= abs(graph[nx][ny] - graph[x][y]) <= r:\n",
        "                    q.append((nx, ny))\n",
        "                    # 연합에 추가하기\n",
        "                    union[nx][ny] = index\n",
        "                    summary += graph[nx][ny]\n",
        "                    count += 1\n",
        "                    united.append((nx, ny))\n",
        "    # 연합 국가끼리 인구를 분배\n",
        "    for i, j in united:\n",
        "        graph[i][j] = summary // count\n",
        "\n",
        "total_count = 0\n",
        "\n",
        "# 더 이상 인구 이동을 할 수 없을 때까지 반복\n",
        "while True:\n",
        "    union = [[-1] * n for _ in range(n)]\n",
        "    index = 0\n",
        "    for i in range(n):\n",
        "        for j in range(n):\n",
        "            if union[i][j] == -1: # 해당 나라가 아직 처리되지 않았다면\n",
        "                process(i, j, index)\n",
        "                index += 1\n",
        "    # 모든 인구 이동이 끝난 경우\n",
        "    if index == n * n:\n",
        "        break\n",
        "    total_count += 1\n",
        "\n",
        "# 인구 이동 횟수 출력\n",
        "print(total_count)"
      ],
      "metadata": {
        "id": "UpRkBDEPjEEc"
      },
      "execution_count": null,
      "outputs": []
    },
    {
      "cell_type": "markdown",
      "source": [
        "Q22.블록 이동하기"
      ],
      "metadata": {
        "id": "dVA2UBU3LqcY"
      }
    },
    {
      "cell_type": "code",
      "source": [
        "from collections import deque\n",
        "\n",
        "def get_next_pos(pos, board):\n",
        "    next_pos = [] # 반환 결과 (이동 가능한 위치들)\n",
        "    pos = list(pos) # 현재 위치 정보를 리스트로 변환 (집합 → 리스트)\n",
        "    pos1_x, pos1_y, pos2_x, pos2_y = pos[0][0], pos[0][1], pos[1][0], pos[1][1]\n",
        "    # (상, 하, 좌, 우)로 이동하는 경우에 대해서 처리\n",
        "    dx = [-1, 1, 0, 0]\n",
        "    dy = [0, 0, -1, 1]\n",
        "    for i in range(4):\n",
        "        pos1_next_x, pos1_next_y, pos2_next_x, pos2_next_y = pos1_x + dx[i], pos1_y + dy[i], pos2_x + dx[i], pos2_y + dy[i]\n",
        "        # 이동하고자 하는 두 칸이 모두 비어 있다면\n",
        "        if board[pos1_next_x][pos1_next_y] == 0 and board[pos2_next_x][pos2_next_y] == 0:\n",
        "            next_pos.append({(pos1_next_x, pos1_next_y), (pos2_next_x, pos2_next_y)})\n",
        "    # 현재 로봇이 가로로 놓여 있는 경우\n",
        "    if pos1_x == pos2_x:\n",
        "        for i in [-1, 1]: # 위쪽으로 회전하거나, 아래쪽으로 회전\n",
        "            if board[pos1_x + i][pos1_y] == 0 and board[pos2_x + i][pos2_y] == 0: # 위쪽 혹은 아래쪽 두 칸이 모두 비어 있다면\n",
        "                next_pos.append({(pos1_x, pos1_y), (pos1_x + i, pos1_y)})\n",
        "                next_pos.append({(pos2_x, pos2_y), (pos2_x + i, pos2_y)})\n",
        "    # 현재 로봇이 세로로 놓여 있는 경우\n",
        "    elif pos1_y == pos2_y:\n",
        "        for i in [-1, 1]: # 왼쪽으로 회전하거나, 오른쪽으로 회전\n",
        "            if board[pos1_x][pos1_y + i] == 0 and board[pos2_x][pos2_y + i] == 0: # 왼쪽 혹은 오른쪽 두 칸이 모두 비어 있다면\n",
        "                next_pos.append({(pos1_x, pos1_y), (pos1_x, pos1_y + i)})\n",
        "                next_pos.append({(pos2_x, pos2_y), (pos2_x, pos2_y + i)})\n",
        "    # 현재 위치에서 이동할 수 있는 위치를 반환\n",
        "    return next_pos\n",
        "\n",
        "def solution(board):\n",
        "    # 맵의 외곽에 벽을 두는 형태로 맵 변형\n",
        "    n = len(board)\n",
        "    new_board = [[1] * (n + 2) for _ in range(n + 2)]\n",
        "    for i in range(n):\n",
        "        for j in range(n):\n",
        "            new_board[i + 1][j + 1] = board[i][j]\n",
        "    # 너비 우선 탐색(BFS) 수행\n",
        "    q = deque()\n",
        "    visited = []\n",
        "    pos = {(1, 1), (1, 2)} # 시작 위치 설정\n",
        "    q.append((pos, 0)) # 큐에 삽입한 뒤에\n",
        "    visited.append(pos) # 방문 처리\n",
        "    # 큐가 빌 때까지 반복\n",
        "    while q:\n",
        "        pos, cost = q.popleft()\n",
        "        # (n, n) 위치에 로봇이 도달했다면, 최단 거리이므로 반환\n",
        "        if (n, n) in pos:\n",
        "            return cost\n",
        "        # 현재 위치에서 이동할 수 있는 위치 확인\n",
        "        for next_pos in get_next_pos(pos, new_board):\n",
        "            # 아직 방문하지 않은 위치라면 큐에 삽입하고 방문 처리\n",
        "            if next_pos not in visited:\n",
        "                q.append((next_pos, cost + 1))\n",
        "                visited.append(next_pos)\n",
        "    return 0"
      ],
      "metadata": {
        "id": "PEfXyMjvjGGR"
      },
      "execution_count": null,
      "outputs": []
    },
    {
      "cell_type": "markdown",
      "source": [
        "# **14장 정렬**"
      ],
      "metadata": {
        "id": "92_pOrF6LrWX"
      }
    },
    {
      "cell_type": "markdown",
      "source": [
        "Q23.국영수"
      ],
      "metadata": {
        "id": "JUt3xQXhLseT"
      }
    },
    {
      "cell_type": "code",
      "source": [
        "n = int(input())\n",
        "students = [] # 학생 정보를 담을 리스트\n",
        "\n",
        "# 모든 학생 정보를 입력 받기\n",
        "for _ in range(n):\n",
        "    students.append(input().split())\n",
        "\n",
        "students.sort(key=lambda x: (-int(x[1]), int(x[2]), -int(x[3]), x[0]))\n",
        "\n",
        "# 정렬된 학생 정보에서 이름만 출력\n",
        "for student in students:\n",
        "    print(student[0])"
      ],
      "metadata": {
        "id": "pSpIyKtsjHpR"
      },
      "execution_count": null,
      "outputs": []
    },
    {
      "cell_type": "markdown",
      "source": [
        "Q24.안테나"
      ],
      "metadata": {
        "id": "yLZxI4bcLtNk"
      }
    },
    {
      "cell_type": "code",
      "source": [
        "n = int(input())\n",
        "a = list(map(int, input().split()))\n",
        "a.sort()\n",
        "\n",
        "# 중간값(median)을 출력\n",
        "print(a[(n - 1) // 2])"
      ],
      "metadata": {
        "id": "FNLGsWS6jJVj"
      },
      "execution_count": null,
      "outputs": []
    },
    {
      "cell_type": "markdown",
      "source": [
        "Q25.실패율"
      ],
      "metadata": {
        "id": "2pOannpxLtwE"
      }
    },
    {
      "cell_type": "code",
      "source": [
        "def solution(N, stages):\n",
        "    answer = []\n",
        "    length = len(stages)\n",
        "\n",
        "    # 스테이지 번호를 1부터 N까지 증가시키며\n",
        "    for i in range(1, N + 1):\n",
        "        # 해당 스테이지에 머물러 있는 사람의 수 계산\n",
        "        count = stages.count(i)\n",
        "        \n",
        "        # 실패율 계산\n",
        "        if length == 0:\n",
        "            fail = 0\n",
        "        else:\n",
        "            fail = count / length\n",
        "        \n",
        "        # 리스트에 (스테이지 번호, 실패율) 원소 삽입\n",
        "        answer.append((i, fail))\n",
        "        length -= count\n",
        "\n",
        "    # 실패율을 기준으로 각 스테이지를 내림차순 정렬\n",
        "    answer = sorted(answer, key=lambda t: t[1], reverse=True)\n",
        "    \n",
        "    # 정렬된 스테이지 번호 반환\n",
        "    answer = [i[0] for i in answer]\n",
        "    return answer"
      ],
      "metadata": {
        "id": "r5RtknjXjLov"
      },
      "execution_count": null,
      "outputs": []
    },
    {
      "cell_type": "markdown",
      "source": [
        "Q26.카드 정렬하기"
      ],
      "metadata": {
        "id": "z6dVFf_LLuRL"
      }
    },
    {
      "cell_type": "code",
      "source": [
        "import heapq\n",
        "\n",
        "n = int(input())\n",
        "\n",
        "# 힙(Heap)에 초기 카드 묶음을 모두 삽입\n",
        "heap = []\n",
        "for i in range(n):\n",
        "    data = int(input())\n",
        "    heapq.heappush(heap, data)\n",
        "\n",
        "result = 0\n",
        "\n",
        "# 힙(Heap)에 원소가 1개 남을 때까지\n",
        "while len(heap) != 1:\n",
        "    # 가장 작은 2개의 카드 묶음 꺼내기\n",
        "    one = heapq.heappop(heap)\n",
        "    two = heapq.heappop(heap)\n",
        "    # 카드 묶음을 합쳐서 다시 삽입\n",
        "    sum_value = one + two\n",
        "    result += sum_value\n",
        "    heapq.heappush(heap, sum_value)\n",
        "\n",
        "print(result)"
      ],
      "metadata": {
        "id": "T8ITdO50jNMA"
      },
      "execution_count": null,
      "outputs": []
    },
    {
      "cell_type": "markdown",
      "source": [
        "# **15장 이진 탐색**"
      ],
      "metadata": {
        "id": "ZLCtWhbRLu9p"
      }
    },
    {
      "cell_type": "markdown",
      "source": [
        "Q27.정렬된 배열에서 특정 수의 개수 구하기"
      ],
      "metadata": {
        "id": "BGf0b-lSLvks"
      }
    },
    {
      "cell_type": "code",
      "source": [
        "from bisect import bisect_left, bisect_right\n",
        "\n",
        "# 값이 [left_value, right_value]인 데이터의 개수를 반환하는 함수\n",
        "def count_by_range(array, left_value, right_value):\n",
        "    right_index = bisect_right(array, right_value)\n",
        "    left_index = bisect_left(array, left_value)\n",
        "    return right_index - left_index\n",
        "\n",
        "n, x = map(int, input().split()) # 데이터의 개수 N, 찾고자 하는 값 x 입력 받기\n",
        "array = list(map(int, input().split())) # 전체 데이터 입력 받기\n",
        "\n",
        "# 값이 [x, x] 범위에 있는 데이터의 개수 계산\n",
        "count = count_by_range(array, x, x)\n",
        "\n",
        "# 값이 x인 원소가 존재하지 않는다면\n",
        "if count == 0:\n",
        "    print(-1)\n",
        "# 값이 x인 원소가 존재한다면\n",
        "else:\n",
        "    print(count)"
      ],
      "metadata": {
        "id": "PChD2B5FjPSs"
      },
      "execution_count": null,
      "outputs": []
    },
    {
      "cell_type": "markdown",
      "source": [
        "Q28.고정점 찾기"
      ],
      "metadata": {
        "id": "RiafMVpxLxfZ"
      }
    },
    {
      "cell_type": "code",
      "source": [
        "# 이진 탐색 소스코드 구현(재귀 함수)\n",
        "def binary_search(array, start, end):\n",
        "    if start > end:\n",
        "        return None\n",
        "    mid = (start + end) // 2\n",
        "    # 고정점을 찾은 경우 인덱스 반환\n",
        "    if array[mid] == mid:\n",
        "        return mid\n",
        "    # 중간점이 가리키는 값보다 중간점이 작은 경우 왼쪽 확인\n",
        "    elif array[mid] > mid:\n",
        "        return binary_search(array, start, mid - 1)\n",
        "    # 중간점이 가리키는 값보다 중간점이 큰 경우 오른쪽 확인\n",
        "    else:\n",
        "        return binary_search(array, mid + 1, end)\n",
        "\n",
        "n = int(input())\n",
        "array = list(map(int, input().split()))\n",
        "\n",
        "# 이진 탐색(Binary Search) 수행\n",
        "index = binary_search(array, 0, n - 1)\n",
        "\n",
        "# 고정점이 없는 경우 -1 출력\n",
        "if index == None:\n",
        "    print(-1)\n",
        "# 고정점이 있는 경우 해당 인덱스 출력\n",
        "else:\n",
        "    print(index)"
      ],
      "metadata": {
        "id": "X1pjGMGujRT7"
      },
      "execution_count": null,
      "outputs": []
    },
    {
      "cell_type": "markdown",
      "source": [
        "Q29.공유기 설치"
      ],
      "metadata": {
        "id": "DActB6Z_LyOZ"
      }
    },
    {
      "cell_type": "code",
      "source": [
        "# 집의 개수(N)와 공유기의 개수(C)를 입력 받기\n",
        "n, c = list(map(int, input().split(' ')))\n",
        "\n",
        "# 전체 집의 좌표 정보를 입력 받기\n",
        "array = []\n",
        "for _ in range(n):\n",
        "     array.append(int(input()))\n",
        "array.sort() # 이진 탐색 수행을 위해 정렬 수행\n",
        "\n",
        "start = 1 # 가능한 최소 거리(min gap)\n",
        "end = array[-1] - array[0] # 가능한 최대 거리(max gap)\n",
        "result = 0\n",
        "\n",
        "while(start <= end):\n",
        "    mid = (start + end) // 2 # mid는 가장 인접한 두 공유기 사이의 거리(gap)을 의미\n",
        "    # 첫째 집에는 무조건 공유기를 설치한다고 가정\n",
        "    value = array[0]\n",
        "    count = 1\n",
        "    # 현재의 mid 값을 이용해 공유기를 설치하기\n",
        "    for i in range(1, n): # 앞에서부터 차근차근 설치 \n",
        "        if array[i] >= value + mid:\n",
        "            value = array[i]\n",
        "            count += 1\n",
        "    if count >= c: # C개 이상의 공유기를 설치할 수 있는 경우, 거리를 증가시키기\n",
        "        start = mid + 1\n",
        "        result = mid # 최적의 결과를 저장\n",
        "    else: # C개 이상의 공유기를 설치할 수 없는 경우, 거리를 감소시키기\n",
        "        end = mid - 1\n",
        "\n",
        "print(result)"
      ],
      "metadata": {
        "id": "Wy392NJejTAK"
      },
      "execution_count": null,
      "outputs": []
    },
    {
      "cell_type": "markdown",
      "source": [
        "Q30.가사 검색"
      ],
      "metadata": {
        "id": "VBN5iYXwLy7M"
      }
    },
    {
      "cell_type": "code",
      "source": [
        "from bisect import bisect_left, bisect_right\n",
        "\n",
        "# 값이 [left_value, right_value]인 데이터의 개수를 반환하는 함수\n",
        "def count_by_range(a, left_value, right_value):\n",
        "    right_index = bisect_right(a, right_value)\n",
        "    left_index = bisect_left(a, left_value)\n",
        "    return right_index - left_index\n",
        "\n",
        "# 모든 단어들을 길이마다 나누어서 저장하기 위한 리스트\n",
        "array = [[] for _ in range(10001)]\n",
        "# 모든 단어들을 길이마다 나누어서 뒤집어 저장하기 위한 리스트\n",
        "reversed_array = [[] for _ in range(10001)]\n",
        "\n",
        "def solution(words, queries):\n",
        "    answer = []\n",
        "    for word in words: # 모든 단어를 접미사 와일드카드 배열, 접두사 와일드카드 배열에 각각 삽입\n",
        "        array[len(word)].append(word) # 단어를 삽입\n",
        "        reversed_array[len(word)].append(word[::-1]) # 단어를 뒤집어서 삽입\n",
        "\n",
        "    for i in range(10001): # 이진 탐색을 수행하기 위해 각 단어 리스트 정렬 수행\n",
        "        array[i].sort()\n",
        "        reversed_array[i].sort()\n",
        "\n",
        "    for q in queries: # 쿼리를 하나씩 확인하며 처리\n",
        "        if q[0] != '?': # 접미사에 와일드 카드가 붙은 경우\n",
        "            res = count_by_range(array[len(q)], q.replace('?', 'a'), q.replace('?', 'z'))\n",
        "        else: # 접두사에 와일드 카드가 붙은 경우\n",
        "            res = count_by_range(reversed_array[len(q)], q[::-1].replace('?', 'a'), q[::-1].replace('?', 'z'))\n",
        "        # 검색된 단어의 개수를 저장\n",
        "        answer.append(res)\n",
        "    return "
      ],
      "metadata": {
        "id": "U89DqPcWjUt5"
      },
      "execution_count": null,
      "outputs": []
    },
    {
      "cell_type": "markdown",
      "source": [
        "# **16장 다이나믹 프로그래밍**"
      ],
      "metadata": {
        "id": "GkJefN8mLzib"
      }
    },
    {
      "cell_type": "markdown",
      "source": [
        "Q31.금광"
      ],
      "metadata": {
        "id": "pKvhh4whL1EC"
      }
    },
    {
      "cell_type": "code",
      "source": [
        "# 테스트 케이스(Test Case) 입력\n",
        "for tc in range(int(input())):\n",
        "    # 금광 정보 입력\n",
        "    n, m = map(int, input().split())\n",
        "    array = list(map(int, input().split()))\n",
        "\n",
        "    # 다이나믹 프로그래밍을 위한 2차원 DP 테이블 초기화\n",
        "    dp = []\n",
        "    index = 0\n",
        "    for i in range(n):\n",
        "        dp.append(array[index:index + m])\n",
        "        index += m\n",
        "\n",
        "    # 다이나믹 프로그래밍 진행\n",
        "    for j in range(1, m):\n",
        "        for i in range(n):\n",
        "            # 왼쪽 위에서 오는 경우\n",
        "            if i == 0:\n",
        "                left_up = 0\n",
        "            else:\n",
        "                left_up = dp[i - 1][j - 1]\n",
        "            # 왼쪽 아래에서 오는 경우\n",
        "            if i == n - 1:\n",
        "                left_down = 0\n",
        "            else:\n",
        "                left_down = dp[i + 1][j - 1]\n",
        "            # 왼쪽에서 오는 경우\n",
        "            left = dp[i][j - 1]\n",
        "            dp[i][j] = dp[i][j] + max(left_up, left_down, left)\n",
        "\n",
        "    result = 0\n",
        "    for i in range(n):\n",
        "        result = max(result, dp[i][m - 1])\n",
        "\n",
        "    print(result)"
      ],
      "metadata": {
        "id": "NguHsI3YjX8c"
      },
      "execution_count": null,
      "outputs": []
    },
    {
      "cell_type": "markdown",
      "source": [
        "Q32.정수 삼각형"
      ],
      "metadata": {
        "id": "BOzLtu68L5Fe"
      }
    },
    {
      "cell_type": "code",
      "source": [
        "n = int(input())\n",
        "dp = [] # 다이나믹 프로그래밍을 위한 DP 테이블 초기화\n",
        "\n",
        "for _ in range(n):\n",
        "    dp.append(list(map(int, input().split())))\n",
        "\n",
        "# 다이나믹 프로그래밍으로 2번째 줄부터 내려가면서 확인\n",
        "for i in range(1, n):\n",
        "    for j in range(i + 1):\n",
        "        # 왼쪽 위에서 내려오는 경우\n",
        "        if j == 0:\n",
        "            up_left = 0\n",
        "        else:\n",
        "            up_left = dp[i - 1][j - 1]\n",
        "        # 바로 위에서 내려오는 경우\n",
        "        if j == i:\n",
        "            up = 0\n",
        "        else:\n",
        "            up = dp[i - 1][j]\n",
        "        # 최대 합을 저장\n",
        "        dp[i][j] = dp[i][j] + max(up_left, up)\n",
        "\n",
        "print(max(dp[n - 1]))"
      ],
      "metadata": {
        "id": "EBURNdDcjfg7"
      },
      "execution_count": null,
      "outputs": []
    },
    {
      "cell_type": "markdown",
      "source": [
        "Q33.퇴사"
      ],
      "metadata": {
        "id": "R8_139P9L54-"
      }
    },
    {
      "cell_type": "code",
      "source": [
        "n = int(input()) # 전체 상담 개수\n",
        "t = [] # 각 상담을 완료하는데 걸리는 기간\n",
        "p = [] # 각 상담을 완료했을 때 받을 수 있는 금액\n",
        "dp = [0] * (n + 1) # 다이나믹 프로그래밍을 위한 1차원 DP 테이블 초기화\n",
        "max_value = 0\n",
        "\n",
        "for _ in range(n):\n",
        "    x, y = map(int, input().split())\n",
        "    t.append(x)\n",
        "    p.append(y)\n",
        "\n",
        "# 리스트를 뒤에서부터 거꾸로 확인\n",
        "for i in range(n - 1, -1, -1):\n",
        "    time = t[i] + i\n",
        "    # 상담이 기간 안에 끝나는 경우\n",
        "    if time <= n:\n",
        "        # 점화식에 맞게, 현재까지의 최고 이익 계산\n",
        "        dp[i] = max(p[i] + dp[time], max_value)\n",
        "        max_value = dp[i]\n",
        "    # 상담이 기간을 벗어나는 경우\n",
        "    else:\n",
        "        dp[i] = max_value\n",
        "\n",
        "print(max_value)"
      ],
      "metadata": {
        "id": "nNhsTkYijhdK"
      },
      "execution_count": null,
      "outputs": []
    },
    {
      "cell_type": "markdown",
      "source": [
        "Q34.병사 배치하기"
      ],
      "metadata": {
        "id": "cO-xwWbWL6hJ"
      }
    },
    {
      "cell_type": "code",
      "source": [
        "n = int(input())\n",
        "array = list(map(int, input().split()))\n",
        "# 순서를 뒤집어 '최장 증가 부분 수열' 문제로 변환\n",
        "array.reverse()\n",
        "\n",
        "# 다이나믹 프로그래밍을 위한 1차원 DP 테이블 초기화\n",
        "dp = [1] * n\n",
        "\n",
        "# 가장 긴 증가하는 부분 수열(LIS) 알고리즘 수행\n",
        "for i in range(1, n):\n",
        "    for j in range(0, i):\n",
        "        if array[j] < array[i]:\n",
        "            dp[i] = max(dp[i], dp[j] + 1)\n",
        "\n",
        "# 열외해야 하는 병사의 최소 수를 출력\n",
        "print(n - max(dp))"
      ],
      "metadata": {
        "id": "f7dw8pr1ji3t"
      },
      "execution_count": null,
      "outputs": []
    },
    {
      "cell_type": "markdown",
      "source": [
        "Q35.못생긴 수"
      ],
      "metadata": {
        "id": "5Vn61tysL7iC"
      }
    },
    {
      "cell_type": "code",
      "source": [
        "n = int(input())\n",
        "\n",
        "ugly = [0] * n # 못생긴 수를 담기 위한 테이블 (1차원 DP 테이블)\n",
        "ugly[0] = 1 # 첫 번째 못생긴 수는 1\n",
        "\n",
        "# 2배, 3배, 5배를 위한 인덱스\n",
        "i2 = i3 = i5 = 0\n",
        "# 처음에 곱셈 값을 초기화\n",
        "next2, next3, next5 = 2, 3, 5\n",
        "\n",
        "# 1부터 n까지의 못생긴 수들을 찾기\n",
        "for l in range(1, n):\n",
        "    # 가능한 곱셈 결과 중에서 가장 작은 수를 선택\n",
        "    ugly[l] = min(next2, next3, next5)\n",
        "    # 인덱스에 따라서 곱셈 결과를 증가\n",
        "    if ugly[l] == next2:\n",
        "        i2 += 1\n",
        "        next2 = ugly[i2] * 2\n",
        "    if ugly[l] == next3:\n",
        "        i3 += 1\n",
        "        next3 = ugly[i3] * 3\n",
        "    if ugly[l] == next5:\n",
        "        i5 += 1\n",
        "        next5 = ugly[i5] * 5\n",
        "\n",
        "# n번째 못생긴 수를 출력\n",
        "print(ugly[n - 1])"
      ],
      "metadata": {
        "id": "CxtfYrQSjka5"
      },
      "execution_count": null,
      "outputs": []
    },
    {
      "cell_type": "markdown",
      "source": [
        "Q36.편집 거리"
      ],
      "metadata": {
        "id": "3juZFChsL8V_"
      }
    },
    {
      "cell_type": "code",
      "source": [
        "# 최소 편집 거리(Edit Distance) 계산을 위한 다이나믹 프로그래밍\n",
        "def edit_dist(str1, str2):\n",
        "    n = len(str1)\n",
        "    m = len(str2)\n",
        "\n",
        "    # 다이나믹 프로그래밍을 위한 2차원 DP 테이블 초기화\n",
        "    dp = [[0] * (m + 1) for _ in range(n + 1)]\n",
        "\n",
        "    # DP 테이블 초기 설정\n",
        "    for i in range(1, n + 1):\n",
        "        dp[i][0] = i\n",
        "    for j in range(1, m + 1):\n",
        "        dp[0][j] = j\n",
        "    \n",
        "    # 최소 편집 거리 계산\n",
        "    for i in range(1, n + 1):\n",
        "        for j in range(1, m + 1):\n",
        "            # 문자가 같다면, 왼쪽 위에 해당하는 수를 그대로 대입\n",
        "            if str1[i - 1] == str2[j - 1]:\n",
        "                dp[i][j] = dp[i - 1][j - 1]\n",
        "            # 문자가 다르다면, 세 가지 경우 중에서 최솟값 찾기\n",
        "            else: # 삽입(왼쪽), 삭제(위쪽), 교체(왼쪽 위) 중에서 최소 비용을 찾아 대입\n",
        "                dp[i][j] = 1 + min(dp[i][j - 1], dp[i - 1][j], dp[i - 1][j - 1])\n",
        "\n",
        "    return dp[n][m]\n",
        "\n",
        "# 두 문자열을 입력 받기\n",
        "str1 = input()\n",
        "str2 = input()\n",
        "\n",
        "# 최소 편집 거리 출력\n",
        "print(edit_dist(str1, str2))"
      ],
      "metadata": {
        "id": "ZRe5FTSUjmQH"
      },
      "execution_count": null,
      "outputs": []
    },
    {
      "cell_type": "markdown",
      "source": [
        "# **17장 최단 경로**"
      ],
      "metadata": {
        "id": "uadxuWwhL9Fx"
      }
    },
    {
      "cell_type": "markdown",
      "source": [
        "Q37.플로이드"
      ],
      "metadata": {
        "id": "VrMhbuzUL-Vn"
      }
    },
    {
      "cell_type": "code",
      "source": [
        "INF = int(1e9) # 무한을 의미하는 값으로 10억을 설정\n",
        "\n",
        "# 노드의 개수 및 간선의 개수를 입력받기\n",
        "n = int(input())\n",
        "m = int(input())\n",
        "# 2차원 리스트(그래프 표현)를 만들고, 모든 값을 무한으로 초기화\n",
        "graph = [[INF] * (n + 1) for _ in range(n + 1)]\n",
        "\n",
        "# 자기 자신에서 자기 자신으로 가는 비용은 0으로 초기화\n",
        "for a in range(1, n + 1):\n",
        "    for b in range(1, n + 1):\n",
        "        if a == b:\n",
        "            graph[a][b] = 0\n",
        "\n",
        "# 각 간선에 대한 정보를 입력받아, 그 값으로 초기화\n",
        "for _ in range(m):\n",
        "    # A에서 B로 가는 비용은 C라고 설정\n",
        "    a, b, c = map(int, input().split())\n",
        "    # 가장 짧은 간선 정보만 저장\n",
        "    if c < graph[a][b]:\n",
        "        graph[a][b] = c\n",
        "\n",
        "# 점화식에 따라 플로이드 워셜 알고리즘을 수행\n",
        "for k in range(1, n + 1):\n",
        "    for a in range(1, n + 1):\n",
        "        for b in range(1, n + 1):\n",
        "            graph[a][b] = min(graph[a][b], graph[a][k] + graph[k][b])\n",
        "\n",
        "# 수행된 결과를 출력\n",
        "for a in range(1, n + 1):\n",
        "    for b in range(1, n + 1):\n",
        "        # 도달할 수 없는 경우, 0을 출력\n",
        "        if graph[a][b] == INF:\n",
        "            print(0, end=\" \")\n",
        "        # 도달할 수 있는 경우 거리를 출력\n",
        "        else:\n",
        "            print(graph[a][b], end=\" \")\n",
        "    print()"
      ],
      "metadata": {
        "id": "ie3Eu_LRjoea"
      },
      "execution_count": null,
      "outputs": []
    },
    {
      "cell_type": "markdown",
      "source": [
        "Q38.정확한 순위"
      ],
      "metadata": {
        "id": "kZY-QgbAL-38"
      }
    },
    {
      "cell_type": "code",
      "source": [
        "INF = int(1e9) # 무한을 의미하는 값으로 10억을 설정\n",
        "\n",
        "# 노드의 개수, 간선의 개수를 입력받기\n",
        "n, m = map(int, input().split())\n",
        "# 2차원 리스트(그래프 표현)를 만들고, 모든 값을 무한으로 초기화\n",
        "graph = [[INF] * (n + 1) for _ in range(n + 1)]\n",
        " \n",
        "# 자기 자신에서 자기 자신으로 가는 비용은 0으로 초기화\n",
        "for a in range(1, n + 1):\n",
        "    for b in range(1, n + 1):\n",
        "        if a == b:\n",
        "            graph[a][b] = 0\n",
        " \n",
        "# 각 간선에 대한 정보를 입력 받아, 그 값으로 초기화\n",
        "for _ in range(m):\n",
        "    # A에서 B로 가는 비용을 1로 설정\n",
        "    a, b = map(int, input().split())\n",
        "    graph[a][b] = 1\n",
        " \n",
        "# 점화식에 따라 플로이드 워셜 알고리즘을 수행\n",
        "for k in range(1, n + 1):\n",
        "    for a in range(1, n + 1):\n",
        "        for b in range(1, n + 1):\n",
        "            graph[a][b] = min(graph[a][b], graph[a][k] + graph[k][b])\n",
        "\n",
        "result = 0\n",
        "# 각 학생을 번호에 따라 한 명씩 확인하며 도달 가능한지 체크\n",
        "for i in range(1, n + 1):\n",
        "    count = 0\n",
        "    for j in range(1, n + 1):\n",
        "        if graph[i][j] != INF or graph[j][i] != INF:\n",
        "            count += 1\n",
        "    if count == n:\n",
        "        result += 1\n",
        "print(result)"
      ],
      "metadata": {
        "id": "7PyizzbejpCe"
      },
      "execution_count": null,
      "outputs": []
    },
    {
      "cell_type": "markdown",
      "source": [
        "Q39.화성 탐사"
      ],
      "metadata": {
        "id": "98k0ZdX3L_m2"
      }
    },
    {
      "cell_type": "code",
      "source": [
        "import heapq\n",
        "import sys\n",
        "input = sys.stdin.readline\n",
        "INF = int(1e9) # 무한을 의미하는 값으로 10억을 설정\n",
        "\n",
        "dx = [-1, 0, 1, 0]\n",
        "dy = [0, 1, 0, -1]\n",
        "\n",
        "# 전체 테스트 케이스(Test Case)만큼 반복\n",
        "for tc in range(int(input())):\n",
        "    # 노드의 개수를 입력받기\n",
        "    n = int(input())\n",
        "\n",
        "    # 전체 맵 정보를 입력받기\n",
        "    graph = []\n",
        "    for i in range(n):\n",
        "        graph.append(list(map(int, input().split())))\n",
        "\n",
        "    # 최단 거리 테이블을 모두 무한으로 초기화\n",
        "    distance = [[INF] * n for _ in range(n)]\n",
        "\n",
        "    x, y = 0, 0 # 시작 위치는 (0, 0)\n",
        "    # 시작 노드로 가기 위한 비용은 (0, 0) 위치의 값으로 설정하여, 큐에 삽입\n",
        "    q = [(graph[x][y], x, y)]\n",
        "    distance[x][y] = graph[x][y]\n",
        "\n",
        "    # 다익스트라 알고리즘을 수행\n",
        "    while q:\n",
        "          # 가장 최단 거리가 짧은 노드에 대한 정보를 꺼내기\n",
        "          dist, x, y = heapq.heappop(q)\n",
        "          # 현재 노드가 이미 처리된 적이 있는 노드라면 무시\n",
        "          if distance[x][y] < dist:\n",
        "              continue\n",
        "          # 현재 노드와 연결된 다른 인접한 노드들을 확인\n",
        "          for i in range(4):\n",
        "              nx = x + dx[i]\n",
        "              ny = y + dy[i]\n",
        "              # 맵의 범위를 벗어나는 경우 무시\n",
        "              if nx < 0 or nx >= n or ny < 0 or ny >= n:\n",
        "                  continue\n",
        "              cost = dist + graph[nx][ny]\n",
        "              # 현재 노드를 거쳐서, 다른 노드로 이동하는 거리가 더 짧은 경우\n",
        "              if cost < distance[nx][ny]:\n",
        "                  distance[nx][ny] = cost\n",
        "                  heapq.heappush(q, (cost, nx, ny))\n",
        "\n",
        "    print(distance[n - 1][n - 1])"
      ],
      "metadata": {
        "id": "XJlQmJ6PkjYP"
      },
      "execution_count": null,
      "outputs": []
    },
    {
      "cell_type": "markdown",
      "source": [
        "Q40.숨바꼭질"
      ],
      "metadata": {
        "id": "0LGrNTBKMAXA"
      }
    },
    {
      "cell_type": "code",
      "source": [
        "import heapq\n",
        "import sys\n",
        "input = sys.stdin.readline\n",
        "INF = int(1e9) # 무한을 의미하는 값으로 10억을 설정\n",
        "\n",
        "# 노드의 개수, 간선의 개수를 입력받기\n",
        "n, m = map(int, input().split())\n",
        "# 시작 노드를 1번 헛간으로 설정\n",
        "start = 1\n",
        "# 각 노드에 연결되어 있는 노드에 대한 정보를 담는 리스트를 만들기\n",
        "graph = [[] for i in range(n + 1)]\n",
        "# 최단 거리 테이블을 모두 무한으로 초기화\n",
        "distance = [INF] * (n + 1)\n",
        "\n",
        "# 모든 간선 정보를 입력받기\n",
        "for _ in range(m):\n",
        "    a, b = map(int, input().split())\n",
        "    # a번 노드와 b번 노드의 이동 비용이 1이라는 의미(양방향)\n",
        "    graph[a].append((b, 1))\n",
        "    graph[b].append((a, 1))\n",
        "\n",
        "def dijkstra(start):\n",
        "    q = []\n",
        "    # 시작 노드로 가기 위한 최단 경로는 0으로 설정하여, 큐에 삽입\n",
        "    heapq.heappush(q, (0, start))\n",
        "    distance[start] = 0\n",
        "    while q: # 큐가 비어있지 않다면\n",
        "        # 가장 최단 거리가 짧은 노드에 대한 정보를 꺼내기\n",
        "        dist, now = heapq.heappop(q)\n",
        "        # 현재 노드가 이미 처리된 적이 있는 노드라면 무시\n",
        "        if distance[now] < dist:\n",
        "            continue\n",
        "        # 현재 노드와 연결된 다른 인접한 노드들을 확인\n",
        "        for i in graph[now]:\n",
        "            cost = dist + i[1]\n",
        "            # 현재 노드를 거쳐서, 다른 노드로 이동하는 거리가 더 짧은 경우\n",
        "            if cost < distance[i[0]]:\n",
        "                distance[i[0]] = cost\n",
        "                heapq.heappush(q, (cost, i[0]))\n",
        "\n",
        "# 다익스트라 알고리즘을 수행\n",
        "dijkstra(start)\n",
        "\n",
        "# 가장 최단 거리가 먼 노드 번호(동빈이가 숨을 헛간의 번호)\n",
        "max_node = 0\n",
        "# 도달할 수 있는 노드 중에서, 가장 최단 거리가 먼 노드와의 최단 거리\n",
        "max_distance = 0\n",
        "# 가장 최단 거리가 먼 노드와의 최단 거리와 동일한 최단 거리를 가지는 노드들의 리스트\n",
        "result = []\n",
        "\n",
        "for i in range(1, n + 1):\n",
        "    if max_distance < distance[i]:\n",
        "        max_node = i\n",
        "        max_distance = distance[i]\n",
        "        result = [max_node]\n",
        "    elif max_distance == distance[i]:\n",
        "        result.append(i)\n",
        "\n",
        "print(max_node, max_distance, len(result))"
      ],
      "metadata": {
        "id": "oJCRcgNVqBQz"
      },
      "execution_count": null,
      "outputs": []
    },
    {
      "cell_type": "markdown",
      "source": [
        "# **18장 기타 그래프 이론**"
      ],
      "metadata": {
        "id": "y8E4rGz_MBhF"
      }
    },
    {
      "cell_type": "markdown",
      "source": [
        "Q41.여행 계획"
      ],
      "metadata": {
        "id": "iuqG1_LbMCoi"
      }
    },
    {
      "cell_type": "code",
      "source": [
        "# 특정 원소가 속한 집합을 찾기\n",
        "def find_parent(parent, x):\n",
        "    # 루트 노드가 아니라면, 루트 노드를 찾을 때까지 재귀적으로 호출\n",
        "    if parent[x] != x:\n",
        "        parent[x] = find_parent(parent, parent[x])\n",
        "    return parent[x]\n",
        "\n",
        "# 두 원소가 속한 집합을 합치기\n",
        "def union_parent(parent, a, b):\n",
        "    a = find_parent(parent, a)\n",
        "    b = find_parent(parent, b)\n",
        "    if a < b:\n",
        "        parent[b] = a\n",
        "    else:\n",
        "        parent[a] = b\n",
        "\n",
        "# 여행지의 개수와 여행 계획에 속한 여행지의 개수 입력받기\n",
        "n, m = map(int, input().split())\n",
        "parent = [0] * (n + 1) # 부모 테이블 초기화\n",
        "\n",
        "# 부모 테이블상에서, 부모를 자기 자신으로 초기화\n",
        "for i in range(1, n + 1):\n",
        "    parent[i] = i\n",
        "\n",
        "# Union 연산을 각각 수행\n",
        "for i in range(n):\n",
        "    data = list(map(int, input().split()))\n",
        "    for j in range(n):\n",
        "        if data[j] == 1: # 연결된 경우 합집합(Union) 연산 수행\n",
        "            union_parent(parent, i + 1, j + 1)\n",
        "\n",
        "# 여행 계획 입력받기\n",
        "plan = list(map(int, input().split()))\n",
        "\n",
        "result = True\n",
        "# 여행 계획에 속하는 모든 노드의 루트가 동일한지 확인\n",
        "for i in range(m - 1):\n",
        "    if find_parent(parent, plan[i]) != find_parent(parent, plan[i + 1]):\n",
        "        result = False\n",
        "\n",
        "# 여행 계획에 속하는 모든 노드가 서로 연결되어 있는지(루트가 동일한지) 확인\n",
        "if result:\n",
        "    print(\"YES\")\n",
        "else:\n",
        "    print(\"NO\")"
      ],
      "metadata": {
        "id": "-qHBMLQgqDXf"
      },
      "execution_count": null,
      "outputs": []
    },
    {
      "cell_type": "markdown",
      "source": [
        "Q42.탑승구"
      ],
      "metadata": {
        "id": "GdaDzulgMDl5"
      }
    },
    {
      "cell_type": "code",
      "source": [
        "# 특정 원소가 속한 집합을 찾기\n",
        "def find_parent(parent, x):\n",
        "    # 루트 노드가 아니라면, 루트 노드를 찾을 때까지 재귀적으로 호출\n",
        "    if parent[x] != x:\n",
        "        parent[x] = find_parent(parent, parent[x])\n",
        "    return parent[x]\n",
        "\n",
        "# 두 원소가 속한 집합을 합치기\n",
        "def union_parent(parent, a, b):\n",
        "    a = find_parent(parent, a)\n",
        "    b = find_parent(parent, b)\n",
        "    if a < b:\n",
        "        parent[b] = a\n",
        "    else:\n",
        "        parent[a] = b\n",
        "\n",
        "# 탑승구의 개수 입력받기\n",
        "g = int(input())\n",
        "# 비행기의 개수 입력받기\n",
        "p = int(input())\n",
        "parent = [0] * (g + 1) # 부모 테이블 초기화\n",
        "\n",
        "# 부모 테이블상에서, 부모를 자기 자신으로 초기화\n",
        "for i in range(1, g + 1):\n",
        "    parent[i] = i\n",
        "\n",
        "result = 0\n",
        "for _ in range(p):\n",
        "    data = find_parent(parent, int(input())) # 현재 비행기의 탑승구의 루트 확인\n",
        "    if data == 0: # 현재 루트가 0이라면, 종료\n",
        "        break\n",
        "    union_parent(parent, data, data - 1) # 그렇지 않다면 바로 왼쪽의 집합과 합치기\n",
        "    result += 1\n",
        "\n",
        "print(result)"
      ],
      "metadata": {
        "id": "BdMh7PqgqGv9"
      },
      "execution_count": null,
      "outputs": []
    },
    {
      "cell_type": "markdown",
      "source": [
        "Q43.어두운 길"
      ],
      "metadata": {
        "id": "X8U4-ulGMEJG"
      }
    },
    {
      "cell_type": "code",
      "source": [
        "# 특정 원소가 속한 집합을 찾기\n",
        "def find_parent(parent, x):\n",
        "    # 루트 노드가 아니라면, 루트 노드를 찾을 때까지 재귀적으로 호출\n",
        "    if parent[x] != x:\n",
        "        parent[x] = find_parent(parent, parent[x])\n",
        "    return parent[x]\n",
        " \n",
        "# 두 원소가 속한 집합을 합치기\n",
        "def union_parent(parent, a, b):\n",
        "    a = find_parent(parent, a)\n",
        "    b = find_parent(parent, b)\n",
        "    if a < b:\n",
        "        parent[b] = a\n",
        "    else:\n",
        "        parent[a] = b\n",
        " \n",
        "# 노드의 개수와 간선의 개수 입력받기\n",
        "n, m = map(int, input().split())\n",
        "parent = [0] * (n + 1) # 부모 테이블 초기화\n",
        "\n",
        "# 모든 간선을 담을 리스트와, 최종 비용을 담을 변수\n",
        "edges = []\n",
        "result = 0\n",
        "\n",
        "# 부모 테이블상에서, 부모를 자기 자신으로 초기화\n",
        "for i in range(1, n + 1):\n",
        "    parent[i] = i\n",
        "\n",
        "# 모든 간선에 대한 정보를 입력받기\n",
        "for _ in range(m):\n",
        "    x, y, z = map(int, input().split())\n",
        "    # 비용순으로 정렬하기 위해서 튜플의 첫 번째 원소를 비용으로 설정\n",
        "    edges.append((z, x, y))\n",
        "\n",
        "# 간선을 비용순으로 정렬\n",
        "edges.sort()\n",
        "total = 0 # 전체 가로등 비용\n",
        "\n",
        "# 간선을 하나씩 확인하며\n",
        "for edge in edges:\n",
        "    cost, a, b = edge\n",
        "    total += cost\n",
        "    # 사이클이 발생하지 않는 경우에만 집합에 포함\n",
        "    if find_parent(parent, a) != find_parent(parent, b):\n",
        "        union_parent(parent, a, b)\n",
        "        result += cost\n",
        "\n",
        "print(total - result)"
      ],
      "metadata": {
        "id": "eqdrXeINqI1W"
      },
      "execution_count": null,
      "outputs": []
    },
    {
      "cell_type": "markdown",
      "source": [
        "Q44.행성 터널"
      ],
      "metadata": {
        "id": "BfA7432kMFTw"
      }
    },
    {
      "cell_type": "code",
      "source": [
        "# 특정 원소가 속한 집합을 찾기\n",
        "def find_parent(parent, x):\n",
        "    # 루트 노드가 아니라면, 루트 노드를 찾을 때까지 재귀적으로 호출\n",
        "    if parent[x] != x:\n",
        "        parent[x] = find_parent(parent, parent[x])\n",
        "    return parent[x]\n",
        " \n",
        "# 두 원소가 속한 집합을 합치기\n",
        "def union_parent(parent, a, b):\n",
        "    a = find_parent(parent, a)\n",
        "    b = find_parent(parent, b)\n",
        "    if a < b:\n",
        "        parent[b] = a\n",
        "    else:\n",
        "        parent[a] = b\n",
        " \n",
        "# 노드의 개수 입력받기\n",
        "n = int(input())\n",
        "parent = [0] * (n + 1) # 부모 테이블 초기화\n",
        "\n",
        "# 모든 간선을 담을 리스트와, 최종 비용을 담을 변수\n",
        "edges = []\n",
        "result = 0\n",
        "\n",
        "# 부모 테이블상에서, 부모를 자기 자신으로 초기화\n",
        "for i in range(1, n + 1):\n",
        "    parent[i] = i\n",
        "\n",
        "x = []\n",
        "y = []\n",
        "z = []\n",
        "\n",
        "# 모든 노드에 대한 좌표 값 입력받기\n",
        "for i in range(1, n + 1):\n",
        "    data = list(map(int, input().split()))\n",
        "    x.append((data[0], i))\n",
        "    y.append((data[1], i))\n",
        "    z.append((data[2], i))\n",
        "\n",
        "x.sort()\n",
        "y.sort()\n",
        "z.sort()\n",
        "\n",
        "# 인접한 노드들로부터 간선 정보를 추출하여 처리\n",
        "for i in range(n - 1):\n",
        "    # 비용순으로 정렬하기 위해서 튜플의 첫 번째 원소를 비용으로 설정\n",
        "    edges.append((x[i + 1][0] - x[i][0], x[i][1], x[i + 1][1]))\n",
        "    edges.append((y[i + 1][0] - y[i][0], y[i][1], y[i + 1][1]))\n",
        "    edges.append((z[i + 1][0] - z[i][0], z[i][1], z[i + 1][1]))\n",
        "\n",
        "# 간선을 비용순으로 정렬\n",
        "edges.sort()\n",
        "\n",
        "# 간선을 하나씩 확인하며\n",
        "for edge in edges:\n",
        "    cost, a, b = edge\n",
        "    # 사이클이 발생하지 않는 경우에만 집합에 포함\n",
        "    if find_parent(parent, a) != find_parent(parent, b):\n",
        "        union_parent(parent, a, b)\n",
        "        result += cost\n",
        "\n",
        "print(result)"
      ],
      "metadata": {
        "id": "oHL8geccqKnU"
      },
      "execution_count": null,
      "outputs": []
    },
    {
      "cell_type": "markdown",
      "source": [
        "Q45.최종 순위"
      ],
      "metadata": {
        "id": "u_tB1nPLMF5N"
      }
    },
    {
      "cell_type": "code",
      "source": [
        "from collections import deque\n",
        "\n",
        "# 테스트 케이스(Test Case)만큼 반복\n",
        "for tc in range(int(input())):\n",
        "    # 노드의 개수 입력 받기\n",
        "    n = int(input())\n",
        "    # 모든 노드에 대한 진입차수는 0으로 초기화\n",
        "    indegree = [0] * (n + 1)\n",
        "    # 각 노드에 연결된 간선 정보를 담기 위한 인접 행렬 초기화\n",
        "    graph = [[False] * (n + 1) for i in range(n + 1)]\n",
        "\n",
        "    # 작년 순위 정보 입력\n",
        "    data = list(map(int, input().split()))\n",
        "    # 방향 그래프의 간선 정보 초기화\n",
        "    for i in range(n):\n",
        "        for j in range(i + 1, n):\n",
        "            graph[data[i]][data[j]] = True\n",
        "            indegree[data[j]] += 1\n",
        "\n",
        "    # 올해 변경된 순위 정보 입력\n",
        "    m = int(input())\n",
        "    for i in range(m):\n",
        "        a, b = map(int, input().split())\n",
        "        # 간선의 방향 뒤집기\n",
        "        if graph[a][b]:\n",
        "            graph[a][b] = False\n",
        "            graph[b][a] = True\n",
        "            indegree[a] += 1\n",
        "            indegree[b] -= 1\n",
        "        else:\n",
        "            graph[a][b] = True\n",
        "            graph[b][a] = False\n",
        "            indegree[a] -= 1\n",
        "            indegree[b] += 1\n",
        "\n",
        "    # 위상 정렬(Topology Sort) 시작\n",
        "    result = [] # 알고리즘 수행 결과를 담을 리스트\n",
        "    q = deque() # 큐 기능을 위한 deque 라이브러리 사용\n",
        "\n",
        "    # 처음 시작할 때는 진입차수가 0인 노드를 큐에 삽입\n",
        "    for i in range(1, n + 1):\n",
        "        if indegree[i] == 0:\n",
        "            q.append(i)\n",
        "\n",
        "    certain = True # 위상 정렬 결과가 오직 하나인지의 여부\n",
        "    cycle = False # 그래프 내 사이클이 존재하는지 여부\n",
        "\n",
        "    # 정확히 노드의 개수만큼 반복\n",
        "    for i in range(n):\n",
        "        # 큐가 비어 있다면 사이클이 발생했다는 의미\n",
        "        if len(q) == 0:\n",
        "            cycle = True\n",
        "            break\n",
        "        # 큐의 원소가 2개 이상이라면 가능한 정렬 결과가 여러 개라는 의미\n",
        "        if len(q) >= 2:\n",
        "            certain = False\n",
        "            break\n",
        "        # 큐에서 원소 꺼내기\n",
        "        now = q.popleft()\n",
        "        result.append(now)\n",
        "        # 해당 원소와 연결된 노드들의 진입차수에서 1 빼기\n",
        "        for j in range(1, n + 1):\n",
        "            if graph[now][j]:\n",
        "                indegree[j] -= 1\n",
        "                # 새롭게 진입차수가 0이 되는 노드를 큐에 삽입\n",
        "                if indegree[j] == 0:\n",
        "                    q.append(j)\n",
        "\n",
        "    # 사이클이 발생하는 경우(일관성이 없는 경우)\n",
        "    if cycle:\n",
        "        print(\"IMPOSSIBLE\")\n",
        "    # 위상 정렬 결과가 여러 개인 경우\n",
        "    elif not certain:\n",
        "        print(\"?\")\n",
        "    # 위상 정렬을 수행한 결과 출력\n",
        "    else:\n",
        "        for i in result:\n",
        "            print(i, end=' ')\n",
        "        print()"
      ],
      "metadata": {
        "id": "MSPGYI_aqMQz"
      },
      "execution_count": null,
      "outputs": []
    }
  ]
}